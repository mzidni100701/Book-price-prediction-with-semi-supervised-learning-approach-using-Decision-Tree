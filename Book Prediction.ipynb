{
  "nbformat": 4,
  "nbformat_minor": 0,
  "metadata": {
    "colab": {
      "name": "Hafiz.ipynb",
      "provenance": [],
      "toc_visible": true
    },
    "kernelspec": {
      "display_name": "Python 3",
      "language": "python",
      "name": "python3"
    },
    "language_info": {
      "codemirror_mode": {
        "name": "ipython",
        "version": 3
      },
      "file_extension": ".py",
      "mimetype": "text/x-python",
      "name": "python",
      "nbconvert_exporter": "python",
      "pygments_lexer": "ipython3",
      "version": "3.7.3"
    }
  },
  "cells": [
    {
      "cell_type": "markdown",
      "metadata": {
        "id": "aGBKe8xWDpei"
      },
      "source": [
        "# Semi-Supervised Learning: Book Price Prediction"
      ]
    },
    {
      "cell_type": "markdown",
      "metadata": {
        "id": "5DjNztRoD5GJ"
      },
      "source": [
        "##Libraries"
      ]
    },
    {
      "cell_type": "code",
      "metadata": {
        "id": "GFzlbg9PDpep"
      },
      "source": [
        "import pandas as pd\n",
        "import numpy as np\n",
        "import matplotlib.pyplot as plt\n",
        "import seaborn as sns\n",
        "from sklearn.preprocessing import OneHotEncoder, StandardScaler\n",
        "from sklearn.linear_model import LinearRegression\n",
        "from sklearn.metrics import mean_squared_error, r2_score\n",
        "from sklearn.neighbors import KNeighborsRegressor\n",
        "from sklearn.tree import DecisionTreeRegressor\n",
        "from sklearn.ensemble import RandomForestRegressor, AdaBoostRegressor, GradientBoostingRegressor\n",
        "from xgboost import XGBRegressor\n",
        "from sklearn.model_selection import GridSearchCV\n",
        "import warnings\n",
        "warnings.filterwarnings('ignore')"
      ],
      "execution_count": null,
      "outputs": []
    },
    {
      "cell_type": "markdown",
      "metadata": {
        "id": "SxGIuaT_Dper"
      },
      "source": [
        "## Data Exploration"
      ]
    },
    {
      "cell_type": "markdown",
      "metadata": {
        "id": "xKXEH6APDpes"
      },
      "source": [
        "### General"
      ]
    },
    {
      "cell_type": "code",
      "metadata": {
        "id": "SZMZ-LwYDpes",
        "outputId": "1247c06a-5418-44b2-caa1-ace8fdcb930b"
      },
      "source": [
        "public_train = pd.read_csv('public-train.csv', sep = '|')\n",
        "public_test = pd.read_csv('public-test.csv', sep = '|')\n",
        "public_train_labeled = public_train[public_train.price.isnull()==False]\n",
        "unlabeled = public_train[public_train.price.isnull()==True]\n",
        "labeled = pd.concat([public_train_labeled, public_test], axis = 0)\n",
        "labeled.head(4)"
      ],
      "execution_count": null,
      "outputs": [
        {
          "output_type": "execute_result",
          "data": {
            "text/html": [
              "<div>\n",
              "<style scoped>\n",
              "    .dataframe tbody tr th:only-of-type {\n",
              "        vertical-align: middle;\n",
              "    }\n",
              "\n",
              "    .dataframe tbody tr th {\n",
              "        vertical-align: top;\n",
              "    }\n",
              "\n",
              "    .dataframe thead th {\n",
              "        text-align: right;\n",
              "    }\n",
              "</style>\n",
              "<table border=\"1\" class=\"dataframe\">\n",
              "  <thead>\n",
              "    <tr style=\"text-align: right;\">\n",
              "      <th></th>\n",
              "      <th>author_id</th>\n",
              "      <th>description</th>\n",
              "      <th>bookformat</th>\n",
              "      <th>bookedition</th>\n",
              "      <th>pages</th>\n",
              "      <th>published_date</th>\n",
              "      <th>publisher_id</th>\n",
              "      <th>reading_age</th>\n",
              "      <th>lexile_measure</th>\n",
              "      <th>grade_level</th>\n",
              "      <th>...</th>\n",
              "      <th>genre_1_weight</th>\n",
              "      <th>genre_2_weight</th>\n",
              "      <th>genre_3_weight</th>\n",
              "      <th>genre_4_weight</th>\n",
              "      <th>genre_5_weight</th>\n",
              "      <th>genre_6_weight</th>\n",
              "      <th>genre_7_weight</th>\n",
              "      <th>genre_8_weight</th>\n",
              "      <th>genre_9_weight</th>\n",
              "      <th>price</th>\n",
              "    </tr>\n",
              "  </thead>\n",
              "  <tbody>\n",
              "    <tr>\n",
              "      <th>9</th>\n",
              "      <td>author0932</td>\n",
              "      <td>At long last, New York Times bestselling autho...</td>\n",
              "      <td>Mass Market Paperback</td>\n",
              "      <td>NaN</td>\n",
              "      <td>504.0</td>\n",
              "      <td>February 28, 2012</td>\n",
              "      <td>publisher149</td>\n",
              "      <td>NaN</td>\n",
              "      <td>NaN</td>\n",
              "      <td>NaN</td>\n",
              "      <td>...</td>\n",
              "      <td>0.21</td>\n",
              "      <td>0.17</td>\n",
              "      <td>0.10</td>\n",
              "      <td>0.08</td>\n",
              "      <td>0.05</td>\n",
              "      <td>0.04</td>\n",
              "      <td>0.04</td>\n",
              "      <td>0.03</td>\n",
              "      <td>0.02</td>\n",
              "      <td>98172.0</td>\n",
              "    </tr>\n",
              "    <tr>\n",
              "      <th>17</th>\n",
              "      <td>author2279</td>\n",
              "      <td>I sold my future to the man who ruined my past...</td>\n",
              "      <td>Kindle Edition</td>\n",
              "      <td>NaN</td>\n",
              "      <td>NaN</td>\n",
              "      <td>NaN</td>\n",
              "      <td>NaN</td>\n",
              "      <td>NaN</td>\n",
              "      <td>NaN</td>\n",
              "      <td>NaN</td>\n",
              "      <td>...</td>\n",
              "      <td>NaN</td>\n",
              "      <td>NaN</td>\n",
              "      <td>NaN</td>\n",
              "      <td>NaN</td>\n",
              "      <td>NaN</td>\n",
              "      <td>NaN</td>\n",
              "      <td>NaN</td>\n",
              "      <td>NaN</td>\n",
              "      <td>NaN</td>\n",
              "      <td>57604.0</td>\n",
              "    </tr>\n",
              "    <tr>\n",
              "      <th>29</th>\n",
              "      <td>author2386</td>\n",
              "      <td>From Rob Thomas, the creator of groundbreaking...</td>\n",
              "      <td>Paperback</td>\n",
              "      <td>NaN</td>\n",
              "      <td>324.0</td>\n",
              "      <td>March 25, 2014</td>\n",
              "      <td>publisher381</td>\n",
              "      <td>NaN</td>\n",
              "      <td>NaN</td>\n",
              "      <td>NaN</td>\n",
              "      <td>...</td>\n",
              "      <td>0.19</td>\n",
              "      <td>0.07</td>\n",
              "      <td>0.07</td>\n",
              "      <td>0.06</td>\n",
              "      <td>0.05</td>\n",
              "      <td>0.04</td>\n",
              "      <td>0.04</td>\n",
              "      <td>0.03</td>\n",
              "      <td>0.02</td>\n",
              "      <td>103658.0</td>\n",
              "    </tr>\n",
              "    <tr>\n",
              "      <th>33</th>\n",
              "      <td>author2769</td>\n",
              "      <td>Hannis Arc, working on the tapestry of lines l...</td>\n",
              "      <td>Hardcover</td>\n",
              "      <td>NaN</td>\n",
              "      <td>528.0</td>\n",
              "      <td>August 16, 2011</td>\n",
              "      <td>publisher099</td>\n",
              "      <td>NaN</td>\n",
              "      <td>NaN</td>\n",
              "      <td>NaN</td>\n",
              "      <td>...</td>\n",
              "      <td>0.07</td>\n",
              "      <td>0.05</td>\n",
              "      <td>0.02</td>\n",
              "      <td>0.02</td>\n",
              "      <td>0.02</td>\n",
              "      <td>0.02</td>\n",
              "      <td>0.01</td>\n",
              "      <td>0.01</td>\n",
              "      <td>0.01</td>\n",
              "      <td>649665.0</td>\n",
              "    </tr>\n",
              "  </tbody>\n",
              "</table>\n",
              "<p>4 rows × 39 columns</p>\n",
              "</div>"
            ],
            "text/plain": [
              "     author_id                                        description  \\\n",
              "9   author0932  At long last, New York Times bestselling autho...   \n",
              "17  author2279  I sold my future to the man who ruined my past...   \n",
              "29  author2386  From Rob Thomas, the creator of groundbreaking...   \n",
              "33  author2769  Hannis Arc, working on the tapestry of lines l...   \n",
              "\n",
              "               bookformat bookedition  pages     published_date  publisher_id  \\\n",
              "9   Mass Market Paperback         NaN  504.0  February 28, 2012  publisher149   \n",
              "17         Kindle Edition         NaN    NaN                NaN           NaN   \n",
              "29              Paperback         NaN  324.0     March 25, 2014  publisher381   \n",
              "33              Hardcover         NaN  528.0    August 16, 2011  publisher099   \n",
              "\n",
              "   reading_age lexile_measure grade_level  ...  genre_1_weight  \\\n",
              "9          NaN            NaN         NaN  ...            0.21   \n",
              "17         NaN            NaN         NaN  ...             NaN   \n",
              "29         NaN            NaN         NaN  ...            0.19   \n",
              "33         NaN            NaN         NaN  ...            0.07   \n",
              "\n",
              "    genre_2_weight  genre_3_weight  genre_4_weight  genre_5_weight  \\\n",
              "9             0.17            0.10            0.08            0.05   \n",
              "17             NaN             NaN             NaN             NaN   \n",
              "29            0.07            0.07            0.06            0.05   \n",
              "33            0.05            0.02            0.02            0.02   \n",
              "\n",
              "    genre_6_weight  genre_7_weight  genre_8_weight genre_9_weight     price  \n",
              "9             0.04            0.04            0.03           0.02   98172.0  \n",
              "17             NaN             NaN             NaN            NaN   57604.0  \n",
              "29            0.04            0.04            0.03           0.02  103658.0  \n",
              "33            0.02            0.01            0.01           0.01  649665.0  \n",
              "\n",
              "[4 rows x 39 columns]"
            ]
          },
          "metadata": {
            "tags": []
          },
          "execution_count": 1
        }
      ]
    },
    {
      "cell_type": "code",
      "metadata": {
        "id": "I5wQEx67Dpeu",
        "outputId": "d47d9bce-e0ab-41b9-93c9-be3b20e052e4"
      },
      "source": [
        "a = labeled.isnull().sum()/len(labeled)\n",
        "print(\"Missing Percentage\")\n",
        "a.sort_values()"
      ],
      "execution_count": null,
      "outputs": [
        {
          "output_type": "stream",
          "text": [
            "Missing Percentage\n"
          ],
          "name": "stdout"
        },
        {
          "output_type": "execute_result",
          "data": {
            "text/plain": [
              "author_id         0.000000\n",
              "rating_count_1    0.000000\n",
              "rating_count_0    0.000000\n",
              "rating_value_0    0.000000\n",
              "price             0.000000\n",
              "bookformat        0.000000\n",
              "description       0.017258\n",
              "pages             0.049856\n",
              "published_date    0.071908\n",
              "publisher_id      0.071908\n",
              "genre_0_weight    0.088207\n",
              "genre_0           0.088207\n",
              "genre_1_weight    0.105465\n",
              "genre_1           0.105465\n",
              "rating_value_1    0.110259\n",
              "genre_2_weight    0.117929\n",
              "genre_2           0.117929\n",
              "genre_3           0.129434\n",
              "genre_3_weight    0.129434\n",
              "weight            0.141898\n",
              "dimension_1       0.143816\n",
              "dimension_0       0.143816\n",
              "genre_4_weight    0.144775\n",
              "genre_4           0.144775\n",
              "genre_5           0.156280\n",
              "genre_5_weight    0.156280\n",
              "genre_6           0.167785\n",
              "genre_6_weight    0.167785\n",
              "dimension_2       0.173538\n",
              "genre_7_weight    0.173538\n",
              "genre_7           0.173538\n",
              "genre_8_weight    0.182167\n",
              "genre_8           0.182167\n",
              "genre_9           0.191755\n",
              "genre_9_weight    0.191755\n",
              "reading_age       0.771812\n",
              "grade_level       0.817833\n",
              "lexile_measure    0.825503\n",
              "bookedition       0.899329\n",
              "dtype: float64"
            ]
          },
          "metadata": {
            "tags": []
          },
          "execution_count": 34
        }
      ]
    },
    {
      "cell_type": "markdown",
      "metadata": {
        "id": "0B8qVFQSDpev"
      },
      "source": [
        "Variabel **reading_age, grade_level, lexile_measure, bookedition** memiliki missing value lebih dari 70%\n",
        "<br> -> Drop variabel tersebut"
      ]
    },
    {
      "cell_type": "code",
      "metadata": {
        "id": "ELzy8j44Dpew"
      },
      "source": [
        "var = ['reading_age','grade_level','lexile_measure','bookedition']\n",
        "labeled = labeled.drop(var, axis = 1)"
      ],
      "execution_count": null,
      "outputs": []
    },
    {
      "cell_type": "code",
      "metadata": {
        "id": "7gmjkxMHDpex",
        "outputId": "3e92e973-4146-4624-aa77-1d50b1c0d32d"
      },
      "source": [
        "labeled.iloc[:,:17].head(4)"
      ],
      "execution_count": null,
      "outputs": [
        {
          "output_type": "execute_result",
          "data": {
            "text/html": [
              "<div>\n",
              "<style scoped>\n",
              "    .dataframe tbody tr th:only-of-type {\n",
              "        vertical-align: middle;\n",
              "    }\n",
              "\n",
              "    .dataframe tbody tr th {\n",
              "        vertical-align: top;\n",
              "    }\n",
              "\n",
              "    .dataframe thead th {\n",
              "        text-align: right;\n",
              "    }\n",
              "</style>\n",
              "<table border=\"1\" class=\"dataframe\">\n",
              "  <thead>\n",
              "    <tr style=\"text-align: right;\">\n",
              "      <th></th>\n",
              "      <th>author_id</th>\n",
              "      <th>description</th>\n",
              "      <th>bookformat</th>\n",
              "      <th>pages</th>\n",
              "      <th>published_date</th>\n",
              "      <th>publisher_id</th>\n",
              "      <th>weight</th>\n",
              "      <th>rating_value_0</th>\n",
              "      <th>rating_value_1</th>\n",
              "      <th>rating_count_0</th>\n",
              "      <th>rating_count_1</th>\n",
              "      <th>dimension_0</th>\n",
              "      <th>dimension_1</th>\n",
              "      <th>dimension_2</th>\n",
              "      <th>genre_0</th>\n",
              "      <th>genre_1</th>\n",
              "      <th>genre_2</th>\n",
              "    </tr>\n",
              "  </thead>\n",
              "  <tbody>\n",
              "    <tr>\n",
              "      <th>9</th>\n",
              "      <td>author0932</td>\n",
              "      <td>At long last, New York Times bestselling autho...</td>\n",
              "      <td>Mass Market Paperback</td>\n",
              "      <td>504.0</td>\n",
              "      <td>February 28, 2012</td>\n",
              "      <td>publisher149</td>\n",
              "      <td>3628.74</td>\n",
              "      <td>4.29</td>\n",
              "      <td>4.6</td>\n",
              "      <td>26983</td>\n",
              "      <td>504</td>\n",
              "      <td>10.72</td>\n",
              "      <td>3.30</td>\n",
              "      <td>16.79</td>\n",
              "      <td>Paranormal Romance</td>\n",
              "      <td>Paranormal</td>\n",
              "      <td>Romance</td>\n",
              "    </tr>\n",
              "    <tr>\n",
              "      <th>17</th>\n",
              "      <td>author2279</td>\n",
              "      <td>I sold my future to the man who ruined my past...</td>\n",
              "      <td>Kindle Edition</td>\n",
              "      <td>NaN</td>\n",
              "      <td>NaN</td>\n",
              "      <td>NaN</td>\n",
              "      <td>NaN</td>\n",
              "      <td>4.89</td>\n",
              "      <td>NaN</td>\n",
              "      <td>27</td>\n",
              "      <td>1</td>\n",
              "      <td>NaN</td>\n",
              "      <td>NaN</td>\n",
              "      <td>NaN</td>\n",
              "      <td>NaN</td>\n",
              "      <td>NaN</td>\n",
              "      <td>NaN</td>\n",
              "    </tr>\n",
              "    <tr>\n",
              "      <th>29</th>\n",
              "      <td>author2386</td>\n",
              "      <td>From Rob Thomas, the creator of groundbreaking...</td>\n",
              "      <td>Paperback</td>\n",
              "      <td>324.0</td>\n",
              "      <td>March 25, 2014</td>\n",
              "      <td>publisher381</td>\n",
              "      <td>3991.61</td>\n",
              "      <td>3.99</td>\n",
              "      <td>4.6</td>\n",
              "      <td>43657</td>\n",
              "      <td>1537</td>\n",
              "      <td>13.31</td>\n",
              "      <td>1.85</td>\n",
              "      <td>20.22</td>\n",
              "      <td>Mystery</td>\n",
              "      <td>Fiction</td>\n",
              "      <td>Audiobook</td>\n",
              "    </tr>\n",
              "    <tr>\n",
              "      <th>33</th>\n",
              "      <td>author2769</td>\n",
              "      <td>Hannis Arc, working on the tapestry of lines l...</td>\n",
              "      <td>Hardcover</td>\n",
              "      <td>528.0</td>\n",
              "      <td>August 16, 2011</td>\n",
              "      <td>publisher099</td>\n",
              "      <td>771.11</td>\n",
              "      <td>3.68</td>\n",
              "      <td>4.3</td>\n",
              "      <td>19382</td>\n",
              "      <td>1504</td>\n",
              "      <td>16.51</td>\n",
              "      <td>4.32</td>\n",
              "      <td>24.43</td>\n",
              "      <td>Fantasy</td>\n",
              "      <td>Fiction</td>\n",
              "      <td>Epic Fantasy</td>\n",
              "    </tr>\n",
              "  </tbody>\n",
              "</table>\n",
              "</div>"
            ],
            "text/plain": [
              "     author_id                                        description  \\\n",
              "9   author0932  At long last, New York Times bestselling autho...   \n",
              "17  author2279  I sold my future to the man who ruined my past...   \n",
              "29  author2386  From Rob Thomas, the creator of groundbreaking...   \n",
              "33  author2769  Hannis Arc, working on the tapestry of lines l...   \n",
              "\n",
              "               bookformat  pages     published_date  publisher_id   weight  \\\n",
              "9   Mass Market Paperback  504.0  February 28, 2012  publisher149  3628.74   \n",
              "17         Kindle Edition    NaN                NaN           NaN      NaN   \n",
              "29              Paperback  324.0     March 25, 2014  publisher381  3991.61   \n",
              "33              Hardcover  528.0    August 16, 2011  publisher099   771.11   \n",
              "\n",
              "    rating_value_0  rating_value_1  rating_count_0  rating_count_1  \\\n",
              "9             4.29             4.6           26983             504   \n",
              "17            4.89             NaN              27               1   \n",
              "29            3.99             4.6           43657            1537   \n",
              "33            3.68             4.3           19382            1504   \n",
              "\n",
              "    dimension_0  dimension_1  dimension_2             genre_0     genre_1  \\\n",
              "9         10.72         3.30        16.79  Paranormal Romance  Paranormal   \n",
              "17          NaN          NaN          NaN                 NaN         NaN   \n",
              "29        13.31         1.85        20.22             Mystery     Fiction   \n",
              "33        16.51         4.32        24.43             Fantasy     Fiction   \n",
              "\n",
              "         genre_2  \n",
              "9        Romance  \n",
              "17           NaN  \n",
              "29     Audiobook  \n",
              "33  Epic Fantasy  "
            ]
          },
          "metadata": {
            "tags": []
          },
          "execution_count": 38
        }
      ]
    },
    {
      "cell_type": "code",
      "metadata": {
        "id": "ynbqw11rDpey",
        "outputId": "672aefe9-1b1f-4bed-f78b-2afe0bf4ab66"
      },
      "source": [
        "labeled.iloc[:,17:].head(4)"
      ],
      "execution_count": null,
      "outputs": [
        {
          "output_type": "execute_result",
          "data": {
            "text/html": [
              "<div>\n",
              "<style scoped>\n",
              "    .dataframe tbody tr th:only-of-type {\n",
              "        vertical-align: middle;\n",
              "    }\n",
              "\n",
              "    .dataframe tbody tr th {\n",
              "        vertical-align: top;\n",
              "    }\n",
              "\n",
              "    .dataframe thead th {\n",
              "        text-align: right;\n",
              "    }\n",
              "</style>\n",
              "<table border=\"1\" class=\"dataframe\">\n",
              "  <thead>\n",
              "    <tr style=\"text-align: right;\">\n",
              "      <th></th>\n",
              "      <th>genre_3</th>\n",
              "      <th>genre_4</th>\n",
              "      <th>genre_5</th>\n",
              "      <th>genre_6</th>\n",
              "      <th>genre_7</th>\n",
              "      <th>genre_8</th>\n",
              "      <th>genre_9</th>\n",
              "      <th>genre_0_weight</th>\n",
              "      <th>genre_1_weight</th>\n",
              "      <th>genre_2_weight</th>\n",
              "      <th>genre_3_weight</th>\n",
              "      <th>genre_4_weight</th>\n",
              "      <th>genre_5_weight</th>\n",
              "      <th>genre_6_weight</th>\n",
              "      <th>genre_7_weight</th>\n",
              "      <th>genre_8_weight</th>\n",
              "      <th>genre_9_weight</th>\n",
              "      <th>price</th>\n",
              "    </tr>\n",
              "  </thead>\n",
              "  <tbody>\n",
              "    <tr>\n",
              "      <th>9</th>\n",
              "      <td>Demons</td>\n",
              "      <td>Fantasy</td>\n",
              "      <td>Angels</td>\n",
              "      <td>Mythology</td>\n",
              "      <td>Adult</td>\n",
              "      <td>Urban Fantasy</td>\n",
              "      <td>Supernatural</td>\n",
              "      <td>0.26</td>\n",
              "      <td>0.21</td>\n",
              "      <td>0.17</td>\n",
              "      <td>0.10</td>\n",
              "      <td>0.08</td>\n",
              "      <td>0.05</td>\n",
              "      <td>0.04</td>\n",
              "      <td>0.04</td>\n",
              "      <td>0.03</td>\n",
              "      <td>0.02</td>\n",
              "      <td>98172.0</td>\n",
              "    </tr>\n",
              "    <tr>\n",
              "      <th>17</th>\n",
              "      <td>NaN</td>\n",
              "      <td>NaN</td>\n",
              "      <td>NaN</td>\n",
              "      <td>NaN</td>\n",
              "      <td>NaN</td>\n",
              "      <td>NaN</td>\n",
              "      <td>NaN</td>\n",
              "      <td>NaN</td>\n",
              "      <td>NaN</td>\n",
              "      <td>NaN</td>\n",
              "      <td>NaN</td>\n",
              "      <td>NaN</td>\n",
              "      <td>NaN</td>\n",
              "      <td>NaN</td>\n",
              "      <td>NaN</td>\n",
              "      <td>NaN</td>\n",
              "      <td>NaN</td>\n",
              "      <td>57604.0</td>\n",
              "    </tr>\n",
              "    <tr>\n",
              "      <th>29</th>\n",
              "      <td>Crime</td>\n",
              "      <td>Contemporary</td>\n",
              "      <td>Mystery Thriller</td>\n",
              "      <td>Adult</td>\n",
              "      <td>Young Adult</td>\n",
              "      <td>Thriller</td>\n",
              "      <td>Adult Fiction</td>\n",
              "      <td>0.45</td>\n",
              "      <td>0.19</td>\n",
              "      <td>0.07</td>\n",
              "      <td>0.07</td>\n",
              "      <td>0.06</td>\n",
              "      <td>0.05</td>\n",
              "      <td>0.04</td>\n",
              "      <td>0.04</td>\n",
              "      <td>0.03</td>\n",
              "      <td>0.02</td>\n",
              "      <td>103658.0</td>\n",
              "    </tr>\n",
              "    <tr>\n",
              "      <th>33</th>\n",
              "      <td>High Fantasy</td>\n",
              "      <td>Magic</td>\n",
              "      <td>Adventure</td>\n",
              "      <td>Science Fiction Fantasy</td>\n",
              "      <td>Romance</td>\n",
              "      <td>Adult</td>\n",
              "      <td>Audiobook</td>\n",
              "      <td>0.77</td>\n",
              "      <td>0.07</td>\n",
              "      <td>0.05</td>\n",
              "      <td>0.02</td>\n",
              "      <td>0.02</td>\n",
              "      <td>0.02</td>\n",
              "      <td>0.02</td>\n",
              "      <td>0.01</td>\n",
              "      <td>0.01</td>\n",
              "      <td>0.01</td>\n",
              "      <td>649665.0</td>\n",
              "    </tr>\n",
              "  </tbody>\n",
              "</table>\n",
              "</div>"
            ],
            "text/plain": [
              "         genre_3       genre_4           genre_5                  genre_6  \\\n",
              "9         Demons       Fantasy            Angels                Mythology   \n",
              "17           NaN           NaN               NaN                      NaN   \n",
              "29         Crime  Contemporary  Mystery Thriller                    Adult   \n",
              "33  High Fantasy         Magic         Adventure  Science Fiction Fantasy   \n",
              "\n",
              "        genre_7        genre_8        genre_9  genre_0_weight  genre_1_weight  \\\n",
              "9         Adult  Urban Fantasy   Supernatural            0.26            0.21   \n",
              "17          NaN            NaN            NaN             NaN             NaN   \n",
              "29  Young Adult       Thriller  Adult Fiction            0.45            0.19   \n",
              "33      Romance          Adult      Audiobook            0.77            0.07   \n",
              "\n",
              "    genre_2_weight  genre_3_weight  genre_4_weight  genre_5_weight  \\\n",
              "9             0.17            0.10            0.08            0.05   \n",
              "17             NaN             NaN             NaN             NaN   \n",
              "29            0.07            0.07            0.06            0.05   \n",
              "33            0.05            0.02            0.02            0.02   \n",
              "\n",
              "    genre_6_weight  genre_7_weight  genre_8_weight  genre_9_weight     price  \n",
              "9             0.04            0.04            0.03            0.02   98172.0  \n",
              "17             NaN             NaN             NaN             NaN   57604.0  \n",
              "29            0.04            0.04            0.03            0.02  103658.0  \n",
              "33            0.02            0.01            0.01            0.01  649665.0  "
            ]
          },
          "metadata": {
            "tags": []
          },
          "execution_count": 39
        }
      ]
    },
    {
      "cell_type": "code",
      "metadata": {
        "id": "knvhYh-MDpez",
        "outputId": "e34e84c8-a265-4563-a561-121977bb88f0"
      },
      "source": [
        "labeled.info()"
      ],
      "execution_count": null,
      "outputs": [
        {
          "output_type": "stream",
          "text": [
            "<class 'pandas.core.frame.DataFrame'>\n",
            "Int64Index: 1043 entries, 9 to 499\n",
            "Data columns (total 35 columns):\n",
            " #   Column          Non-Null Count  Dtype  \n",
            "---  ------          --------------  -----  \n",
            " 0   author_id       1043 non-null   object \n",
            " 1   description     1025 non-null   object \n",
            " 2   bookformat      1043 non-null   object \n",
            " 3   pages           991 non-null    float64\n",
            " 4   published_date  968 non-null    object \n",
            " 5   publisher_id    968 non-null    object \n",
            " 6   weight          895 non-null    float64\n",
            " 7   rating_value_0  1043 non-null   float64\n",
            " 8   rating_value_1  928 non-null    float64\n",
            " 9   rating_count_0  1043 non-null   int64  \n",
            " 10  rating_count_1  1043 non-null   int64  \n",
            " 11  dimension_0     893 non-null    float64\n",
            " 12  dimension_1     893 non-null    float64\n",
            " 13  dimension_2     862 non-null    float64\n",
            " 14  genre_0         951 non-null    object \n",
            " 15  genre_1         933 non-null    object \n",
            " 16  genre_2         920 non-null    object \n",
            " 17  genre_3         908 non-null    object \n",
            " 18  genre_4         892 non-null    object \n",
            " 19  genre_5         880 non-null    object \n",
            " 20  genre_6         868 non-null    object \n",
            " 21  genre_7         862 non-null    object \n",
            " 22  genre_8         853 non-null    object \n",
            " 23  genre_9         843 non-null    object \n",
            " 24  genre_0_weight  951 non-null    float64\n",
            " 25  genre_1_weight  933 non-null    float64\n",
            " 26  genre_2_weight  920 non-null    float64\n",
            " 27  genre_3_weight  908 non-null    float64\n",
            " 28  genre_4_weight  892 non-null    float64\n",
            " 29  genre_5_weight  880 non-null    float64\n",
            " 30  genre_6_weight  868 non-null    float64\n",
            " 31  genre_7_weight  862 non-null    float64\n",
            " 32  genre_8_weight  853 non-null    float64\n",
            " 33  genre_9_weight  843 non-null    float64\n",
            " 34  price           1043 non-null   float64\n",
            "dtypes: float64(18), int64(2), object(15)\n",
            "memory usage: 293.3+ KB\n"
          ],
          "name": "stdout"
        }
      ]
    },
    {
      "cell_type": "markdown",
      "metadata": {
        "id": "JkGnKnw_Dpez"
      },
      "source": [
        "**Variable Type** <br>\n",
        "**ID:** author_id, publisher_id <br>\n",
        "**Text:** description <br>\n",
        "**Date:** published_date <br>\n",
        "**Categorical:** bookformat & genre <br>\n",
        "**Numerical:** pages, weight, rating_value, rating_count, dimension, genre_weight, price"
      ]
    },
    {
      "cell_type": "markdown",
      "metadata": {
        "id": "cFt_qT58Dpe0"
      },
      "source": [
        "### price"
      ]
    },
    {
      "cell_type": "code",
      "metadata": {
        "id": "dGGCq4JRDpe0"
      },
      "source": [
        "def lihat_numerik(variabel):\n",
        "    f, ax = plt.subplots(3,1, figsize = (9,7))\n",
        "    sns.boxplot(labeled[variabel], ax = ax[0])\n",
        "    sns.distplot(labeled[variabel], ax = ax[1])\n",
        "    ax[1].axvline(labeled[variabel].mean(), color='r', linestyle='--')\n",
        "    ax[1].axvline(labeled[variabel].median(), color='tab:orange', linestyle='-')\n",
        "    ax[1].legend(['Mean','Median'])\n",
        "    sns.scatterplot(labeled[variabel], labeled['price'], ax = ax[2])\n",
        "    med = labeled[variabel].median()\n",
        "    tukey = 1.5*iqr(labeled[variabel])\n",
        "    outlier = len(labeled[(labeled[variabel] > med + tukey)|(labeled[variabel] < med - tukey)])\n",
        "    persen_out = outlier/len(labeled)\n",
        "    missing = labeled[variabel].isnull().sum()\n",
        "    persen_miss = missing/len(labeled)\n",
        "    print(\"Jumlah outlier: {} atau {:.4f}%\".format(outlier, persen_out))\n",
        "    print(\"Jumlah missing: {} atau {:.4f}%\".format(missing, persen_miss))"
      ],
      "execution_count": null,
      "outputs": []
    },
    {
      "cell_type": "code",
      "metadata": {
        "id": "7NhM9--pDpe1",
        "outputId": "6fb20cd4-8186-47a3-c2f1-44dde3088a0c"
      },
      "source": [
        "q1 = np.percentile(labeled['price'], 25)\n",
        "q3 = np.percentile(labeled['price'], 75)\n",
        "print(q3 - q1)\n",
        "print(iqr(labeled['price']))"
      ],
      "execution_count": null,
      "outputs": [
        {
          "output_type": "stream",
          "text": [
            "169129.5\n",
            "169129.5\n"
          ],
          "name": "stdout"
        }
      ]
    },
    {
      "cell_type": "code",
      "metadata": {
        "id": "roRYWzPuDpe2",
        "outputId": "ecd09a47-cd45-414a-d718-e86cf4b340eb"
      },
      "source": [
        "lihat_numerik('price')"
      ],
      "execution_count": null,
      "outputs": [
        {
          "output_type": "stream",
          "text": [
            "Jumlah outlier: 72 atau 0.0690%\n",
            "Jumlah missing: 0 atau 0.0000%\n"
          ],
          "name": "stdout"
        },
        {
          "output_type": "display_data",
          "data": {
            "image/png": "[encoded data removed]",
            "text/plain": [
              "<Figure size 648x504 with 3 Axes>"
            ]
          },
          "metadata": {
            "tags": [],
            "needs_background": "light"
          }
        }
      ]
    },
    {
      "cell_type": "markdown",
      "metadata": {
        "id": "59e0cWkQDpe3"
      },
      "source": [
        "### pages"
      ]
    },
    {
      "cell_type": "code",
      "metadata": {
        "id": "wqDT15N2Dpe3",
        "outputId": "7a0fb140-1de2-46fd-8b9b-970ede8cbceb"
      },
      "source": [
        "lihat_numerik('pages')"
      ],
      "execution_count": null,
      "outputs": [
        {
          "output_type": "stream",
          "text": [
            "Jumlah outlier: 0 atau 0.0000%\n",
            "Jumlah missing: 52 atau 0.0499%\n"
          ],
          "name": "stdout"
        },
        {
          "output_type": "display_data",
          "data": {
            "image/png": "[encoded data removed]",
            "text/plain": [
              "<Figure size 648x504 with 3 Axes>"
            ]
          },
          "metadata": {
            "tags": [],
            "needs_background": "light"
          }
        }
      ]
    },
    {
      "cell_type": "markdown",
      "metadata": {
        "id": "VXHxUTsUDpe4"
      },
      "source": [
        "### weight"
      ]
    },
    {
      "cell_type": "code",
      "metadata": {
        "id": "tqlqHX-sDpe4",
        "outputId": "913ab04d-2af5-40bc-aa10-fa6cea8e58df"
      },
      "source": [
        "lihat_numerik('weight')"
      ],
      "execution_count": null,
      "outputs": [
        {
          "output_type": "display_data",
          "data": {
            "image/png": "[encoded data removed]",
            "text/plain": [
              "<Figure size 648x504 with 3 Axes>"
            ]
          },
          "metadata": {
            "tags": [],
            "needs_background": "light"
          }
        }
      ]
    },
    {
      "cell_type": "code",
      "metadata": {
        "id": "rrTW_uxKDpe5",
        "outputId": "a2a04cc5-1b42-46eb-c6e9-ed93b7add9d7"
      },
      "source": [
        "less = labeled[labeled.weight<= 1000]\n",
        "over = labeled[labeled.weight > 1000]\n",
        "f, ax = plt.subplots(2,2, figsize = (15, 8))\n",
        "sns.distplot(less.weight, ax = ax[0,0])\n",
        "sns.distplot(over.weight, ax = ax[1,0])\n",
        "sns.scatterplot(less.weight, less.price, ax = ax[0,1])\n",
        "sns.scatterplot(over.weight, over.price, ax = ax[1,1])\n",
        "plt.show()"
      ],
      "execution_count": null,
      "outputs": [
        {
          "output_type": "display_data",
          "data": {
            "image/png": "[encoded data removed]",
            "text/plain": [
              "<Figure size 1080x576 with 4 Axes>"
            ]
          },
          "metadata": {
            "tags": [],
            "needs_background": "light"
          }
        }
      ]
    },
    {
      "cell_type": "code",
      "metadata": {
        "id": "JIrIIG1lDpe6"
      },
      "source": [
        ""
      ],
      "execution_count": null,
      "outputs": []
    },
    {
      "cell_type": "markdown",
      "metadata": {
        "id": "0oq8NSP2Dpe6"
      },
      "source": [
        "### rating_value_0"
      ]
    },
    {
      "cell_type": "code",
      "metadata": {
        "id": "RoC-QYHDDpe7",
        "outputId": "1024bfb5-f697-4478-bc33-6de84789acc1"
      },
      "source": [
        "lihat_numerik('rating_value_0')"
      ],
      "execution_count": null,
      "outputs": [
        {
          "output_type": "display_data",
          "data": {
            "image/png": "[encoded data removed]",
            "text/plain": [
              "<Figure size 648x504 with 3 Axes>"
            ]
          },
          "metadata": {
            "tags": [],
            "needs_background": "light"
          }
        }
      ]
    },
    {
      "cell_type": "code",
      "metadata": {
        "id": "EnClvQgFDpe7"
      },
      "source": [
        ""
      ],
      "execution_count": null,
      "outputs": []
    },
    {
      "cell_type": "markdown",
      "metadata": {
        "id": "I9h4RUtlDpe8"
      },
      "source": [
        "### rating_value_1"
      ]
    },
    {
      "cell_type": "code",
      "metadata": {
        "id": "nq3X_-9iDpe8",
        "outputId": "cfb5b929-7636-4f24-b2b5-b3917effcc70"
      },
      "source": [
        "lihat_numerik('rating_value_1')"
      ],
      "execution_count": null,
      "outputs": [
        {
          "output_type": "display_data",
          "data": {
            "image/png": "[encoded data removed]",
            "text/plain": [
              "<Figure size 648x504 with 3 Axes>"
            ]
          },
          "metadata": {
            "tags": [],
            "needs_background": "light"
          }
        }
      ]
    },
    {
      "cell_type": "code",
      "metadata": {
        "id": "iVIvXx2PDpe9"
      },
      "source": [
        ""
      ],
      "execution_count": null,
      "outputs": []
    },
    {
      "cell_type": "markdown",
      "metadata": {
        "id": "qAslU5hwDpe9"
      },
      "source": [
        "### rating_count_0"
      ]
    },
    {
      "cell_type": "code",
      "metadata": {
        "id": "pgxIQf8uDpe9",
        "outputId": "11457eb8-4842-4ea1-be94-d6027c5dd853"
      },
      "source": [
        "lihat_numerik('rating_count_0')"
      ],
      "execution_count": null,
      "outputs": [
        {
          "output_type": "display_data",
          "data": {
            "image/png": "[encoded data removed]",
            "text/plain": [
              "<Figure size 648x504 with 3 Axes>"
            ]
          },
          "metadata": {
            "tags": [],
            "needs_background": "light"
          }
        }
      ]
    },
    {
      "cell_type": "code",
      "metadata": {
        "id": "hiKqpiIHDpe-"
      },
      "source": [
        ""
      ],
      "execution_count": null,
      "outputs": []
    },
    {
      "cell_type": "markdown",
      "metadata": {
        "id": "SIfwKpL_Dpe-"
      },
      "source": [
        "### rating_count_1"
      ]
    },
    {
      "cell_type": "code",
      "metadata": {
        "id": "Gtab7T74Dpe_",
        "outputId": "c84fbb9d-b13d-4c71-9449-ebafa99f2d57"
      },
      "source": [
        "lihat_numerik('rating_count_1')"
      ],
      "execution_count": null,
      "outputs": [
        {
          "output_type": "display_data",
          "data": {
            "image/png": "[encoded data removed]",
            "text/plain": [
              "<Figure size 648x504 with 3 Axes>"
            ]
          },
          "metadata": {
            "tags": [],
            "needs_background": "light"
          }
        }
      ]
    },
    {
      "cell_type": "code",
      "metadata": {
        "id": "_wdXHQ5_Dpe_"
      },
      "source": [
        ""
      ],
      "execution_count": null,
      "outputs": []
    },
    {
      "cell_type": "markdown",
      "metadata": {
        "id": "7mW2FUKVDpe_"
      },
      "source": [
        "### dimension_0"
      ]
    },
    {
      "cell_type": "code",
      "metadata": {
        "id": "pL3ov7PLDpfA",
        "outputId": "738f37ab-cf3d-4b32-b2b7-2778bdb0ab97"
      },
      "source": [
        "lihat_numerik('dimension_0')"
      ],
      "execution_count": null,
      "outputs": [
        {
          "output_type": "display_data",
          "data": {
            "image/png": "[encoded data removed]",
            "text/plain": [
              "<Figure size 648x504 with 3 Axes>"
            ]
          },
          "metadata": {
            "tags": [],
            "needs_background": "light"
          }
        }
      ]
    },
    {
      "cell_type": "code",
      "metadata": {
        "id": "aOsqk2_7DpfA"
      },
      "source": [
        ""
      ],
      "execution_count": null,
      "outputs": []
    },
    {
      "cell_type": "markdown",
      "metadata": {
        "id": "0G5hNFG6DpfB"
      },
      "source": [
        "### dimension_1"
      ]
    },
    {
      "cell_type": "code",
      "metadata": {
        "id": "HCBfL00dDpfB",
        "outputId": "27bad391-0d13-499f-eec7-e181ef293c0d"
      },
      "source": [
        "lihat_numerik('dimension_1')"
      ],
      "execution_count": null,
      "outputs": [
        {
          "output_type": "display_data",
          "data": {
            "image/png": "[encoded data removed]",
            "text/plain": [
              "<Figure size 648x504 with 3 Axes>"
            ]
          },
          "metadata": {
            "tags": [],
            "needs_background": "light"
          }
        }
      ]
    },
    {
      "cell_type": "code",
      "metadata": {
        "id": "zX5soARoDpfC"
      },
      "source": [
        ""
      ],
      "execution_count": null,
      "outputs": []
    },
    {
      "cell_type": "markdown",
      "metadata": {
        "id": "6MogcyMfDpfC"
      },
      "source": [
        "### dimension_2"
      ]
    },
    {
      "cell_type": "code",
      "metadata": {
        "id": "VudWb1UyDpfC",
        "outputId": "26a29590-e7bd-4628-959a-ad44d76f0436"
      },
      "source": [
        "lihat_numerik('dimension_2')"
      ],
      "execution_count": null,
      "outputs": [
        {
          "output_type": "display_data",
          "data": {
            "image/png": "[encoded data removed]",
            "text/plain": [
              "<Figure size 648x504 with 3 Axes>"
            ]
          },
          "metadata": {
            "tags": [],
            "needs_background": "light"
          }
        }
      ]
    },
    {
      "cell_type": "code",
      "metadata": {
        "id": "vL53fa-QDpfD"
      },
      "source": [
        ""
      ],
      "execution_count": null,
      "outputs": []
    },
    {
      "cell_type": "markdown",
      "metadata": {
        "id": "Q-jAPo0tDpfD"
      },
      "source": [
        "### genre"
      ]
    },
    {
      "cell_type": "code",
      "metadata": {
        "id": "zSVKCfM7DpfE",
        "outputId": "bcd332ee-8428-466a-dbaa-f93dd1110dc9"
      },
      "source": [
        "labeled.head(4)"
      ],
      "execution_count": null,
      "outputs": [
        {
          "output_type": "execute_result",
          "data": {
            "text/html": [
              "<div>\n",
              "<style scoped>\n",
              "    .dataframe tbody tr th:only-of-type {\n",
              "        vertical-align: middle;\n",
              "    }\n",
              "\n",
              "    .dataframe tbody tr th {\n",
              "        vertical-align: top;\n",
              "    }\n",
              "\n",
              "    .dataframe thead th {\n",
              "        text-align: right;\n",
              "    }\n",
              "</style>\n",
              "<table border=\"1\" class=\"dataframe\">\n",
              "  <thead>\n",
              "    <tr style=\"text-align: right;\">\n",
              "      <th></th>\n",
              "      <th>author_id</th>\n",
              "      <th>description</th>\n",
              "      <th>bookformat</th>\n",
              "      <th>pages</th>\n",
              "      <th>published_date</th>\n",
              "      <th>publisher_id</th>\n",
              "      <th>weight</th>\n",
              "      <th>rating_value_0</th>\n",
              "      <th>rating_value_1</th>\n",
              "      <th>rating_count_0</th>\n",
              "      <th>...</th>\n",
              "      <th>genre_1_weight</th>\n",
              "      <th>genre_2_weight</th>\n",
              "      <th>genre_3_weight</th>\n",
              "      <th>genre_4_weight</th>\n",
              "      <th>genre_5_weight</th>\n",
              "      <th>genre_6_weight</th>\n",
              "      <th>genre_7_weight</th>\n",
              "      <th>genre_8_weight</th>\n",
              "      <th>genre_9_weight</th>\n",
              "      <th>price</th>\n",
              "    </tr>\n",
              "  </thead>\n",
              "  <tbody>\n",
              "    <tr>\n",
              "      <th>9</th>\n",
              "      <td>author0932</td>\n",
              "      <td>At long last, New York Times bestselling autho...</td>\n",
              "      <td>Mass Market Paperback</td>\n",
              "      <td>504.0</td>\n",
              "      <td>February 28, 2012</td>\n",
              "      <td>publisher149</td>\n",
              "      <td>3628.74</td>\n",
              "      <td>4.29</td>\n",
              "      <td>4.6</td>\n",
              "      <td>26983</td>\n",
              "      <td>...</td>\n",
              "      <td>0.21</td>\n",
              "      <td>0.17</td>\n",
              "      <td>0.10</td>\n",
              "      <td>0.08</td>\n",
              "      <td>0.05</td>\n",
              "      <td>0.04</td>\n",
              "      <td>0.04</td>\n",
              "      <td>0.03</td>\n",
              "      <td>0.02</td>\n",
              "      <td>98172.0</td>\n",
              "    </tr>\n",
              "    <tr>\n",
              "      <th>17</th>\n",
              "      <td>author2279</td>\n",
              "      <td>I sold my future to the man who ruined my past...</td>\n",
              "      <td>Kindle Edition</td>\n",
              "      <td>NaN</td>\n",
              "      <td>NaN</td>\n",
              "      <td>NaN</td>\n",
              "      <td>NaN</td>\n",
              "      <td>4.89</td>\n",
              "      <td>NaN</td>\n",
              "      <td>27</td>\n",
              "      <td>...</td>\n",
              "      <td>NaN</td>\n",
              "      <td>NaN</td>\n",
              "      <td>NaN</td>\n",
              "      <td>NaN</td>\n",
              "      <td>NaN</td>\n",
              "      <td>NaN</td>\n",
              "      <td>NaN</td>\n",
              "      <td>NaN</td>\n",
              "      <td>NaN</td>\n",
              "      <td>57604.0</td>\n",
              "    </tr>\n",
              "    <tr>\n",
              "      <th>29</th>\n",
              "      <td>author2386</td>\n",
              "      <td>From Rob Thomas, the creator of groundbreaking...</td>\n",
              "      <td>Paperback</td>\n",
              "      <td>324.0</td>\n",
              "      <td>March 25, 2014</td>\n",
              "      <td>publisher381</td>\n",
              "      <td>3991.61</td>\n",
              "      <td>3.99</td>\n",
              "      <td>4.6</td>\n",
              "      <td>43657</td>\n",
              "      <td>...</td>\n",
              "      <td>0.19</td>\n",
              "      <td>0.07</td>\n",
              "      <td>0.07</td>\n",
              "      <td>0.06</td>\n",
              "      <td>0.05</td>\n",
              "      <td>0.04</td>\n",
              "      <td>0.04</td>\n",
              "      <td>0.03</td>\n",
              "      <td>0.02</td>\n",
              "      <td>103658.0</td>\n",
              "    </tr>\n",
              "    <tr>\n",
              "      <th>33</th>\n",
              "      <td>author2769</td>\n",
              "      <td>Hannis Arc, working on the tapestry of lines l...</td>\n",
              "      <td>Hardcover</td>\n",
              "      <td>528.0</td>\n",
              "      <td>August 16, 2011</td>\n",
              "      <td>publisher099</td>\n",
              "      <td>771.11</td>\n",
              "      <td>3.68</td>\n",
              "      <td>4.3</td>\n",
              "      <td>19382</td>\n",
              "      <td>...</td>\n",
              "      <td>0.07</td>\n",
              "      <td>0.05</td>\n",
              "      <td>0.02</td>\n",
              "      <td>0.02</td>\n",
              "      <td>0.02</td>\n",
              "      <td>0.02</td>\n",
              "      <td>0.01</td>\n",
              "      <td>0.01</td>\n",
              "      <td>0.01</td>\n",
              "      <td>649665.0</td>\n",
              "    </tr>\n",
              "  </tbody>\n",
              "</table>\n",
              "<p>4 rows × 35 columns</p>\n",
              "</div>"
            ],
            "text/plain": [
              "     author_id                                        description  \\\n",
              "9   author0932  At long last, New York Times bestselling autho...   \n",
              "17  author2279  I sold my future to the man who ruined my past...   \n",
              "29  author2386  From Rob Thomas, the creator of groundbreaking...   \n",
              "33  author2769  Hannis Arc, working on the tapestry of lines l...   \n",
              "\n",
              "               bookformat  pages     published_date  publisher_id   weight  \\\n",
              "9   Mass Market Paperback  504.0  February 28, 2012  publisher149  3628.74   \n",
              "17         Kindle Edition    NaN                NaN           NaN      NaN   \n",
              "29              Paperback  324.0     March 25, 2014  publisher381  3991.61   \n",
              "33              Hardcover  528.0    August 16, 2011  publisher099   771.11   \n",
              "\n",
              "    rating_value_0  rating_value_1  rating_count_0  ...  genre_1_weight  \\\n",
              "9             4.29             4.6           26983  ...            0.21   \n",
              "17            4.89             NaN              27  ...             NaN   \n",
              "29            3.99             4.6           43657  ...            0.19   \n",
              "33            3.68             4.3           19382  ...            0.07   \n",
              "\n",
              "    genre_2_weight  genre_3_weight  genre_4_weight genre_5_weight  \\\n",
              "9             0.17            0.10            0.08           0.05   \n",
              "17             NaN             NaN             NaN            NaN   \n",
              "29            0.07            0.07            0.06           0.05   \n",
              "33            0.05            0.02            0.02           0.02   \n",
              "\n",
              "   genre_6_weight genre_7_weight genre_8_weight genre_9_weight     price  \n",
              "9            0.04           0.04           0.03           0.02   98172.0  \n",
              "17            NaN            NaN            NaN            NaN   57604.0  \n",
              "29           0.04           0.04           0.03           0.02  103658.0  \n",
              "33           0.02           0.01           0.01           0.01  649665.0  \n",
              "\n",
              "[4 rows x 35 columns]"
            ]
          },
          "metadata": {
            "tags": []
          },
          "execution_count": 3
        }
      ]
    },
    {
      "cell_type": "markdown",
      "metadata": {
        "id": "Rj1V6jCRElnH"
      },
      "source": [
        "## Data Preprocessing"
      ]
    },
    {
      "cell_type": "markdown",
      "metadata": {
        "id": "4lDff7hyEyAi"
      },
      "source": [
        "Data Preprocessing flow:\n",
        "1. Drop author_id and publisher_id (because these are just id)\n",
        "2. Just take the word length of description variable\n",
        "3. Label Encode the bookformat variable\n",
        "4. Split published_date to month, date, and year\n",
        "5. Turn the rating_blabla variable into one rating variable: sigma(rating_value(i)*rating_count(i))/sigma(rating_value(i)\n",
        "6. Multiply all dimensions\n",
        "7. Turn all genre become one variable: (fiction or nonfiction)\n",
        "8. Drop all the genre weight because after the tranformation of the genre variable, the weight become unrelevant "
      ]
    },
    {
      "cell_type": "code",
      "metadata": {
        "id": "y2VEIh0Hdnyt"
      },
      "source": [
        "train = pd.read_csv('public-train.csv', sep = '|')"
      ],
      "execution_count": null,
      "outputs": []
    },
    {
      "cell_type": "code",
      "metadata": {
        "id": "5qOO9El1dnyu"
      },
      "source": [
        "train['desc_length'] = train['description'].str.split().str.len()\n",
        "train[['month', 'date', 'year', 'c']] = train['published_date'].str.split(expand = True)\n",
        "train['date'] = train['date'].str.rstrip(',')\n",
        "train['dimension'] = train['dimension_0']*train['dimension_1']*train['dimension_2']\n",
        "train['rating'] = (train['rating_value_0']*train['rating_count_0'] + train['rating_value_1']*train['rating_count_1'])/(train['rating_count_0']+train['rating_count_1'])"
      ],
      "execution_count": null,
      "outputs": []
    },
    {
      "cell_type": "code",
      "metadata": {
        "id": "TeBGDMkRDpfT"
      },
      "source": [
        "var = ['genre_0', 'genre_1', 'genre_2','genre_3','genre_4','genre_5','genre_6','genre_7','genre_8', 'genre_9']\n",
        "train[var] = train[var].fillna(\"Tidak\")\n",
        "train['genre'] = train[var].agg(' '.join, axis=1)\n",
        "f = lambda x: -1 if \"Tidak\" in x else (0 if \"Nonfiction\" in x else 1)\n",
        "train['isfiction'] = train['genre'].apply(f)\n",
        "train['isfiction'][train['isfiction'] == -1] = np.NaN"
      ],
      "execution_count": null,
      "outputs": []
    },
    {
      "cell_type": "code",
      "metadata": {
        "id": "Gf3Y4t3nDpfc"
      },
      "source": [
        "train['date'] = pd.to_numeric(train['date'], errors = 'coerce')\n",
        "train['year'] = pd.to_numeric(train['year'], errors = 'coerce')\n",
        "month_map = {\"january\": 1, \"february\": 2, \"march\": 3, \"april\": 4, \"may\": 5, \"june\": 6, \"july\": 7, \"august\": 8,\n",
        "            \"september\": 9, \"october\": 10, \"november\": 11, \"december\": 12}\n",
        "train['month'] = train['month'].str.lower()\n",
        "train['bookformat'] = train['bookformat'].str.lower()\n",
        "train['month'] = train['month'].map(month_map)"
      ],
      "execution_count": null,
      "outputs": []
    },
    {
      "cell_type": "code",
      "metadata": {
        "id": "8yzW4ecAdnyv"
      },
      "source": [
        "var = ['author_id', 'publisher_id', 'description','c','published_date','rating_value_0','rating_value_1','bookedition',\n",
        "       'reading_age', 'lexile_measure', 'grade_level', 'rating_count_0', 'rating_count_1', 'dimension_0', 'dimension_1',\n",
        "       'dimension_2', 'genre','genre_0','genre_1','genre_2','genre_3','genre_4','genre_5','genre_6','genre_7','genre_8',\n",
        "       'genre_9', 'genre_0_weight', 'genre_1_weight','genre_2_weight','genre_3_weight','genre_4_weight','genre_5_weight',\n",
        "       'genre_6_weight','genre_7_weight', 'genre_8_weight','genre_9_weight']\n",
        "train = train.drop(var, axis = 1)"
      ],
      "execution_count": null,
      "outputs": []
    },
    {
      "cell_type": "code",
      "metadata": {
        "id": "gsx0Rns1Dpfj"
      },
      "source": [
        "numerik = ['pages', 'weight', 'desc_length', 'dimension', 'rating']\n",
        "kategorik = ['bookformat', 'month', 'date', 'year', 'isfiction']\n",
        "for i in numerik:\n",
        "    train[i] = train[i].fillna(train[i].mean())\n",
        "for j in kategorik:\n",
        "    train[j] = train[j].fillna(train[j].mode().iloc[0])"
      ],
      "execution_count": null,
      "outputs": []
    },
    {
      "cell_type": "code",
      "metadata": {
        "id": "1WcbFTvTdnyx"
      },
      "source": [
        "a = [\"hardcover\", \"paperback\", \"kindle edition\"]\n",
        "train['bookformat'] = train['bookformat'].apply(lambda x: x if x in a else \"others\")\n",
        "train = pd.get_dummies(train, columns=[\"bookformat\"], prefix=[\"format\"] )\n",
        "train = train.drop('format_others', axis = 1)"
      ],
      "execution_count": null,
      "outputs": []
    },
    {
      "cell_type": "code",
      "metadata": {
        "id": "6IDLbbhhdnyx",
        "outputId": "06eb51e4-f053-4a2e-b00b-94d9a5b2431d"
      },
      "source": [
        "train"
      ],
      "execution_count": null,
      "outputs": [
        {
          "output_type": "execute_result",
          "data": {
            "text/html": [
              "<div>\n",
              "<style scoped>\n",
              "    .dataframe tbody tr th:only-of-type {\n",
              "        vertical-align: middle;\n",
              "    }\n",
              "\n",
              "    .dataframe tbody tr th {\n",
              "        vertical-align: top;\n",
              "    }\n",
              "\n",
              "    .dataframe thead th {\n",
              "        text-align: right;\n",
              "    }\n",
              "</style>\n",
              "<table border=\"1\" class=\"dataframe\">\n",
              "  <thead>\n",
              "    <tr style=\"text-align: right;\">\n",
              "      <th></th>\n",
              "      <th>pages</th>\n",
              "      <th>weight</th>\n",
              "      <th>price</th>\n",
              "      <th>desc_length</th>\n",
              "      <th>month</th>\n",
              "      <th>date</th>\n",
              "      <th>year</th>\n",
              "      <th>dimension</th>\n",
              "      <th>rating</th>\n",
              "      <th>isfiction</th>\n",
              "      <th>format_hardcover</th>\n",
              "      <th>format_kindle edition</th>\n",
              "      <th>format_paperback</th>\n",
              "    </tr>\n",
              "  </thead>\n",
              "  <tbody>\n",
              "    <tr>\n",
              "      <th>0</th>\n",
              "      <td>309.000000</td>\n",
              "      <td>2372.200829</td>\n",
              "      <td>NaN</td>\n",
              "      <td>146.0</td>\n",
              "      <td>5.0</td>\n",
              "      <td>1.0</td>\n",
              "      <td>2012.0</td>\n",
              "      <td>984.726064</td>\n",
              "      <td>4.09234</td>\n",
              "      <td>1.0</td>\n",
              "      <td>1</td>\n",
              "      <td>0</td>\n",
              "      <td>0</td>\n",
              "    </tr>\n",
              "    <tr>\n",
              "      <th>1</th>\n",
              "      <td>331.894234</td>\n",
              "      <td>2372.200829</td>\n",
              "      <td>NaN</td>\n",
              "      <td>319.0</td>\n",
              "      <td>5.0</td>\n",
              "      <td>1.0</td>\n",
              "      <td>2012.0</td>\n",
              "      <td>984.726064</td>\n",
              "      <td>4.09234</td>\n",
              "      <td>1.0</td>\n",
              "      <td>0</td>\n",
              "      <td>0</td>\n",
              "      <td>1</td>\n",
              "    </tr>\n",
              "    <tr>\n",
              "      <th>2</th>\n",
              "      <td>496.000000</td>\n",
              "      <td>2372.200829</td>\n",
              "      <td>NaN</td>\n",
              "      <td>313.0</td>\n",
              "      <td>5.0</td>\n",
              "      <td>1.0</td>\n",
              "      <td>2012.0</td>\n",
              "      <td>984.726064</td>\n",
              "      <td>4.09234</td>\n",
              "      <td>0.0</td>\n",
              "      <td>1</td>\n",
              "      <td>0</td>\n",
              "      <td>0</td>\n",
              "    </tr>\n",
              "    <tr>\n",
              "      <th>3</th>\n",
              "      <td>418.000000</td>\n",
              "      <td>2372.200829</td>\n",
              "      <td>NaN</td>\n",
              "      <td>145.0</td>\n",
              "      <td>5.0</td>\n",
              "      <td>1.0</td>\n",
              "      <td>2012.0</td>\n",
              "      <td>984.726064</td>\n",
              "      <td>4.09234</td>\n",
              "      <td>1.0</td>\n",
              "      <td>1</td>\n",
              "      <td>0</td>\n",
              "      <td>0</td>\n",
              "    </tr>\n",
              "    <tr>\n",
              "      <th>4</th>\n",
              "      <td>784.000000</td>\n",
              "      <td>2372.200829</td>\n",
              "      <td>NaN</td>\n",
              "      <td>117.0</td>\n",
              "      <td>5.0</td>\n",
              "      <td>1.0</td>\n",
              "      <td>2012.0</td>\n",
              "      <td>984.726064</td>\n",
              "      <td>4.09234</td>\n",
              "      <td>0.0</td>\n",
              "      <td>1</td>\n",
              "      <td>0</td>\n",
              "      <td>0</td>\n",
              "    </tr>\n",
              "    <tr>\n",
              "      <th>...</th>\n",
              "      <td>...</td>\n",
              "      <td>...</td>\n",
              "      <td>...</td>\n",
              "      <td>...</td>\n",
              "      <td>...</td>\n",
              "      <td>...</td>\n",
              "      <td>...</td>\n",
              "      <td>...</td>\n",
              "      <td>...</td>\n",
              "      <td>...</td>\n",
              "      <td>...</td>\n",
              "      <td>...</td>\n",
              "      <td>...</td>\n",
              "    </tr>\n",
              "    <tr>\n",
              "      <th>3545</th>\n",
              "      <td>448.000000</td>\n",
              "      <td>2372.200829</td>\n",
              "      <td>NaN</td>\n",
              "      <td>104.0</td>\n",
              "      <td>5.0</td>\n",
              "      <td>1.0</td>\n",
              "      <td>2012.0</td>\n",
              "      <td>984.726064</td>\n",
              "      <td>4.09234</td>\n",
              "      <td>1.0</td>\n",
              "      <td>0</td>\n",
              "      <td>0</td>\n",
              "      <td>1</td>\n",
              "    </tr>\n",
              "    <tr>\n",
              "      <th>3546</th>\n",
              "      <td>478.000000</td>\n",
              "      <td>2372.200829</td>\n",
              "      <td>NaN</td>\n",
              "      <td>126.0</td>\n",
              "      <td>5.0</td>\n",
              "      <td>1.0</td>\n",
              "      <td>2012.0</td>\n",
              "      <td>984.726064</td>\n",
              "      <td>4.09234</td>\n",
              "      <td>1.0</td>\n",
              "      <td>1</td>\n",
              "      <td>0</td>\n",
              "      <td>0</td>\n",
              "    </tr>\n",
              "    <tr>\n",
              "      <th>3547</th>\n",
              "      <td>352.000000</td>\n",
              "      <td>2372.200829</td>\n",
              "      <td>NaN</td>\n",
              "      <td>173.0</td>\n",
              "      <td>5.0</td>\n",
              "      <td>1.0</td>\n",
              "      <td>2012.0</td>\n",
              "      <td>984.726064</td>\n",
              "      <td>4.09234</td>\n",
              "      <td>1.0</td>\n",
              "      <td>1</td>\n",
              "      <td>0</td>\n",
              "      <td>0</td>\n",
              "    </tr>\n",
              "    <tr>\n",
              "      <th>3548</th>\n",
              "      <td>331.894234</td>\n",
              "      <td>2372.200829</td>\n",
              "      <td>NaN</td>\n",
              "      <td>224.0</td>\n",
              "      <td>5.0</td>\n",
              "      <td>1.0</td>\n",
              "      <td>2012.0</td>\n",
              "      <td>984.726064</td>\n",
              "      <td>4.09234</td>\n",
              "      <td>1.0</td>\n",
              "      <td>0</td>\n",
              "      <td>1</td>\n",
              "      <td>0</td>\n",
              "    </tr>\n",
              "    <tr>\n",
              "      <th>3549</th>\n",
              "      <td>315.000000</td>\n",
              "      <td>2372.200829</td>\n",
              "      <td>NaN</td>\n",
              "      <td>161.0</td>\n",
              "      <td>5.0</td>\n",
              "      <td>1.0</td>\n",
              "      <td>2012.0</td>\n",
              "      <td>984.726064</td>\n",
              "      <td>4.09234</td>\n",
              "      <td>1.0</td>\n",
              "      <td>1</td>\n",
              "      <td>0</td>\n",
              "      <td>0</td>\n",
              "    </tr>\n",
              "  </tbody>\n",
              "</table>\n",
              "<p>3550 rows × 13 columns</p>\n",
              "</div>"
            ],
            "text/plain": [
              "           pages       weight  price  desc_length  month  date    year  \\\n",
              "0     309.000000  2372.200829    NaN        146.0    5.0   1.0  2012.0   \n",
              "1     331.894234  2372.200829    NaN        319.0    5.0   1.0  2012.0   \n",
              "2     496.000000  2372.200829    NaN        313.0    5.0   1.0  2012.0   \n",
              "3     418.000000  2372.200829    NaN        145.0    5.0   1.0  2012.0   \n",
              "4     784.000000  2372.200829    NaN        117.0    5.0   1.0  2012.0   \n",
              "...          ...          ...    ...          ...    ...   ...     ...   \n",
              "3545  448.000000  2372.200829    NaN        104.0    5.0   1.0  2012.0   \n",
              "3546  478.000000  2372.200829    NaN        126.0    5.0   1.0  2012.0   \n",
              "3547  352.000000  2372.200829    NaN        173.0    5.0   1.0  2012.0   \n",
              "3548  331.894234  2372.200829    NaN        224.0    5.0   1.0  2012.0   \n",
              "3549  315.000000  2372.200829    NaN        161.0    5.0   1.0  2012.0   \n",
              "\n",
              "       dimension   rating  isfiction  format_hardcover  format_kindle edition  \\\n",
              "0     984.726064  4.09234        1.0                 1                      0   \n",
              "1     984.726064  4.09234        1.0                 0                      0   \n",
              "2     984.726064  4.09234        0.0                 1                      0   \n",
              "3     984.726064  4.09234        1.0                 1                      0   \n",
              "4     984.726064  4.09234        0.0                 1                      0   \n",
              "...          ...      ...        ...               ...                    ...   \n",
              "3545  984.726064  4.09234        1.0                 0                      0   \n",
              "3546  984.726064  4.09234        1.0                 1                      0   \n",
              "3547  984.726064  4.09234        1.0                 1                      0   \n",
              "3548  984.726064  4.09234        1.0                 0                      1   \n",
              "3549  984.726064  4.09234        1.0                 1                      0   \n",
              "\n",
              "      format_paperback  \n",
              "0                    0  \n",
              "1                    1  \n",
              "2                    0  \n",
              "3                    0  \n",
              "4                    0  \n",
              "...                ...  \n",
              "3545                 1  \n",
              "3546                 0  \n",
              "3547                 0  \n",
              "3548                 0  \n",
              "3549                 0  \n",
              "\n",
              "[3550 rows x 13 columns]"
            ]
          },
          "metadata": {
            "tags": []
          },
          "execution_count": 378
        }
      ]
    },
    {
      "cell_type": "code",
      "metadata": {
        "id": "L13Q04Sjdnyy"
      },
      "source": [
        "def preprocessing_datatest(dataset):\n",
        "    dataset['desc_length'] = dataset['description'].str.split().str.len()\n",
        "    dataset[['month', 'date', 'year']] = dataset['published_date'].str.split(expand = True)\n",
        "    dataset['date'] = dataset['date'].str.rstrip(',')\n",
        "    dataset['dimension'] = dataset['dimension_0']*dataset['dimension_1']*dataset['dimension_2']\n",
        "    dataset['rating'] = (dataset['rating_value_0']*dataset['rating_count_0'] + dataset['rating_value_1']*dataset['rating_count_1'])/(dataset['rating_count_0']+dataset['rating_count_1'])\n",
        "    var = ['genre_0', 'genre_1', 'genre_2','genre_3','genre_4','genre_5','genre_6','genre_7','genre_8', 'genre_9']\n",
        "    dataset[var] = dataset[var].fillna(\"Tidak\")\n",
        "    dataset['genre'] = dataset[var].agg(' '.join, axis=1)\n",
        "    f = lambda x: -1 if \"Tidak\" in x else (0 if \"Nonfiction\" in x else 1)\n",
        "    dataset['isfiction'] = dataset['genre'].apply(f)\n",
        "    dataset['isfiction'][dataset['isfiction'] == -1] = np.NaN\n",
        "    dataset['date'] = pd.to_numeric(dataset['date'], errors = 'coerce')\n",
        "    dataset['year'] = pd.to_numeric(dataset['year'], errors = 'coerce')\n",
        "    month_map = {\"january\": 1, \"february\": 2, \"march\": 3, \"april\": 4, \"may\": 5, \"june\": 6, \"july\": 7, \"august\": 8,\n",
        "                 \"september\": 9, \"october\": 10, \"november\": 11, \"december\": 12}\n",
        "    dataset['month'] = dataset['month'].str.lower()\n",
        "    dataset['bookformat'] = dataset['bookformat'].str.lower()\n",
        "    dataset['month'] = dataset['month'].map(month_map)\n",
        "    drop = ['author_id', 'publisher_id', 'description','published_date','rating_value_0','rating_value_1','bookedition',\n",
        "            'reading_age', 'lexile_measure', 'grade_level', 'rating_count_0', 'rating_count_1', 'dimension_0', 'dimension_1',\n",
        "            'dimension_2', 'genre','genre_0','genre_1','genre_2','genre_3','genre_4','genre_5','genre_6','genre_7','genre_8',\n",
        "            'genre_9', 'genre_0_weight', 'genre_1_weight','genre_2_weight','genre_3_weight','genre_4_weight','genre_5_weight',\n",
        "            'genre_6_weight','genre_7_weight', 'genre_8_weight','genre_9_weight']\n",
        "    dataset = dataset.drop(drop, axis = 1)\n",
        "    numerik = ['pages', 'weight', 'desc_length', 'dimension', 'rating']\n",
        "    kategorik = ['bookformat', 'month', 'date', 'year', 'isfiction']\n",
        "    for i in numerik:\n",
        "        dataset[i] = dataset[i].fillna(dataset[i].mean())\n",
        "    for j in kategorik:\n",
        "        dataset[j] = dataset[j].fillna(dataset[j].mode().iloc[0])\n",
        "    a = [\"hardcover\", \"paperback\", \"kindle edition\"]\n",
        "    dataset['bookformat'] = dataset['bookformat'].apply(lambda x: x if x in a else \"others\")\n",
        "    dataset = pd.get_dummies(dataset, columns=[\"bookformat\"], prefix=[\"format\"] )\n",
        "    dataset = dataset.drop('format_others', axis = 1)\n",
        "    return dataset"
      ],
      "execution_count": null,
      "outputs": []
    },
    {
      "cell_type": "code",
      "metadata": {
        "id": "SIeAl4XXdny0"
      },
      "source": [
        "labeled = train[train['price'].isnull() == False]\n",
        "unlabeled = train[train['price'].isnull() == True]"
      ],
      "execution_count": null,
      "outputs": []
    },
    {
      "cell_type": "code",
      "metadata": {
        "id": "Dw8EsiLYdny1",
        "outputId": "fe6877e0-ac9c-4afb-a127-c182e6720cba"
      },
      "source": [
        "labeled"
      ],
      "execution_count": null,
      "outputs": [
        {
          "output_type": "execute_result",
          "data": {
            "text/html": [
              "<div>\n",
              "<style scoped>\n",
              "    .dataframe tbody tr th:only-of-type {\n",
              "        vertical-align: middle;\n",
              "    }\n",
              "\n",
              "    .dataframe tbody tr th {\n",
              "        vertical-align: top;\n",
              "    }\n",
              "\n",
              "    .dataframe thead th {\n",
              "        text-align: right;\n",
              "    }\n",
              "</style>\n",
              "<table border=\"1\" class=\"dataframe\">\n",
              "  <thead>\n",
              "    <tr style=\"text-align: right;\">\n",
              "      <th></th>\n",
              "      <th>pages</th>\n",
              "      <th>weight</th>\n",
              "      <th>price</th>\n",
              "      <th>desc_length</th>\n",
              "      <th>month</th>\n",
              "      <th>date</th>\n",
              "      <th>year</th>\n",
              "      <th>dimension</th>\n",
              "      <th>rating</th>\n",
              "      <th>isfiction</th>\n",
              "      <th>format_hardcover</th>\n",
              "      <th>format_kindle edition</th>\n",
              "      <th>format_paperback</th>\n",
              "    </tr>\n",
              "  </thead>\n",
              "  <tbody>\n",
              "    <tr>\n",
              "      <th>9</th>\n",
              "      <td>504.000000</td>\n",
              "      <td>3628.740000</td>\n",
              "      <td>98172.0</td>\n",
              "      <td>136.0</td>\n",
              "      <td>2.0</td>\n",
              "      <td>28.0</td>\n",
              "      <td>2012.0</td>\n",
              "      <td>593.963040</td>\n",
              "      <td>4.295684</td>\n",
              "      <td>1.0</td>\n",
              "      <td>0</td>\n",
              "      <td>0</td>\n",
              "      <td>0</td>\n",
              "    </tr>\n",
              "    <tr>\n",
              "      <th>17</th>\n",
              "      <td>331.894234</td>\n",
              "      <td>2372.200829</td>\n",
              "      <td>57604.0</td>\n",
              "      <td>194.0</td>\n",
              "      <td>5.0</td>\n",
              "      <td>1.0</td>\n",
              "      <td>2012.0</td>\n",
              "      <td>984.726064</td>\n",
              "      <td>4.092340</td>\n",
              "      <td>1.0</td>\n",
              "      <td>0</td>\n",
              "      <td>1</td>\n",
              "      <td>0</td>\n",
              "    </tr>\n",
              "    <tr>\n",
              "      <th>29</th>\n",
              "      <td>324.000000</td>\n",
              "      <td>3991.610000</td>\n",
              "      <td>103658.0</td>\n",
              "      <td>174.0</td>\n",
              "      <td>3.0</td>\n",
              "      <td>25.0</td>\n",
              "      <td>2014.0</td>\n",
              "      <td>497.887170</td>\n",
              "      <td>4.010745</td>\n",
              "      <td>1.0</td>\n",
              "      <td>0</td>\n",
              "      <td>0</td>\n",
              "      <td>1</td>\n",
              "    </tr>\n",
              "    <tr>\n",
              "      <th>33</th>\n",
              "      <td>528.000000</td>\n",
              "      <td>771.110000</td>\n",
              "      <td>649665.0</td>\n",
              "      <td>268.0</td>\n",
              "      <td>8.0</td>\n",
              "      <td>16.0</td>\n",
              "      <td>2011.0</td>\n",
              "      <td>1742.425776</td>\n",
              "      <td>3.724646</td>\n",
              "      <td>1.0</td>\n",
              "      <td>1</td>\n",
              "      <td>0</td>\n",
              "      <td>0</td>\n",
              "    </tr>\n",
              "    <tr>\n",
              "      <th>44</th>\n",
              "      <td>500.000000</td>\n",
              "      <td>725.750000</td>\n",
              "      <td>247883.0</td>\n",
              "      <td>332.0</td>\n",
              "      <td>5.0</td>\n",
              "      <td>5.0</td>\n",
              "      <td>2019.0</td>\n",
              "      <td>1104.384888</td>\n",
              "      <td>3.763902</td>\n",
              "      <td>1.0</td>\n",
              "      <td>0</td>\n",
              "      <td>0</td>\n",
              "      <td>1</td>\n",
              "    </tr>\n",
              "    <tr>\n",
              "      <th>...</th>\n",
              "      <td>...</td>\n",
              "      <td>...</td>\n",
              "      <td>...</td>\n",
              "      <td>...</td>\n",
              "      <td>...</td>\n",
              "      <td>...</td>\n",
              "      <td>...</td>\n",
              "      <td>...</td>\n",
              "      <td>...</td>\n",
              "      <td>...</td>\n",
              "      <td>...</td>\n",
              "      <td>...</td>\n",
              "      <td>...</td>\n",
              "    </tr>\n",
              "    <tr>\n",
              "      <th>3518</th>\n",
              "      <td>351.000000</td>\n",
              "      <td>512.560000</td>\n",
              "      <td>262176.0</td>\n",
              "      <td>285.0</td>\n",
              "      <td>3.0</td>\n",
              "      <td>19.0</td>\n",
              "      <td>2013.0</td>\n",
              "      <td>1423.025856</td>\n",
              "      <td>3.858323</td>\n",
              "      <td>1.0</td>\n",
              "      <td>1</td>\n",
              "      <td>0</td>\n",
              "      <td>0</td>\n",
              "    </tr>\n",
              "    <tr>\n",
              "      <th>3522</th>\n",
              "      <td>257.000000</td>\n",
              "      <td>566.990000</td>\n",
              "      <td>216411.0</td>\n",
              "      <td>165.0</td>\n",
              "      <td>4.0</td>\n",
              "      <td>3.0</td>\n",
              "      <td>2012.0</td>\n",
              "      <td>1029.472146</td>\n",
              "      <td>4.172433</td>\n",
              "      <td>1.0</td>\n",
              "      <td>1</td>\n",
              "      <td>0</td>\n",
              "      <td>0</td>\n",
              "    </tr>\n",
              "    <tr>\n",
              "      <th>3529</th>\n",
              "      <td>444.000000</td>\n",
              "      <td>780.180000</td>\n",
              "      <td>152310.0</td>\n",
              "      <td>232.0</td>\n",
              "      <td>7.0</td>\n",
              "      <td>19.0</td>\n",
              "      <td>2011.0</td>\n",
              "      <td>1257.093120</td>\n",
              "      <td>3.856804</td>\n",
              "      <td>0.0</td>\n",
              "      <td>1</td>\n",
              "      <td>0</td>\n",
              "      <td>0</td>\n",
              "    </tr>\n",
              "    <tr>\n",
              "      <th>3538</th>\n",
              "      <td>64.000000</td>\n",
              "      <td>3265.860000</td>\n",
              "      <td>176853.0</td>\n",
              "      <td>119.0</td>\n",
              "      <td>6.0</td>\n",
              "      <td>14.0</td>\n",
              "      <td>2011.0</td>\n",
              "      <td>342.827100</td>\n",
              "      <td>4.342671</td>\n",
              "      <td>1.0</td>\n",
              "      <td>1</td>\n",
              "      <td>0</td>\n",
              "      <td>0</td>\n",
              "    </tr>\n",
              "    <tr>\n",
              "      <th>3541</th>\n",
              "      <td>76.000000</td>\n",
              "      <td>1741.790000</td>\n",
              "      <td>216555.0</td>\n",
              "      <td>106.0</td>\n",
              "      <td>3.0</td>\n",
              "      <td>30.0</td>\n",
              "      <td>2013.0</td>\n",
              "      <td>143.132726</td>\n",
              "      <td>4.304167</td>\n",
              "      <td>1.0</td>\n",
              "      <td>0</td>\n",
              "      <td>0</td>\n",
              "      <td>1</td>\n",
              "    </tr>\n",
              "  </tbody>\n",
              "</table>\n",
              "<p>543 rows × 13 columns</p>\n",
              "</div>"
            ],
            "text/plain": [
              "           pages       weight     price  desc_length  month  date    year  \\\n",
              "9     504.000000  3628.740000   98172.0        136.0    2.0  28.0  2012.0   \n",
              "17    331.894234  2372.200829   57604.0        194.0    5.0   1.0  2012.0   \n",
              "29    324.000000  3991.610000  103658.0        174.0    3.0  25.0  2014.0   \n",
              "33    528.000000   771.110000  649665.0        268.0    8.0  16.0  2011.0   \n",
              "44    500.000000   725.750000  247883.0        332.0    5.0   5.0  2019.0   \n",
              "...          ...          ...       ...          ...    ...   ...     ...   \n",
              "3518  351.000000   512.560000  262176.0        285.0    3.0  19.0  2013.0   \n",
              "3522  257.000000   566.990000  216411.0        165.0    4.0   3.0  2012.0   \n",
              "3529  444.000000   780.180000  152310.0        232.0    7.0  19.0  2011.0   \n",
              "3538   64.000000  3265.860000  176853.0        119.0    6.0  14.0  2011.0   \n",
              "3541   76.000000  1741.790000  216555.0        106.0    3.0  30.0  2013.0   \n",
              "\n",
              "        dimension    rating  isfiction  format_hardcover  \\\n",
              "9      593.963040  4.295684        1.0                 0   \n",
              "17     984.726064  4.092340        1.0                 0   \n",
              "29     497.887170  4.010745        1.0                 0   \n",
              "33    1742.425776  3.724646        1.0                 1   \n",
              "44    1104.384888  3.763902        1.0                 0   \n",
              "...           ...       ...        ...               ...   \n",
              "3518  1423.025856  3.858323        1.0                 1   \n",
              "3522  1029.472146  4.172433        1.0                 1   \n",
              "3529  1257.093120  3.856804        0.0                 1   \n",
              "3538   342.827100  4.342671        1.0                 1   \n",
              "3541   143.132726  4.304167        1.0                 0   \n",
              "\n",
              "      format_kindle edition  format_paperback  \n",
              "9                         0                 0  \n",
              "17                        1                 0  \n",
              "29                        0                 1  \n",
              "33                        0                 0  \n",
              "44                        0                 1  \n",
              "...                     ...               ...  \n",
              "3518                      0                 0  \n",
              "3522                      0                 0  \n",
              "3529                      0                 0  \n",
              "3538                      0                 0  \n",
              "3541                      0                 1  \n",
              "\n",
              "[543 rows x 13 columns]"
            ]
          },
          "metadata": {
            "tags": []
          },
          "execution_count": 389
        }
      ]
    },
    {
      "cell_type": "code",
      "metadata": {
        "id": "xjGEX-VWdny2"
      },
      "source": [
        "test = pd.read_csv('public-test.csv', sep = '|')"
      ],
      "execution_count": null,
      "outputs": []
    },
    {
      "cell_type": "code",
      "metadata": {
        "id": "E_O3hs9xdny2"
      },
      "source": [
        "test = preprocessing_datatest(test)"
      ],
      "execution_count": null,
      "outputs": []
    },
    {
      "cell_type": "code",
      "metadata": {
        "id": "wWVnX94odny2"
      },
      "source": [
        "x_labeled = labeled.drop('price', axis = 1)\n",
        "y_labeled = labeled['price']\n",
        "x_test = test.drop('price', axis = 1)\n",
        "y_test = test['price']"
      ],
      "execution_count": null,
      "outputs": []
    },
    {
      "cell_type": "code",
      "metadata": {
        "id": "rXeAYelcDpfo"
      },
      "source": [
        "scaler = StandardScaler()\n",
        "x_labeled = scaler.fit_transform(x_labeled)\n",
        "x_test = scaler.fit_transform(x_test)"
      ],
      "execution_count": null,
      "outputs": []
    },
    {
      "cell_type": "code",
      "metadata": {
        "id": "vrN1SJQedny3",
        "outputId": "a53f4ff2-8dd0-4de0-b01f-30ee28ee76aa"
      },
      "source": [
        "x_labeled"
      ],
      "execution_count": null,
      "outputs": [
        {
          "output_type": "execute_result",
          "data": {
            "text/plain": [
              "array([[ 1.14751174,  0.63521976, -0.60030771, ..., -1.42009389,\n",
              "        -0.34914299, -0.47511434],\n",
              "       [-0.01977313,  0.02664699,  0.10323526, ..., -1.42009389,\n",
              "         2.86415604, -0.47511434],\n",
              "       [-0.07331473,  0.81096661, -0.13936577, ..., -1.42009389,\n",
              "        -0.34914299,  2.10475652],\n",
              "       ...,\n",
              "       [ 0.74056958, -0.74440778,  0.5641772 , ...,  0.70417879,\n",
              "        -0.34914299, -0.47511434],\n",
              "       [-1.83673075,  0.45946807, -0.80651858, ...,  0.70417879,\n",
              "        -0.34914299, -0.47511434],\n",
              "       [-1.75534232, -0.27867645, -0.96420925, ..., -1.42009389,\n",
              "        -0.34914299,  2.10475652]])"
            ]
          },
          "metadata": {
            "tags": []
          },
          "execution_count": 388
        }
      ]
    },
    {
      "cell_type": "markdown",
      "metadata": {
        "id": "k029vzQNdny4"
      },
      "source": [
        "### Linear Regression"
      ]
    },
    {
      "cell_type": "code",
      "metadata": {
        "id": "95QqwowZDpfp",
        "outputId": "da462542-7682-4a92-a56b-dbfc5c08e492"
      },
      "source": [
        "model = LinearRegression()\n",
        "model.fit(x_labeled, y_labeled)\n",
        "prediksi_train = model.predict(x_labeled)\n",
        "prediksi_test = model.predict(x_test)\n",
        "mse_train = mean_squared_error(y_labeled, prediksi_train)\n",
        "mse_test = mean_squared_error(y_test, prediksi_test)\n",
        "rmse_train = np.sqrt(mse_train)\n",
        "rmse_test = np.sqrt(mse_test)\n",
        "r2_train = r2_score(y_labeled, prediksi_train)\n",
        "r2_test = r2_score(y_test, prediksi_test)\n",
        "print(\"RMSE Train (labeled): {}\".format(rmse_train))\n",
        "print(\"RMSE Test: {}\".format(rmse_test))\n",
        "print(\"R2 Train (labeled): {}\".format(r2_train))\n",
        "print(\"R2 Test: {}\".format(r2_test))"
      ],
      "execution_count": null,
      "outputs": [
        {
          "output_type": "stream",
          "text": [
            "RMSE Train (labeled): 117531.49097437973\n",
            "RMSE Test: 171930.49742965412\n",
            "R2 Train (labeled): 0.27576022539579326\n",
            "R2 Test: 0.1621802812679044\n"
          ],
          "name": "stdout"
        }
      ]
    },
    {
      "cell_type": "markdown",
      "metadata": {
        "id": "qC5ZA7zddny4"
      },
      "source": [
        "### kNN"
      ]
    },
    {
      "cell_type": "code",
      "metadata": {
        "id": "u9BbmbA3Dpfq",
        "outputId": "f7afe00a-a801-4522-81ae-a3310b16b3ba"
      },
      "source": [
        "model = KNeighborsRegressor()\n",
        "model.fit(x_labeled, y_labeled)\n",
        "prediksi_train = model.predict(x_labeled)\n",
        "prediksi_test = model.predict(x_test)\n",
        "mse_train = mean_squared_error(y_labeled, prediksi_train)\n",
        "mse_test = mean_squared_error(y_test, prediksi_test)\n",
        "rmse_train = np.sqrt(mse_train)\n",
        "rmse_test = np.sqrt(mse_test)\n",
        "r2_train = r2_score(y_labeled, prediksi_train)\n",
        "r2_test = r2_score(y_test, prediksi_test)\n",
        "print(\"RMSE Train (labeled): {}\".format(rmse_train))\n",
        "print(\"RMSE Test: {}\".format(rmse_test))\n",
        "print(\"R2 Train (labeled): {}\".format(r2_train))\n",
        "print(\"R2 Test: {}\".format(r2_test))"
      ],
      "execution_count": null,
      "outputs": [
        {
          "output_type": "stream",
          "text": [
            "RMSE Train (labeled): 104274.57083613065\n",
            "RMSE Test: 177925.12381977763\n",
            "R2 Train (labeled): 0.42992669673714556\n",
            "R2 Test: 0.1027379661401917\n"
          ],
          "name": "stdout"
        }
      ]
    },
    {
      "cell_type": "markdown",
      "metadata": {
        "id": "_DFJ9LZhdny5"
      },
      "source": [
        "### Decision Tree"
      ]
    },
    {
      "cell_type": "code",
      "metadata": {
        "id": "reOhUyREDpfq",
        "outputId": "c47fbcfa-eb7e-471c-9b26-8830f71e4c94"
      },
      "source": [
        "model = DecisionTreeRegressor()\n",
        "model.fit(x_labeled, y_labeled)\n",
        "prediksi_train = model.predict(x_labeled)\n",
        "prediksi_test = model.predict(x_test)\n",
        "mse_train = mean_squared_error(y_labeled, prediksi_train)\n",
        "mse_test = mean_squared_error(y_test, prediksi_test)\n",
        "rmse_train = np.sqrt(mse_train)\n",
        "rmse_test = np.sqrt(mse_test)\n",
        "r2_train = r2_score(y_labeled, prediksi_train)\n",
        "r2_test = r2_score(y_test, prediksi_test)\n",
        "print(\"RMSE Train (labeled): {}\".format(rmse_train))\n",
        "print(\"RMSE Test: {}\".format(rmse_test))\n",
        "print(\"R2 Train (labeled): {}\".format(r2_train))\n",
        "print(\"R2 Test: {}\".format(r2_test))"
      ],
      "execution_count": null,
      "outputs": [
        {
          "output_type": "stream",
          "text": [
            "RMSE Train (labeled): 2938.788290439122\n",
            "RMSE Test: 209805.33272833892\n",
            "R2 Train (labeled): 0.9995471957623712\n",
            "R2 Test: -0.24760694482602186\n"
          ],
          "name": "stdout"
        }
      ]
    },
    {
      "cell_type": "markdown",
      "metadata": {
        "id": "FVIPTZKcdny6"
      },
      "source": [
        "### Random Forest"
      ]
    },
    {
      "cell_type": "code",
      "metadata": {
        "id": "9GoMQwfkdny6",
        "outputId": "a155cbe3-e030-4ba4-d51b-da52fe192bb5"
      },
      "source": [
        "model = RandomForestRegressor()\n",
        "# parameters = {'max_depth': [5,10,20], 'random_state': [123], 'n_estimators': [25, 50, 100, 500, 1000],\n",
        "#               'max_features': ['auto', 'sqrt', 'log2'], 'max_depth': [5, 10, 20, 50], 'min_samples_split': [2, 5, 10],\n",
        "#               'min_samples_leaf': [1, 5, 10], 'min_weight_fraction_leaf': [0.0, 0.2, 0.5]}\n",
        "# model = GridSearchCV(regressor, parameters, cv = 10)\n",
        "model.fit(x_labeled, y_labeled)\n",
        "prediksi_train = model.predict(x_labeled)\n",
        "prediksi_test = model.predict(x_test)\n",
        "mse_train = mean_squared_error(y_labeled, prediksi_train)\n",
        "mse_test = mean_squared_error(y_test, prediksi_test)\n",
        "rmse_train = np.sqrt(mse_train)\n",
        "rmse_test = np.sqrt(mse_test)\n",
        "r2_train = r2_score(y_labeled, prediksi_train)\n",
        "r2_test = r2_score(y_test, prediksi_test)\n",
        "# print(\"Best Parameter: {}\".format(model.best_params_))\n",
        "print(\"RMSE Train (labeled): {}\".format(rmse_train))\n",
        "print(\"RMSE Test: {}\".format(rmse_test))\n",
        "print(\"R2 Train (labeled): {}\".format(r2_train))\n",
        "print(\"R2 Test: {}\".format(r2_test))"
      ],
      "execution_count": null,
      "outputs": [
        {
          "output_type": "stream",
          "text": [
            "RMSE Train (labeled): 46574.73871433465\n",
            "RMSE Test: 172806.08412194432\n",
            "R2 Train (labeled): 0.8862700795241667\n",
            "R2 Test: 0.15362505970628104\n"
          ],
          "name": "stdout"
        }
      ]
    },
    {
      "cell_type": "code",
      "metadata": {
        "id": "0S6q4_vsdny7",
        "outputId": "fa3121a2-4f3d-4c38-dca1-286241d4d621"
      },
      "source": [
        "model.best_params_"
      ],
      "execution_count": null,
      "outputs": [
        {
          "output_type": "execute_result",
          "data": {
            "text/plain": [
              "{'bootstrap': True,\n",
              " 'max_features': 'sqrt',\n",
              " 'n_estimators': 1000,\n",
              " 'random_state': 123}"
            ]
          },
          "metadata": {
            "tags": []
          },
          "execution_count": 138
        }
      ]
    },
    {
      "cell_type": "markdown",
      "metadata": {
        "id": "4dcQK3bzdny7"
      },
      "source": [
        "### AdaBoost"
      ]
    },
    {
      "cell_type": "code",
      "metadata": {
        "id": "Fb8A48iTdny8",
        "outputId": "fff7b6b4-719b-499d-be79-5be7d36303e6"
      },
      "source": [
        "model = AdaBoostRegressor()\n",
        "model.fit(x_labeled, y_labeled)\n",
        "prediksi_train = model.predict(x_labeled)\n",
        "prediksi_test = model.predict(x_test)\n",
        "mse_train = mean_squared_error(y_labeled, prediksi_train)\n",
        "mse_test = mean_squared_error(y_test, prediksi_test)\n",
        "rmse_train = np.sqrt(mse_train)\n",
        "rmse_test = np.sqrt(mse_test)\n",
        "r2_train = r2_score(y_labeled, prediksi_train)\n",
        "r2_test = r2_score(y_test, prediksi_test)\n",
        "print(\"RMSE Train (labeled): {}\".format(rmse_train))\n",
        "print(\"RMSE Test: {}\".format(rmse_test))\n",
        "print(\"R2 Train (labeled): {}\".format(r2_train))\n",
        "print(\"R2 Test: {}\".format(r2_test))"
      ],
      "execution_count": null,
      "outputs": [
        {
          "output_type": "stream",
          "text": [
            "RMSE Train (labeled): 118199.63147636065\n",
            "RMSE Test: 179260.81024232905\n",
            "R2 Train (labeled): 0.2675025348407072\n",
            "R2 Test: 0.08921588313077666\n"
          ],
          "name": "stdout"
        }
      ]
    },
    {
      "cell_type": "markdown",
      "metadata": {
        "id": "_V-jr4Eydny8"
      },
      "source": [
        "### Gradient Boosting"
      ]
    },
    {
      "cell_type": "code",
      "metadata": {
        "id": "bQjK3peudny9",
        "outputId": "90af8bfd-7f0b-469d-d456-20ee3244cd4e"
      },
      "source": [
        "model = GradientBoostingRegressor()\n",
        "model.fit(x_labeled, y_labeled)\n",
        "prediksi_train = model.predict(x_labeled)\n",
        "prediksi_test = model.predict(x_test)\n",
        "mse_train = mean_squared_error(y_labeled, prediksi_train)\n",
        "mse_test = mean_squared_error(y_test, prediksi_test)\n",
        "rmse_train = np.sqrt(mse_train)\n",
        "rmse_test = np.sqrt(mse_test)\n",
        "r2_train = r2_score(y_labeled, prediksi_train)\n",
        "r2_test = r2_score(y_test, prediksi_test)\n",
        "print(\"RMSE Train (labeled): {}\".format(rmse_train))\n",
        "print(\"RMSE Test: {}\".format(rmse_test))\n",
        "print(\"R2 Train (labeled): {}\".format(r2_train))\n",
        "print(\"R2 Test: {}\".format(r2_test))"
      ],
      "execution_count": null,
      "outputs": [
        {
          "output_type": "stream",
          "text": [
            "RMSE Train (labeled): 71703.16820823392\n",
            "RMSE Test: 174741.31018639347\n",
            "R2 Train (labeled): 0.7304430262786381\n",
            "R2 Test: 0.13456209342514458\n"
          ],
          "name": "stdout"
        }
      ]
    },
    {
      "cell_type": "markdown",
      "metadata": {
        "id": "sSSYy0k0dny9"
      },
      "source": [
        "### XGBoost"
      ]
    },
    {
      "cell_type": "code",
      "metadata": {
        "id": "Z72rnsS9dny-",
        "outputId": "d65aa2ba-6f68-4758-9837-73d8d2821372"
      },
      "source": [
        "model = XGBRegressor()\n",
        "parameters = {'booster':['dart', 'gbtree'], 'tree_method':['auto'], 'subsample':[0.5,1],'max_depth' : [1,6,10]}\n",
        "model_xgb = GridSearchCV(model, parameters, cv=10)\n",
        "model_xgb.fit(x_labeled, y_labeled)\n",
        "prediksi_train = model_xgb.predict(x_labeled)\n",
        "prediksi_test = model_xgb.predict(x_test)\n",
        "mse_train = mean_squared_error(y_labeled, prediksi_train)\n",
        "mse_test = mean_squared_error(y_test, prediksi_test)\n",
        "rmse_train = np.sqrt(mse_train)\n",
        "rmse_test = np.sqrt(mse_test)\n",
        "r2_train = r2_score(y_labeled, prediksi_train)\n",
        "r2_test = r2_score(y_test, prediksi_test)\n",
        "print(\"Best Parameter: \", model_xgb.best_params_)\n",
        "print(\"RMSE Train (labeled): {}\".format(rmse_train))\n",
        "print(\"RMSE Test: {}\".format(rmse_test))\n",
        "print(\"R2 Train (labeled): {}\".format(r2_train))\n",
        "print(\"R2 Test: {}\".format(r2_test))"
      ],
      "execution_count": null,
      "outputs": [
        {
          "output_type": "stream",
          "text": [
            "Best Parameter:  {'booster': 'dart', 'max_depth': 1, 'subsample': 1, 'tree_method': 'auto'}\n",
            "RMSE Train (labeled): 107864.50608074859\n",
            "RMSE Test: 170016.5045144046\n",
            "R2 Train (labeled): 0.3899983644850068\n",
            "R2 Test: 0.18073027915489848\n"
          ],
          "name": "stdout"
        }
      ]
    },
    {
      "cell_type": "code",
      "metadata": {
        "id": "ex64UQd5dny-",
        "outputId": "644b5cac-4963-4e25-ac1b-1db51d97d9f7"
      },
      "source": [
        "model = XGBRegressor(booster = 'gbtree', max_depth = 1, subsample = 1, tree_method = 'auto', random_state = 5,\n",
        "                     learning_rate = 0.3, min_child_weight = 10, reg_lambda = 0.01)\n",
        "model.fit(x_labeled, y_labeled)\n",
        "prediksi_train = model.predict(x_labeled)\n",
        "prediksi_test = model.predict(x_test)\n",
        "mse_train = mean_squared_error(y_labeled, prediksi_train)\n",
        "mse_test = mean_squared_error(y_test, prediksi_test)\n",
        "rmse_train = np.sqrt(mse_train)\n",
        "rmse_test = np.sqrt(mse_test)\n",
        "r2_train = r2_score(y_labeled, prediksi_train)\n",
        "r2_test = r2_score(y_test, prediksi_test)\n",
        "print(\"RMSE Train (labeled): {}\".format(rmse_train))\n",
        "print(\"RMSE Test: {}\".format(rmse_test))\n",
        "print(\"R2 Train (labeled): {}\".format(r2_train))\n",
        "print(\"R2 Test: {}\".format(r2_test))"
      ],
      "execution_count": null,
      "outputs": [
        {
          "output_type": "stream",
          "text": [
            "RMSE Train (labeled): 108429.23081102395\n",
            "RMSE Test: 169589.6854464178\n",
            "R2 Train (labeled): 0.3835943156981748\n",
            "R2 Test: 0.184838598067947\n"
          ],
          "name": "stdout"
        }
      ]
    },
    {
      "cell_type": "code",
      "metadata": {
        "id": "0Ze6ff8Mdny_",
        "outputId": "a5438f32-5f45-4d04-91ad-1635486445f1"
      },
      "source": [
        "from sklearn.linear_model import ElasticNetCV\n",
        "model = ElasticNetCV(cv=5,n_alphas=10,l1_ratio=[.1, .5, .7, .9, .95, .99, 1])\n",
        "model.fit(x_labeled, y_labeled)\n",
        "prediksi_train = model.predict(x_labeled)\n",
        "prediksi_test = model.predict(x_test)\n",
        "mse_train = mean_squared_error(y_labeled, prediksi_train)\n",
        "mse_test = mean_squared_error(y_test, prediksi_test)\n",
        "rmse_train = np.sqrt(mse_train)\n",
        "rmse_test = np.sqrt(mse_test)\n",
        "r2_train = r2_score(y_labeled, prediksi_train)\n",
        "r2_test = r2_score(y_test, prediksi_test)\n",
        "print(\"RMSE Train (labeled): {}\".format(rmse_train))\n",
        "print(\"RMSE Test: {}\".format(rmse_test))\n",
        "print(\"R2 Train (labeled): {}\".format(r2_train))\n",
        "print(\"R2 Test: {}\".format(r2_test))"
      ],
      "execution_count": null,
      "outputs": [
        {
          "output_type": "stream",
          "text": [
            "RMSE Train (labeled): 117535.87338373541\n",
            "RMSE Test: 171900.93197549222\n",
            "R2 Train (labeled): 0.27570621477598867\n",
            "R2 Test: 0.16246840223620773\n"
          ],
          "name": "stdout"
        }
      ]
    },
    {
      "cell_type": "code",
      "metadata": {
        "id": "aE6nRUhLdnzA",
        "outputId": "f668c89f-d9ad-423b-c02d-3deab1b6cdef"
      },
      "source": [
        "!pip install catboost"
      ],
      "execution_count": null,
      "outputs": [
        {
          "output_type": "stream",
          "text": [
            "Collecting catboost\n",
            "  Downloading catboost-0.25.1-cp37-none-win_amd64.whl (66.9 MB)\n",
            "Requirement already satisfied: matplotlib in c:\\users\\hafiz yusuf heraldi\\anaconda3\\lib\\site-packages (from catboost) (3.3.1)\n",
            "Requirement already satisfied: pandas>=0.24.0 in c:\\users\\hafiz yusuf heraldi\\anaconda3\\lib\\site-packages (from catboost) (1.1.1)\n",
            "Requirement already satisfied: six in c:\\users\\hafiz yusuf heraldi\\anaconda3\\lib\\site-packages (from catboost) (1.15.0)\n",
            "Requirement already satisfied: scipy in c:\\users\\hafiz yusuf heraldi\\anaconda3\\lib\\site-packages (from catboost) (1.5.2)\n",
            "Collecting graphviz\n",
            "  Downloading graphviz-0.16-py2.py3-none-any.whl (19 kB)\n",
            "Requirement already satisfied: plotly in c:\\users\\hafiz yusuf heraldi\\anaconda3\\lib\\site-packages (from catboost) (4.5.2)\n",
            "Requirement already satisfied: numpy>=1.16.0 in c:\\users\\hafiz yusuf heraldi\\anaconda3\\lib\\site-packages (from catboost) (1.18.5)\n",
            "Requirement already satisfied: kiwisolver>=1.0.1 in c:\\users\\hafiz yusuf heraldi\\anaconda3\\lib\\site-packages (from matplotlib->catboost) (1.2.0)\n",
            "Requirement already satisfied: cycler>=0.10 in c:\\users\\hafiz yusuf heraldi\\anaconda3\\lib\\site-packages (from matplotlib->catboost) (0.10.0)\n",
            "Requirement already satisfied: certifi>=2020.06.20 in c:\\users\\hafiz yusuf heraldi\\anaconda3\\lib\\site-packages (from matplotlib->catboost) (2020.6.20)\n",
            "Requirement already satisfied: python-dateutil>=2.1 in c:\\users\\hafiz yusuf heraldi\\anaconda3\\lib\\site-packages (from matplotlib->catboost) (2.8.1)\n",
            "Requirement already satisfied: pyparsing!=2.0.4,!=2.1.2,!=2.1.6,>=2.0.3 in c:\\users\\hafiz yusuf heraldi\\anaconda3\\lib\\site-packages (from matplotlib->catboost) (2.4.7)\n",
            "Requirement already satisfied: pillow>=6.2.0 in c:\\users\\hafiz yusuf heraldi\\anaconda3\\lib\\site-packages (from matplotlib->catboost) (7.2.0)\n",
            "Requirement already satisfied: pytz>=2017.2 in c:\\users\\hafiz yusuf heraldi\\anaconda3\\lib\\site-packages (from pandas>=0.24.0->catboost) (2020.1)\n",
            "Requirement already satisfied: retrying>=1.3.3 in c:\\users\\hafiz yusuf heraldi\\anaconda3\\lib\\site-packages (from plotly->catboost) (1.3.3)\n",
            "Installing collected packages: graphviz, catboost\n",
            "Successfully installed catboost-0.25.1 graphviz-0.16\n"
          ],
          "name": "stdout"
        }
      ]
    },
    {
      "cell_type": "code",
      "metadata": {
        "id": "eniQJDLqdnzB",
        "outputId": "dddf2925-e146-402e-de8c-0862d7910d67"
      },
      "source": [
        "from catboost import CatBoostRegressor\n",
        "model = CatBoostRegressor(iterations=2000)\n",
        "model.fit(x_labeled, y_labeled)\n",
        "prediksi_train = model.predict(x_labeled)\n",
        "prediksi_test = model.predict(x_test)\n",
        "mse_train = mean_squared_error(y_labeled, prediksi_train)\n",
        "mse_test = mean_squared_error(y_test, prediksi_test)\n",
        "rmse_train = np.sqrt(mse_train)\n",
        "rmse_test = np.sqrt(mse_test)\n",
        "r2_train = r2_score(y_labeled, prediksi_train)\n",
        "r2_test = r2_score(y_test, prediksi_test)\n",
        "print(\"RMSE Train (labeled): {}\".format(rmse_train))\n",
        "print(\"RMSE Test: {}\".format(rmse_test))\n",
        "print(\"R2 Train (labeled): {}\".format(r2_train))\n",
        "print(\"R2 Test: {}\".format(r2_test))"
      ],
      "execution_count": null,
      "outputs": [
        {
          "output_type": "stream",
          "text": [
            "Learning rate set to 0.020673\n",
            "0:\tlearn: 137480.2331558\ttotal: 22.5ms\tremaining: 45s\n",
            "1:\tlearn: 136847.3252231\ttotal: 28.8ms\tremaining: 28.7s\n",
            "2:\tlearn: 136189.4266632\ttotal: 34.8ms\tremaining: 23.2s\n",
            "3:\tlearn: 135534.1585880\ttotal: 39.3ms\tremaining: 19.6s\n",
            "4:\tlearn: 134886.2454428\ttotal: 42.3ms\tremaining: 16.9s\n",
            "5:\tlearn: 134280.8761060\ttotal: 44.7ms\tremaining: 14.8s\n",
            "6:\tlearn: 133594.1108269\ttotal: 46.9ms\tremaining: 13.3s\n",
            "7:\tlearn: 133017.6597988\ttotal: 48.7ms\tremaining: 12.1s\n",
            "8:\tlearn: 132425.1852413\ttotal: 50.5ms\tremaining: 11.2s\n",
            "9:\tlearn: 131888.2566637\ttotal: 52.2ms\tremaining: 10.4s\n",
            "10:\tlearn: 131396.6174998\ttotal: 53.8ms\tremaining: 9.74s\n",
            "11:\tlearn: 131072.8118519\ttotal: 54.4ms\tremaining: 9.01s\n",
            "12:\tlearn: 130610.8226271\ttotal: 55.9ms\tremaining: 8.55s\n",
            "13:\tlearn: 130135.9914242\ttotal: 57.3ms\tremaining: 8.13s\n",
            "14:\tlearn: 129669.2671490\ttotal: 58.7ms\tremaining: 7.77s\n",
            "15:\tlearn: 129189.3299051\ttotal: 60.2ms\tremaining: 7.46s\n",
            "16:\tlearn: 128727.1273082\ttotal: 61.5ms\tremaining: 7.17s\n",
            "17:\tlearn: 128299.2754700\ttotal: 62.8ms\tremaining: 6.91s\n",
            "18:\tlearn: 127833.5121608\ttotal: 64.1ms\tremaining: 6.68s\n",
            "19:\tlearn: 127394.8232697\ttotal: 65.4ms\tremaining: 6.47s\n",
            "20:\tlearn: 127001.4260434\ttotal: 66.8ms\tremaining: 6.29s\n",
            "21:\tlearn: 126588.0769586\ttotal: 68.1ms\tremaining: 6.12s\n",
            "22:\tlearn: 126239.8062063\ttotal: 69.6ms\tremaining: 5.98s\n",
            "23:\tlearn: 125884.2718603\ttotal: 71ms\tremaining: 5.85s\n",
            "24:\tlearn: 125516.6242435\ttotal: 72.4ms\tremaining: 5.72s\n",
            "25:\tlearn: 125155.5843424\ttotal: 73.8ms\tremaining: 5.6s\n",
            "26:\tlearn: 124766.4080480\ttotal: 75.1ms\tremaining: 5.49s\n",
            "27:\tlearn: 124368.5214203\ttotal: 76.4ms\tremaining: 5.38s\n",
            "28:\tlearn: 124001.1750457\ttotal: 77.8ms\tremaining: 5.29s\n",
            "29:\tlearn: 123634.2028142\ttotal: 79.1ms\tremaining: 5.19s\n",
            "30:\tlearn: 123263.2724958\ttotal: 80.4ms\tremaining: 5.1s\n",
            "31:\tlearn: 122944.2358185\ttotal: 81.8ms\tremaining: 5.03s\n",
            "32:\tlearn: 122585.4405943\ttotal: 83.2ms\tremaining: 4.96s\n",
            "33:\tlearn: 122253.5423734\ttotal: 84.6ms\tremaining: 4.89s\n",
            "34:\tlearn: 121945.1283251\ttotal: 85.9ms\tremaining: 4.82s\n",
            "35:\tlearn: 121610.8627862\ttotal: 87.3ms\tremaining: 4.76s\n",
            "36:\tlearn: 121334.8716215\ttotal: 88.7ms\tremaining: 4.7s\n",
            "37:\tlearn: 121095.6684463\ttotal: 90ms\tremaining: 4.65s\n",
            "38:\tlearn: 120865.0952437\ttotal: 91.3ms\tremaining: 4.59s\n",
            "39:\tlearn: 120543.1643939\ttotal: 92.7ms\tremaining: 4.54s\n",
            "40:\tlearn: 120254.0845514\ttotal: 94ms\tremaining: 4.49s\n",
            "41:\tlearn: 119940.8534656\ttotal: 95.3ms\tremaining: 4.44s\n",
            "42:\tlearn: 119685.2359208\ttotal: 96.7ms\tremaining: 4.4s\n",
            "43:\tlearn: 119422.8678934\ttotal: 98ms\tremaining: 4.36s\n",
            "44:\tlearn: 119185.7617157\ttotal: 99.3ms\tremaining: 4.31s\n",
            "45:\tlearn: 118888.6627789\ttotal: 101ms\tremaining: 4.28s\n",
            "46:\tlearn: 118633.7034066\ttotal: 102ms\tremaining: 4.24s\n",
            "47:\tlearn: 118364.9756972\ttotal: 103ms\tremaining: 4.21s\n",
            "48:\tlearn: 118087.8676361\ttotal: 105ms\tremaining: 4.17s\n",
            "49:\tlearn: 117792.7694478\ttotal: 106ms\tremaining: 4.14s\n",
            "50:\tlearn: 117484.5662793\ttotal: 107ms\tremaining: 4.11s\n",
            "51:\tlearn: 117235.7939356\ttotal: 109ms\tremaining: 4.07s\n",
            "52:\tlearn: 116990.8695081\ttotal: 110ms\tremaining: 4.04s\n",
            "53:\tlearn: 116704.2355002\ttotal: 111ms\tremaining: 4.01s\n",
            "54:\tlearn: 116458.9075215\ttotal: 113ms\tremaining: 3.98s\n",
            "55:\tlearn: 116248.2817503\ttotal: 114ms\tremaining: 3.95s\n",
            "56:\tlearn: 115911.0338790\ttotal: 115ms\tremaining: 3.93s\n",
            "57:\tlearn: 115713.9481705\ttotal: 116ms\tremaining: 3.9s\n",
            "58:\tlearn: 115544.1702268\ttotal: 118ms\tremaining: 3.87s\n",
            "59:\tlearn: 115328.0072188\ttotal: 119ms\tremaining: 3.85s\n",
            "60:\tlearn: 115173.8075362\ttotal: 120ms\tremaining: 3.83s\n",
            "61:\tlearn: 114973.9803258\ttotal: 122ms\tremaining: 3.8s\n",
            "62:\tlearn: 114795.5378082\ttotal: 124ms\tremaining: 3.8s\n",
            "63:\tlearn: 114605.1214668\ttotal: 125ms\tremaining: 3.79s\n",
            "64:\tlearn: 114403.9410770\ttotal: 127ms\tremaining: 3.77s\n",
            "65:\tlearn: 114171.4206685\ttotal: 128ms\tremaining: 3.75s\n",
            "66:\tlearn: 114021.5699152\ttotal: 130ms\tremaining: 3.74s\n",
            "67:\tlearn: 113758.6284299\ttotal: 131ms\tremaining: 3.72s\n",
            "68:\tlearn: 113672.8949011\ttotal: 132ms\tremaining: 3.68s\n",
            "69:\tlearn: 113465.2467581\ttotal: 133ms\tremaining: 3.66s\n",
            "70:\tlearn: 113269.5735011\ttotal: 134ms\tremaining: 3.65s\n",
            "71:\tlearn: 113104.1337254\ttotal: 136ms\tremaining: 3.64s\n",
            "72:\tlearn: 112860.6007134\ttotal: 137ms\tremaining: 3.63s\n",
            "73:\tlearn: 112679.3073895\ttotal: 139ms\tremaining: 3.61s\n",
            "74:\tlearn: 112439.6263200\ttotal: 140ms\tremaining: 3.6s\n",
            "75:\tlearn: 112325.8283536\ttotal: 141ms\tremaining: 3.58s\n",
            "76:\tlearn: 112141.7638629\ttotal: 143ms\tremaining: 3.56s\n",
            "77:\tlearn: 112009.7055718\ttotal: 144ms\tremaining: 3.55s\n",
            "78:\tlearn: 111833.7707449\ttotal: 146ms\tremaining: 3.54s\n",
            "79:\tlearn: 111635.1502058\ttotal: 147ms\tremaining: 3.53s\n",
            "80:\tlearn: 111472.1389300\ttotal: 149ms\tremaining: 3.52s\n",
            "81:\tlearn: 111259.9609572\ttotal: 150ms\tremaining: 3.51s\n",
            "82:\tlearn: 111075.7051714\ttotal: 151ms\tremaining: 3.49s\n",
            "83:\tlearn: 110842.7557035\ttotal: 153ms\tremaining: 3.48s\n",
            "84:\tlearn: 110687.7648416\ttotal: 154ms\tremaining: 3.47s\n",
            "85:\tlearn: 110570.2650561\ttotal: 155ms\tremaining: 3.46s\n",
            "86:\tlearn: 110388.5952715\ttotal: 157ms\tremaining: 3.45s\n",
            "87:\tlearn: 110235.5135136\ttotal: 158ms\tremaining: 3.44s\n",
            "88:\tlearn: 110076.8667785\ttotal: 160ms\tremaining: 3.43s\n",
            "89:\tlearn: 109891.5800138\ttotal: 161ms\tremaining: 3.42s\n",
            "90:\tlearn: 109723.2461249\ttotal: 162ms\tremaining: 3.41s\n",
            "91:\tlearn: 109485.8160214\ttotal: 164ms\tremaining: 3.4s\n",
            "92:\tlearn: 109322.9259234\ttotal: 165ms\tremaining: 3.39s\n",
            "93:\tlearn: 109142.7271956\ttotal: 167ms\tremaining: 3.38s\n",
            "94:\tlearn: 108989.7527479\ttotal: 168ms\tremaining: 3.37s\n",
            "95:\tlearn: 108899.2975734\ttotal: 170ms\tremaining: 3.36s\n",
            "96:\tlearn: 108770.3179480\ttotal: 171ms\tremaining: 3.36s\n",
            "97:\tlearn: 108647.4486647\ttotal: 173ms\tremaining: 3.35s\n",
            "98:\tlearn: 108503.0859587\ttotal: 175ms\tremaining: 3.35s\n",
            "99:\tlearn: 108328.1148580\ttotal: 176ms\tremaining: 3.34s\n",
            "100:\tlearn: 108169.2639376\ttotal: 178ms\tremaining: 3.34s\n",
            "101:\tlearn: 108025.7292430\ttotal: 179ms\tremaining: 3.33s\n",
            "102:\tlearn: 107908.1888628\ttotal: 181ms\tremaining: 3.33s\n",
            "103:\tlearn: 107671.4891286\ttotal: 182ms\tremaining: 3.32s\n",
            "104:\tlearn: 107488.7761057\ttotal: 183ms\tremaining: 3.31s\n",
            "105:\tlearn: 107312.7168882\ttotal: 185ms\tremaining: 3.3s\n",
            "106:\tlearn: 107181.3318824\ttotal: 186ms\tremaining: 3.29s\n",
            "107:\tlearn: 107053.8623383\ttotal: 188ms\tremaining: 3.29s\n",
            "108:\tlearn: 106914.4234298\ttotal: 189ms\tremaining: 3.27s\n",
            "109:\tlearn: 106796.4039149\ttotal: 190ms\tremaining: 3.26s\n",
            "110:\tlearn: 106666.4432176\ttotal: 191ms\tremaining: 3.25s\n",
            "111:\tlearn: 106532.1129010\ttotal: 193ms\tremaining: 3.25s\n",
            "112:\tlearn: 106343.7612131\ttotal: 194ms\tremaining: 3.24s\n",
            "113:\tlearn: 106212.6905334\ttotal: 195ms\tremaining: 3.23s\n",
            "114:\tlearn: 106097.5356227\ttotal: 197ms\tremaining: 3.22s\n",
            "115:\tlearn: 105936.3140383\ttotal: 198ms\tremaining: 3.21s\n",
            "116:\tlearn: 105807.4819895\ttotal: 199ms\tremaining: 3.21s\n",
            "117:\tlearn: 105645.9618377\ttotal: 201ms\tremaining: 3.2s\n",
            "118:\tlearn: 105463.7753621\ttotal: 202ms\tremaining: 3.19s\n",
            "119:\tlearn: 105376.1343479\ttotal: 203ms\tremaining: 3.18s\n",
            "120:\tlearn: 105259.1802636\ttotal: 205ms\tremaining: 3.18s\n",
            "121:\tlearn: 105126.9183972\ttotal: 206ms\tremaining: 3.17s\n",
            "122:\tlearn: 104992.9633357\ttotal: 207ms\tremaining: 3.16s\n",
            "123:\tlearn: 104856.3277818\ttotal: 209ms\tremaining: 3.15s\n",
            "124:\tlearn: 104744.8034479\ttotal: 210ms\tremaining: 3.15s\n",
            "125:\tlearn: 104615.5169544\ttotal: 211ms\tremaining: 3.14s\n",
            "126:\tlearn: 104472.6634845\ttotal: 212ms\tremaining: 3.13s\n",
            "127:\tlearn: 104157.9363718\ttotal: 214ms\tremaining: 3.13s\n",
            "128:\tlearn: 104015.0361813\ttotal: 215ms\tremaining: 3.12s\n",
            "129:\tlearn: 103919.8372723\ttotal: 216ms\tremaining: 3.11s\n",
            "130:\tlearn: 103777.2573161\ttotal: 218ms\tremaining: 3.11s\n",
            "131:\tlearn: 103635.9096229\ttotal: 219ms\tremaining: 3.1s\n",
            "132:\tlearn: 103523.1944046\ttotal: 220ms\tremaining: 3.09s\n",
            "133:\tlearn: 103453.3161163\ttotal: 222ms\tremaining: 3.09s\n",
            "134:\tlearn: 103272.7293469\ttotal: 223ms\tremaining: 3.08s\n",
            "135:\tlearn: 103127.9389979\ttotal: 224ms\tremaining: 3.08s\n",
            "136:\tlearn: 103035.2406174\ttotal: 226ms\tremaining: 3.07s\n",
            "137:\tlearn: 102926.2834748\ttotal: 227ms\tremaining: 3.06s\n",
            "138:\tlearn: 102837.5915625\ttotal: 228ms\tremaining: 3.06s\n",
            "139:\tlearn: 102707.9342980\ttotal: 230ms\tremaining: 3.05s\n",
            "140:\tlearn: 102610.3298206\ttotal: 231ms\tremaining: 3.05s\n",
            "141:\tlearn: 102542.5441384\ttotal: 232ms\tremaining: 3.04s\n",
            "142:\tlearn: 102396.7931487\ttotal: 234ms\tremaining: 3.03s\n",
            "143:\tlearn: 102237.0052896\ttotal: 235ms\tremaining: 3.03s\n",
            "144:\tlearn: 102117.0379899\ttotal: 236ms\tremaining: 3.02s\n",
            "145:\tlearn: 101979.7281755\ttotal: 238ms\tremaining: 3.02s\n",
            "146:\tlearn: 101920.5153708\ttotal: 239ms\tremaining: 3.01s\n",
            "147:\tlearn: 101834.6413495\ttotal: 240ms\tremaining: 3.01s\n",
            "148:\tlearn: 101802.8826885\ttotal: 242ms\tremaining: 3s\n",
            "149:\tlearn: 101704.5568960\ttotal: 243ms\tremaining: 3s\n",
            "150:\tlearn: 101560.6711627\ttotal: 244ms\tremaining: 2.99s\n",
            "151:\tlearn: 101445.2106625\ttotal: 246ms\tremaining: 2.99s\n",
            "152:\tlearn: 101320.4688088\ttotal: 247ms\tremaining: 2.98s\n",
            "153:\tlearn: 101181.4393102\ttotal: 248ms\tremaining: 2.98s\n",
            "154:\tlearn: 101095.7050465\ttotal: 250ms\tremaining: 2.97s\n",
            "155:\tlearn: 100994.7528284\ttotal: 251ms\tremaining: 2.97s\n",
            "156:\tlearn: 100834.2086295\ttotal: 252ms\tremaining: 2.96s\n",
            "157:\tlearn: 100733.2807799\ttotal: 254ms\tremaining: 2.96s\n",
            "158:\tlearn: 100674.1208841\ttotal: 255ms\tremaining: 2.95s\n",
            "159:\tlearn: 100563.7885249\ttotal: 256ms\tremaining: 2.95s\n",
            "160:\tlearn: 100480.6093179\ttotal: 258ms\tremaining: 2.94s\n",
            "161:\tlearn: 100390.2553441\ttotal: 259ms\tremaining: 2.94s\n",
            "162:\tlearn: 100297.2945929\ttotal: 260ms\tremaining: 2.93s\n",
            "163:\tlearn: 100233.5430140\ttotal: 262ms\tremaining: 2.93s\n",
            "164:\tlearn: 100207.7085729\ttotal: 263ms\tremaining: 2.92s\n",
            "165:\tlearn: 100138.0520860\ttotal: 264ms\tremaining: 2.92s\n",
            "166:\tlearn: 100076.9322789\ttotal: 265ms\tremaining: 2.91s\n",
            "167:\tlearn: 99980.8993787\ttotal: 266ms\tremaining: 2.9s\n",
            "168:\tlearn: 99925.8234061\ttotal: 268ms\tremaining: 2.9s\n",
            "169:\tlearn: 99677.4396314\ttotal: 269ms\tremaining: 2.9s\n",
            "170:\tlearn: 99590.7876357\ttotal: 270ms\tremaining: 2.89s\n",
            "171:\tlearn: 99469.4742313\ttotal: 272ms\tremaining: 2.89s\n",
            "172:\tlearn: 99296.9973968\ttotal: 273ms\tremaining: 2.88s\n",
            "173:\tlearn: 99217.2300699\ttotal: 274ms\tremaining: 2.88s\n",
            "174:\tlearn: 99096.7553671\ttotal: 276ms\tremaining: 2.88s\n",
            "175:\tlearn: 99017.8653006\ttotal: 277ms\tremaining: 2.87s\n",
            "176:\tlearn: 98943.8705486\ttotal: 278ms\tremaining: 2.86s\n",
            "177:\tlearn: 98881.0548226\ttotal: 279ms\tremaining: 2.86s\n",
            "178:\tlearn: 98784.2050143\ttotal: 281ms\tremaining: 2.85s\n",
            "179:\tlearn: 98699.1131414\ttotal: 282ms\tremaining: 2.85s\n",
            "180:\tlearn: 98581.7826323\ttotal: 283ms\tremaining: 2.85s\n",
            "181:\tlearn: 98524.8420057\ttotal: 285ms\tremaining: 2.85s\n",
            "182:\tlearn: 98431.9959540\ttotal: 286ms\tremaining: 2.84s\n",
            "183:\tlearn: 98373.9467589\ttotal: 287ms\tremaining: 2.84s\n",
            "184:\tlearn: 98279.6296807\ttotal: 289ms\tremaining: 2.83s\n",
            "185:\tlearn: 98227.3341412\ttotal: 290ms\tremaining: 2.83s\n",
            "186:\tlearn: 98159.1677376\ttotal: 291ms\tremaining: 2.82s\n",
            "187:\tlearn: 98132.6855744\ttotal: 292ms\tremaining: 2.81s\n",
            "188:\tlearn: 98029.0726751\ttotal: 293ms\tremaining: 2.81s\n",
            "189:\tlearn: 97963.0309615\ttotal: 294ms\tremaining: 2.8s\n",
            "190:\tlearn: 97904.9563307\ttotal: 296ms\tremaining: 2.8s\n",
            "191:\tlearn: 97829.4127390\ttotal: 299ms\tremaining: 2.82s\n",
            "192:\tlearn: 97788.6591728\ttotal: 300ms\tremaining: 2.81s\n",
            "193:\tlearn: 97712.7511813\ttotal: 301ms\tremaining: 2.8s\n",
            "194:\tlearn: 97657.7371340\ttotal: 302ms\tremaining: 2.8s\n",
            "195:\tlearn: 97559.3506861\ttotal: 304ms\tremaining: 2.79s\n",
            "196:\tlearn: 97490.4840442\ttotal: 305ms\tremaining: 2.79s\n",
            "197:\tlearn: 97387.9532905\ttotal: 306ms\tremaining: 2.79s\n",
            "198:\tlearn: 97329.6421712\ttotal: 308ms\tremaining: 2.78s\n",
            "199:\tlearn: 97253.4896132\ttotal: 309ms\tremaining: 2.78s\n",
            "200:\tlearn: 97185.3514611\ttotal: 310ms\tremaining: 2.77s\n",
            "201:\tlearn: 97027.0555142\ttotal: 311ms\tremaining: 2.77s\n",
            "202:\tlearn: 96937.3557489\ttotal: 313ms\tremaining: 2.77s\n",
            "203:\tlearn: 96899.9189465\ttotal: 314ms\tremaining: 2.76s\n",
            "204:\tlearn: 96847.0471281\ttotal: 315ms\tremaining: 2.76s\n",
            "205:\tlearn: 96695.3095044\ttotal: 317ms\tremaining: 2.76s\n",
            "206:\tlearn: 96621.9606239\ttotal: 318ms\tremaining: 2.75s\n",
            "207:\tlearn: 96601.8365183\ttotal: 319ms\tremaining: 2.75s\n",
            "208:\tlearn: 96465.3740894\ttotal: 320ms\tremaining: 2.75s\n",
            "209:\tlearn: 96420.4433115\ttotal: 322ms\tremaining: 2.74s\n",
            "210:\tlearn: 96376.0463576\ttotal: 323ms\tremaining: 2.74s\n",
            "211:\tlearn: 96263.8852408\ttotal: 325ms\tremaining: 2.74s\n",
            "212:\tlearn: 96150.7718847\ttotal: 326ms\tremaining: 2.73s\n",
            "213:\tlearn: 96082.4114932\ttotal: 328ms\tremaining: 2.73s\n",
            "214:\tlearn: 95925.7170552\ttotal: 329ms\tremaining: 2.73s\n",
            "215:\tlearn: 95861.2710842\ttotal: 330ms\tremaining: 2.73s\n",
            "216:\tlearn: 95767.1826740\ttotal: 332ms\tremaining: 2.73s\n",
            "217:\tlearn: 95687.6518732\ttotal: 333ms\tremaining: 2.72s\n",
            "218:\tlearn: 95608.4497970\ttotal: 334ms\tremaining: 2.72s\n",
            "219:\tlearn: 95516.4851383\ttotal: 336ms\tremaining: 2.72s\n",
            "220:\tlearn: 95437.9214359\ttotal: 337ms\tremaining: 2.71s\n",
            "221:\tlearn: 95366.7147121\ttotal: 338ms\tremaining: 2.71s\n",
            "222:\tlearn: 95360.4554557\ttotal: 339ms\tremaining: 2.7s\n",
            "223:\tlearn: 95215.4736512\ttotal: 340ms\tremaining: 2.7s\n",
            "224:\tlearn: 95148.2939918\ttotal: 342ms\tremaining: 2.69s\n",
            "225:\tlearn: 95029.8671803\ttotal: 343ms\tremaining: 2.69s\n",
            "226:\tlearn: 94941.5475576\ttotal: 344ms\tremaining: 2.69s\n",
            "227:\tlearn: 94884.7628569\ttotal: 346ms\tremaining: 2.69s\n",
            "228:\tlearn: 94786.0348711\ttotal: 347ms\tremaining: 2.68s\n",
            "229:\tlearn: 94701.9751035\ttotal: 348ms\tremaining: 2.68s\n",
            "230:\tlearn: 94604.3836551\ttotal: 349ms\tremaining: 2.67s\n",
            "231:\tlearn: 94534.0250430\ttotal: 351ms\tremaining: 2.67s\n",
            "232:\tlearn: 94420.5037651\ttotal: 352ms\tremaining: 2.67s\n",
            "233:\tlearn: 94348.1005597\ttotal: 354ms\tremaining: 2.67s\n",
            "234:\tlearn: 94277.9062345\ttotal: 355ms\tremaining: 2.67s\n",
            "235:\tlearn: 94132.9605520\ttotal: 356ms\tremaining: 2.66s\n",
            "236:\tlearn: 93985.0469270\ttotal: 358ms\tremaining: 2.66s\n",
            "237:\tlearn: 93846.5757096\ttotal: 359ms\tremaining: 2.66s\n",
            "238:\tlearn: 93790.0378459\ttotal: 361ms\tremaining: 2.66s\n",
            "239:\tlearn: 93702.8543253\ttotal: 363ms\tremaining: 2.66s\n",
            "240:\tlearn: 93654.6639314\ttotal: 364ms\tremaining: 2.66s\n",
            "241:\tlearn: 93594.2818280\ttotal: 366ms\tremaining: 2.66s\n",
            "242:\tlearn: 93402.1361365\ttotal: 368ms\tremaining: 2.66s\n",
            "243:\tlearn: 93293.1404047\ttotal: 369ms\tremaining: 2.65s\n",
            "244:\tlearn: 93201.4138651\ttotal: 370ms\tremaining: 2.65s\n",
            "245:\tlearn: 93070.3462166\ttotal: 371ms\tremaining: 2.65s\n",
            "246:\tlearn: 92998.6861656\ttotal: 373ms\tremaining: 2.64s\n",
            "247:\tlearn: 92884.4842128\ttotal: 374ms\tremaining: 2.64s\n",
            "248:\tlearn: 92826.8855395\ttotal: 375ms\tremaining: 2.64s\n",
            "249:\tlearn: 92709.3255037\ttotal: 376ms\tremaining: 2.63s\n",
            "250:\tlearn: 92605.5883399\ttotal: 377ms\tremaining: 2.63s\n",
            "251:\tlearn: 92504.5705689\ttotal: 379ms\tremaining: 2.63s\n",
            "252:\tlearn: 92472.6079322\ttotal: 380ms\tremaining: 2.62s\n",
            "253:\tlearn: 92402.8686878\ttotal: 381ms\tremaining: 2.62s\n",
            "254:\tlearn: 92308.3004468\ttotal: 383ms\tremaining: 2.62s\n",
            "255:\tlearn: 92258.2127413\ttotal: 384ms\tremaining: 2.61s\n",
            "256:\tlearn: 92208.4874376\ttotal: 385ms\tremaining: 2.61s\n",
            "257:\tlearn: 92138.3335218\ttotal: 386ms\tremaining: 2.61s\n",
            "258:\tlearn: 92033.4898296\ttotal: 387ms\tremaining: 2.6s\n",
            "259:\tlearn: 91986.9028777\ttotal: 389ms\tremaining: 2.6s\n",
            "260:\tlearn: 91901.6237954\ttotal: 390ms\tremaining: 2.6s\n",
            "261:\tlearn: 91802.2813658\ttotal: 391ms\tremaining: 2.59s\n",
            "262:\tlearn: 91764.3020849\ttotal: 392ms\tremaining: 2.59s\n",
            "263:\tlearn: 91639.8224378\ttotal: 393ms\tremaining: 2.59s\n",
            "264:\tlearn: 91561.2715753\ttotal: 395ms\tremaining: 2.58s\n",
            "265:\tlearn: 91508.1898344\ttotal: 396ms\tremaining: 2.58s\n",
            "266:\tlearn: 91427.6549918\ttotal: 397ms\tremaining: 2.58s\n",
            "267:\tlearn: 91328.5180760\ttotal: 398ms\tremaining: 2.57s\n",
            "268:\tlearn: 91257.1788027\ttotal: 399ms\tremaining: 2.57s\n",
            "269:\tlearn: 91199.8531630\ttotal: 401ms\tremaining: 2.57s\n",
            "270:\tlearn: 91127.7195178\ttotal: 402ms\tremaining: 2.56s\n",
            "271:\tlearn: 91021.3374959\ttotal: 403ms\tremaining: 2.56s\n",
            "272:\tlearn: 90965.0838608\ttotal: 404ms\tremaining: 2.56s\n",
            "273:\tlearn: 90873.3984047\ttotal: 405ms\tremaining: 2.55s\n",
            "274:\tlearn: 90747.7566867\ttotal: 406ms\tremaining: 2.55s\n",
            "275:\tlearn: 90629.7276755\ttotal: 408ms\tremaining: 2.55s\n",
            "276:\tlearn: 90565.5516433\ttotal: 409ms\tremaining: 2.54s\n",
            "277:\tlearn: 90483.3988588\ttotal: 410ms\tremaining: 2.54s\n",
            "278:\tlearn: 90387.1872544\ttotal: 411ms\tremaining: 2.54s\n",
            "279:\tlearn: 90275.2331813\ttotal: 413ms\tremaining: 2.53s\n",
            "280:\tlearn: 90230.5682761\ttotal: 414ms\tremaining: 2.53s\n",
            "281:\tlearn: 90086.6897563\ttotal: 415ms\tremaining: 2.53s\n",
            "282:\tlearn: 90007.1108622\ttotal: 416ms\tremaining: 2.52s\n",
            "283:\tlearn: 89941.1867526\ttotal: 418ms\tremaining: 2.52s\n",
            "284:\tlearn: 89904.6804446\ttotal: 419ms\tremaining: 2.52s\n",
            "285:\tlearn: 89829.0734446\ttotal: 420ms\tremaining: 2.52s\n",
            "286:\tlearn: 89772.7789007\ttotal: 421ms\tremaining: 2.51s\n",
            "287:\tlearn: 89731.4742169\ttotal: 422ms\tremaining: 2.51s\n",
            "288:\tlearn: 89682.9745974\ttotal: 423ms\tremaining: 2.51s\n",
            "289:\tlearn: 89625.0417239\ttotal: 425ms\tremaining: 2.5s\n",
            "290:\tlearn: 89567.6029266\ttotal: 426ms\tremaining: 2.5s\n",
            "291:\tlearn: 89516.4757221\ttotal: 427ms\tremaining: 2.5s\n",
            "292:\tlearn: 89404.1679832\ttotal: 428ms\tremaining: 2.5s\n",
            "293:\tlearn: 89306.1913105\ttotal: 429ms\tremaining: 2.49s\n",
            "294:\tlearn: 89243.5768279\ttotal: 431ms\tremaining: 2.49s\n",
            "295:\tlearn: 89173.7746897\ttotal: 432ms\tremaining: 2.49s\n",
            "296:\tlearn: 89055.4910763\ttotal: 433ms\tremaining: 2.48s\n",
            "297:\tlearn: 88960.0692378\ttotal: 435ms\tremaining: 2.48s\n",
            "298:\tlearn: 88924.4050523\ttotal: 436ms\tremaining: 2.48s\n",
            "299:\tlearn: 88878.5667705\ttotal: 438ms\tremaining: 2.48s\n",
            "300:\tlearn: 88645.0824007\ttotal: 439ms\tremaining: 2.48s\n",
            "301:\tlearn: 88611.0822906\ttotal: 440ms\tremaining: 2.47s\n",
            "302:\tlearn: 88532.5127590\ttotal: 441ms\tremaining: 2.47s\n",
            "303:\tlearn: 88456.7515635\ttotal: 443ms\tremaining: 2.47s\n",
            "304:\tlearn: 88360.6456397\ttotal: 444ms\tremaining: 2.47s\n",
            "305:\tlearn: 88290.5445302\ttotal: 445ms\tremaining: 2.46s\n",
            "306:\tlearn: 88207.0498759\ttotal: 447ms\tremaining: 2.46s\n",
            "307:\tlearn: 88146.3982094\ttotal: 448ms\tremaining: 2.46s\n",
            "308:\tlearn: 88104.2346124\ttotal: 449ms\tremaining: 2.46s\n",
            "309:\tlearn: 88058.2696207\ttotal: 451ms\tremaining: 2.46s\n",
            "310:\tlearn: 87983.3597921\ttotal: 452ms\tremaining: 2.45s\n",
            "311:\tlearn: 87883.1595383\ttotal: 453ms\tremaining: 2.45s\n",
            "312:\tlearn: 87814.4079293\ttotal: 455ms\tremaining: 2.45s\n",
            "313:\tlearn: 87729.2402163\ttotal: 456ms\tremaining: 2.45s\n",
            "314:\tlearn: 87625.6686149\ttotal: 457ms\tremaining: 2.44s\n",
            "315:\tlearn: 87527.8390983\ttotal: 459ms\tremaining: 2.44s\n",
            "316:\tlearn: 87460.5191270\ttotal: 460ms\tremaining: 2.44s\n",
            "317:\tlearn: 87409.1271225\ttotal: 461ms\tremaining: 2.44s\n",
            "318:\tlearn: 87361.0736171\ttotal: 463ms\tremaining: 2.44s\n",
            "319:\tlearn: 87290.4424642\ttotal: 464ms\tremaining: 2.44s\n",
            "320:\tlearn: 87236.7940558\ttotal: 465ms\tremaining: 2.43s\n",
            "321:\tlearn: 87118.1677218\ttotal: 467ms\tremaining: 2.43s\n",
            "322:\tlearn: 87080.9925554\ttotal: 468ms\tremaining: 2.43s\n",
            "323:\tlearn: 86966.5100048\ttotal: 469ms\tremaining: 2.43s\n",
            "324:\tlearn: 86831.3631722\ttotal: 471ms\tremaining: 2.42s\n",
            "325:\tlearn: 86763.6637467\ttotal: 472ms\tremaining: 2.42s\n",
            "326:\tlearn: 86678.3037200\ttotal: 473ms\tremaining: 2.42s\n",
            "327:\tlearn: 86590.7699734\ttotal: 475ms\tremaining: 2.42s\n",
            "328:\tlearn: 86527.6555788\ttotal: 486ms\tremaining: 2.47s\n",
            "329:\tlearn: 86460.8811033\ttotal: 487ms\tremaining: 2.46s\n",
            "330:\tlearn: 86393.8965751\ttotal: 488ms\tremaining: 2.46s\n",
            "331:\tlearn: 86296.9434079\ttotal: 490ms\tremaining: 2.46s\n",
            "332:\tlearn: 86216.4067852\ttotal: 491ms\tremaining: 2.46s\n",
            "333:\tlearn: 86104.7165937\ttotal: 493ms\tremaining: 2.46s\n",
            "334:\tlearn: 86046.8715041\ttotal: 494ms\tremaining: 2.46s\n",
            "335:\tlearn: 85995.2366624\ttotal: 496ms\tremaining: 2.45s\n",
            "336:\tlearn: 85935.8466601\ttotal: 497ms\tremaining: 2.45s\n",
            "337:\tlearn: 85920.0370047\ttotal: 498ms\tremaining: 2.45s\n",
            "338:\tlearn: 85883.5266810\ttotal: 501ms\tremaining: 2.46s\n",
            "339:\tlearn: 85847.5124259\ttotal: 502ms\tremaining: 2.45s\n",
            "340:\tlearn: 85811.7125012\ttotal: 504ms\tremaining: 2.45s\n",
            "341:\tlearn: 85706.6660829\ttotal: 505ms\tremaining: 2.45s\n",
            "342:\tlearn: 85644.2896852\ttotal: 506ms\tremaining: 2.44s\n",
            "343:\tlearn: 85591.7083015\ttotal: 507ms\tremaining: 2.44s\n",
            "344:\tlearn: 85544.0812499\ttotal: 509ms\tremaining: 2.44s\n",
            "345:\tlearn: 85450.9674318\ttotal: 510ms\tremaining: 2.44s\n",
            "346:\tlearn: 85375.2041272\ttotal: 511ms\tremaining: 2.43s\n",
            "347:\tlearn: 85274.2858726\ttotal: 512ms\tremaining: 2.43s\n",
            "348:\tlearn: 85221.5068040\ttotal: 513ms\tremaining: 2.43s\n",
            "349:\tlearn: 85181.8554716\ttotal: 515ms\tremaining: 2.43s\n",
            "350:\tlearn: 85076.8534322\ttotal: 516ms\tremaining: 2.42s\n",
            "351:\tlearn: 84994.4456914\ttotal: 517ms\tremaining: 2.42s\n",
            "352:\tlearn: 84941.2105825\ttotal: 518ms\tremaining: 2.42s\n",
            "353:\tlearn: 84888.2400021\ttotal: 520ms\tremaining: 2.42s\n",
            "354:\tlearn: 84830.0716088\ttotal: 521ms\tremaining: 2.41s\n",
            "355:\tlearn: 84732.2741091\ttotal: 522ms\tremaining: 2.41s\n",
            "356:\tlearn: 84639.3431608\ttotal: 524ms\tremaining: 2.41s\n",
            "357:\tlearn: 84547.6222870\ttotal: 525ms\tremaining: 2.41s\n",
            "358:\tlearn: 84461.2072030\ttotal: 526ms\tremaining: 2.4s\n",
            "359:\tlearn: 84405.9575825\ttotal: 527ms\tremaining: 2.4s\n",
            "360:\tlearn: 84351.3933832\ttotal: 528ms\tremaining: 2.4s\n",
            "361:\tlearn: 84305.2155781\ttotal: 530ms\tremaining: 2.4s\n",
            "362:\tlearn: 84208.9087016\ttotal: 531ms\tremaining: 2.39s\n",
            "363:\tlearn: 84120.2392049\ttotal: 532ms\tremaining: 2.39s\n",
            "364:\tlearn: 84032.2226320\ttotal: 533ms\tremaining: 2.39s\n",
            "365:\tlearn: 83957.7771108\ttotal: 535ms\tremaining: 2.39s\n",
            "366:\tlearn: 83902.9380774\ttotal: 536ms\tremaining: 2.38s\n",
            "367:\tlearn: 83769.4699296\ttotal: 537ms\tremaining: 2.38s\n",
            "368:\tlearn: 83664.5620983\ttotal: 539ms\tremaining: 2.38s\n",
            "369:\tlearn: 83559.4181253\ttotal: 540ms\tremaining: 2.38s\n",
            "370:\tlearn: 83510.1955657\ttotal: 541ms\tremaining: 2.38s\n",
            "371:\tlearn: 83480.8959935\ttotal: 543ms\tremaining: 2.37s\n",
            "372:\tlearn: 83431.8895400\ttotal: 544ms\tremaining: 2.37s\n",
            "373:\tlearn: 83378.1816531\ttotal: 545ms\tremaining: 2.37s\n",
            "374:\tlearn: 83331.7666707\ttotal: 547ms\tremaining: 2.37s\n",
            "375:\tlearn: 83275.7700179\ttotal: 548ms\tremaining: 2.37s\n",
            "376:\tlearn: 83171.5326407\ttotal: 549ms\tremaining: 2.36s\n",
            "377:\tlearn: 83076.7093846\ttotal: 551ms\tremaining: 2.36s\n",
            "378:\tlearn: 83048.1660703\ttotal: 551ms\tremaining: 2.36s\n",
            "379:\tlearn: 82939.6648138\ttotal: 553ms\tremaining: 2.36s\n",
            "380:\tlearn: 82833.6305885\ttotal: 554ms\tremaining: 2.35s\n",
            "381:\tlearn: 82742.1873498\ttotal: 556ms\tremaining: 2.35s\n",
            "382:\tlearn: 82709.8187209\ttotal: 557ms\tremaining: 2.35s\n",
            "383:\tlearn: 82629.8337767\ttotal: 558ms\tremaining: 2.35s\n",
            "384:\tlearn: 82527.1806301\ttotal: 559ms\tremaining: 2.35s\n",
            "385:\tlearn: 82506.2023815\ttotal: 561ms\tremaining: 2.34s\n",
            "386:\tlearn: 82415.3668927\ttotal: 562ms\tremaining: 2.34s\n",
            "387:\tlearn: 82318.2576581\ttotal: 563ms\tremaining: 2.34s\n",
            "388:\tlearn: 82233.4339030\ttotal: 565ms\tremaining: 2.34s\n",
            "389:\tlearn: 82200.7321234\ttotal: 566ms\tremaining: 2.34s\n",
            "390:\tlearn: 82113.5788602\ttotal: 567ms\tremaining: 2.33s\n",
            "391:\tlearn: 82063.1461932\ttotal: 569ms\tremaining: 2.33s\n",
            "392:\tlearn: 82002.2092747\ttotal: 570ms\tremaining: 2.33s\n",
            "393:\tlearn: 81930.6925901\ttotal: 571ms\tremaining: 2.33s\n",
            "394:\tlearn: 81873.5054330\ttotal: 573ms\tremaining: 2.33s\n",
            "395:\tlearn: 81817.3071066\ttotal: 575ms\tremaining: 2.33s\n",
            "396:\tlearn: 81725.8832536\ttotal: 576ms\tremaining: 2.33s\n",
            "397:\tlearn: 81628.2999004\ttotal: 577ms\tremaining: 2.32s\n",
            "398:\tlearn: 81607.1785938\ttotal: 578ms\tremaining: 2.32s\n",
            "399:\tlearn: 81523.0790186\ttotal: 580ms\tremaining: 2.32s\n",
            "400:\tlearn: 81452.8278746\ttotal: 581ms\tremaining: 2.32s\n",
            "401:\tlearn: 81354.2793478\ttotal: 582ms\tremaining: 2.31s\n",
            "402:\tlearn: 81267.1344817\ttotal: 584ms\tremaining: 2.31s\n",
            "403:\tlearn: 81211.4940320\ttotal: 585ms\tremaining: 2.31s\n",
            "404:\tlearn: 81171.8961768\ttotal: 586ms\tremaining: 2.31s\n",
            "405:\tlearn: 81103.9732654\ttotal: 588ms\tremaining: 2.31s\n",
            "406:\tlearn: 81029.3661725\ttotal: 590ms\tremaining: 2.31s\n",
            "407:\tlearn: 80975.4916908\ttotal: 592ms\tremaining: 2.31s\n",
            "408:\tlearn: 80970.6250173\ttotal: 593ms\tremaining: 2.31s\n",
            "409:\tlearn: 80956.0732080\ttotal: 594ms\tremaining: 2.3s\n",
            "410:\tlearn: 80885.2030193\ttotal: 595ms\tremaining: 2.3s\n",
            "411:\tlearn: 80853.5080979\ttotal: 597ms\tremaining: 2.3s\n",
            "412:\tlearn: 80825.7297717\ttotal: 598ms\tremaining: 2.3s\n",
            "413:\tlearn: 80746.1591089\ttotal: 599ms\tremaining: 2.3s\n",
            "414:\tlearn: 80673.8117485\ttotal: 601ms\tremaining: 2.29s\n",
            "415:\tlearn: 80601.6263057\ttotal: 602ms\tremaining: 2.29s\n",
            "416:\tlearn: 80518.9456179\ttotal: 604ms\tremaining: 2.29s\n",
            "417:\tlearn: 80500.7994351\ttotal: 605ms\tremaining: 2.29s\n",
            "418:\tlearn: 80461.3518421\ttotal: 606ms\tremaining: 2.29s\n",
            "419:\tlearn: 80436.9348171\ttotal: 608ms\tremaining: 2.29s\n",
            "420:\tlearn: 80406.9495229\ttotal: 609ms\tremaining: 2.28s\n",
            "421:\tlearn: 80371.6786103\ttotal: 610ms\tremaining: 2.28s\n",
            "422:\tlearn: 80307.2508987\ttotal: 612ms\tremaining: 2.28s\n",
            "423:\tlearn: 80274.2407461\ttotal: 613ms\tremaining: 2.28s\n",
            "424:\tlearn: 80217.5784892\ttotal: 615ms\tremaining: 2.28s\n",
            "425:\tlearn: 80191.7116069\ttotal: 616ms\tremaining: 2.28s\n",
            "426:\tlearn: 80134.0938793\ttotal: 618ms\tremaining: 2.27s\n",
            "427:\tlearn: 80085.0296064\ttotal: 619ms\tremaining: 2.27s\n",
            "428:\tlearn: 79997.3726119\ttotal: 621ms\tremaining: 2.27s\n",
            "429:\tlearn: 79969.3207182\ttotal: 622ms\tremaining: 2.27s\n",
            "430:\tlearn: 79874.4622364\ttotal: 623ms\tremaining: 2.27s\n",
            "431:\tlearn: 79830.9467055\ttotal: 625ms\tremaining: 2.27s\n",
            "432:\tlearn: 79761.8476001\ttotal: 626ms\tremaining: 2.27s\n",
            "433:\tlearn: 79738.6894826\ttotal: 628ms\tremaining: 2.26s\n",
            "434:\tlearn: 79708.4643262\ttotal: 629ms\tremaining: 2.26s\n",
            "435:\tlearn: 79646.9962531\ttotal: 631ms\tremaining: 2.26s\n",
            "436:\tlearn: 79632.1245032\ttotal: 632ms\tremaining: 2.26s\n",
            "437:\tlearn: 79625.0659655\ttotal: 633ms\tremaining: 2.26s\n",
            "438:\tlearn: 79613.0736575\ttotal: 634ms\tremaining: 2.25s\n",
            "439:\tlearn: 79565.2781567\ttotal: 636ms\tremaining: 2.25s\n",
            "440:\tlearn: 79484.7146183\ttotal: 637ms\tremaining: 2.25s\n",
            "441:\tlearn: 79396.9790223\ttotal: 638ms\tremaining: 2.25s\n",
            "442:\tlearn: 79355.1695644\ttotal: 639ms\tremaining: 2.25s\n",
            "443:\tlearn: 79317.5099332\ttotal: 641ms\tremaining: 2.25s\n",
            "444:\tlearn: 79287.5179290\ttotal: 642ms\tremaining: 2.25s\n",
            "445:\tlearn: 79247.9648119\ttotal: 644ms\tremaining: 2.24s\n",
            "446:\tlearn: 79229.0897719\ttotal: 645ms\tremaining: 2.24s\n",
            "447:\tlearn: 79209.0719070\ttotal: 646ms\tremaining: 2.24s\n",
            "448:\tlearn: 79187.1969332\ttotal: 648ms\tremaining: 2.24s\n",
            "449:\tlearn: 79145.3842107\ttotal: 649ms\tremaining: 2.23s\n",
            "450:\tlearn: 79099.4741573\ttotal: 650ms\tremaining: 2.23s\n",
            "451:\tlearn: 79046.9444308\ttotal: 652ms\tremaining: 2.23s\n",
            "452:\tlearn: 78970.6992582\ttotal: 653ms\tremaining: 2.23s\n",
            "453:\tlearn: 78921.0535766\ttotal: 655ms\tremaining: 2.23s\n",
            "454:\tlearn: 78800.9372854\ttotal: 656ms\tremaining: 2.23s\n",
            "455:\tlearn: 78752.2984043\ttotal: 658ms\tremaining: 2.23s\n",
            "456:\tlearn: 78675.9793968\ttotal: 659ms\tremaining: 2.23s\n",
            "457:\tlearn: 78612.1433643\ttotal: 661ms\tremaining: 2.22s\n",
            "458:\tlearn: 78566.5048050\ttotal: 662ms\tremaining: 2.22s\n",
            "459:\tlearn: 78499.2640097\ttotal: 663ms\tremaining: 2.22s\n",
            "460:\tlearn: 78476.1272193\ttotal: 665ms\tremaining: 2.22s\n",
            "461:\tlearn: 78407.0432600\ttotal: 667ms\tremaining: 2.22s\n",
            "462:\tlearn: 78359.8623056\ttotal: 668ms\tremaining: 2.22s\n",
            "463:\tlearn: 78297.0803087\ttotal: 670ms\tremaining: 2.22s\n",
            "464:\tlearn: 78270.7095166\ttotal: 672ms\tremaining: 2.22s\n",
            "465:\tlearn: 78230.7012210\ttotal: 674ms\tremaining: 2.22s\n",
            "466:\tlearn: 78215.9669029\ttotal: 676ms\tremaining: 2.22s\n",
            "467:\tlearn: 78198.2479119\ttotal: 679ms\tremaining: 2.22s\n",
            "468:\tlearn: 78101.3917982\ttotal: 681ms\tremaining: 2.22s\n",
            "469:\tlearn: 78074.5765460\ttotal: 683ms\tremaining: 2.22s\n",
            "470:\tlearn: 77991.0826451\ttotal: 684ms\tremaining: 2.22s\n",
            "471:\tlearn: 77785.2116213\ttotal: 686ms\tremaining: 2.22s\n",
            "472:\tlearn: 77759.6008580\ttotal: 687ms\tremaining: 2.22s\n",
            "473:\tlearn: 77746.7971151\ttotal: 688ms\tremaining: 2.21s\n",
            "474:\tlearn: 77730.9749708\ttotal: 689ms\tremaining: 2.21s\n",
            "475:\tlearn: 77716.7202067\ttotal: 691ms\tremaining: 2.21s\n",
            "476:\tlearn: 77697.1211080\ttotal: 692ms\tremaining: 2.21s\n",
            "477:\tlearn: 77613.6655067\ttotal: 693ms\tremaining: 2.21s\n",
            "478:\tlearn: 77568.1541068\ttotal: 695ms\tremaining: 2.21s\n",
            "479:\tlearn: 77544.8697793\ttotal: 696ms\tremaining: 2.2s\n",
            "480:\tlearn: 77531.0601042\ttotal: 697ms\tremaining: 2.2s\n",
            "481:\tlearn: 77504.2685991\ttotal: 699ms\tremaining: 2.2s\n",
            "482:\tlearn: 77456.9126762\ttotal: 700ms\tremaining: 2.2s\n",
            "483:\tlearn: 77442.8642641\ttotal: 701ms\tremaining: 2.2s\n",
            "484:\tlearn: 77361.8791367\ttotal: 703ms\tremaining: 2.19s\n",
            "485:\tlearn: 77304.8409399\ttotal: 704ms\tremaining: 2.19s\n",
            "486:\tlearn: 77278.5903473\ttotal: 705ms\tremaining: 2.19s\n",
            "487:\tlearn: 77250.8725112\ttotal: 707ms\tremaining: 2.19s\n",
            "488:\tlearn: 77189.4085075\ttotal: 708ms\tremaining: 2.19s\n",
            "489:\tlearn: 77176.9923324\ttotal: 709ms\tremaining: 2.19s\n",
            "490:\tlearn: 77104.9202487\ttotal: 711ms\tremaining: 2.18s\n",
            "491:\tlearn: 77095.1726669\ttotal: 712ms\tremaining: 2.18s\n",
            "492:\tlearn: 77031.4801695\ttotal: 713ms\tremaining: 2.18s\n",
            "493:\tlearn: 76955.3133934\ttotal: 715ms\tremaining: 2.18s\n",
            "494:\tlearn: 76942.1329833\ttotal: 716ms\tremaining: 2.18s\n",
            "495:\tlearn: 76919.2224453\ttotal: 717ms\tremaining: 2.17s\n",
            "496:\tlearn: 76843.8321675\ttotal: 718ms\tremaining: 2.17s\n",
            "497:\tlearn: 76729.2373179\ttotal: 720ms\tremaining: 2.17s\n",
            "498:\tlearn: 76719.2901243\ttotal: 721ms\tremaining: 2.17s\n",
            "499:\tlearn: 76702.3880934\ttotal: 722ms\tremaining: 2.17s\n",
            "500:\tlearn: 76676.1647238\ttotal: 724ms\tremaining: 2.17s\n",
            "501:\tlearn: 76659.9633535\ttotal: 725ms\tremaining: 2.16s\n",
            "502:\tlearn: 76648.2859970\ttotal: 726ms\tremaining: 2.16s\n",
            "503:\tlearn: 76610.4249713\ttotal: 728ms\tremaining: 2.16s\n",
            "504:\tlearn: 76526.4063974\ttotal: 729ms\tremaining: 2.16s\n",
            "505:\tlearn: 76464.8359835\ttotal: 731ms\tremaining: 2.16s\n",
            "506:\tlearn: 76370.8350371\ttotal: 732ms\tremaining: 2.15s\n",
            "507:\tlearn: 76221.5542908\ttotal: 733ms\tremaining: 2.15s\n",
            "508:\tlearn: 76136.2610617\ttotal: 735ms\tremaining: 2.15s\n",
            "509:\tlearn: 76132.5966041\ttotal: 736ms\tremaining: 2.15s\n",
            "510:\tlearn: 76114.5927996\ttotal: 737ms\tremaining: 2.15s\n",
            "511:\tlearn: 76090.2372556\ttotal: 739ms\tremaining: 2.15s\n",
            "512:\tlearn: 76030.5549050\ttotal: 740ms\tremaining: 2.15s\n",
            "513:\tlearn: 76007.2795625\ttotal: 742ms\tremaining: 2.14s\n",
            "514:\tlearn: 75997.1148587\ttotal: 743ms\tremaining: 2.14s\n",
            "515:\tlearn: 75986.9298434\ttotal: 745ms\tremaining: 2.14s\n",
            "516:\tlearn: 75946.0665313\ttotal: 746ms\tremaining: 2.14s\n",
            "517:\tlearn: 75893.6910582\ttotal: 747ms\tremaining: 2.14s\n",
            "518:\tlearn: 75830.5788553\ttotal: 749ms\tremaining: 2.14s\n",
            "519:\tlearn: 75759.6269158\ttotal: 750ms\tremaining: 2.13s\n",
            "520:\tlearn: 75673.1873481\ttotal: 752ms\tremaining: 2.13s\n",
            "521:\tlearn: 75545.4558320\ttotal: 753ms\tremaining: 2.13s\n",
            "522:\tlearn: 75515.4822925\ttotal: 755ms\tremaining: 2.13s\n",
            "523:\tlearn: 75494.6903932\ttotal: 756ms\tremaining: 2.13s\n",
            "524:\tlearn: 75480.0866815\ttotal: 757ms\tremaining: 2.13s\n",
            "525:\tlearn: 75366.5209474\ttotal: 759ms\tremaining: 2.13s\n",
            "526:\tlearn: 75305.4568733\ttotal: 760ms\tremaining: 2.13s\n",
            "527:\tlearn: 75251.7137180\ttotal: 762ms\tremaining: 2.12s\n",
            "528:\tlearn: 75237.1984867\ttotal: 763ms\tremaining: 2.12s\n",
            "529:\tlearn: 75177.7429986\ttotal: 765ms\tremaining: 2.12s\n",
            "530:\tlearn: 75164.3418404\ttotal: 767ms\tremaining: 2.12s\n",
            "531:\tlearn: 75096.0656820\ttotal: 768ms\tremaining: 2.12s\n",
            "532:\tlearn: 75014.6504896\ttotal: 769ms\tremaining: 2.12s\n",
            "533:\tlearn: 74952.2348464\ttotal: 771ms\tremaining: 2.12s\n",
            "534:\tlearn: 74940.1873126\ttotal: 772ms\tremaining: 2.11s\n",
            "535:\tlearn: 74930.3946725\ttotal: 774ms\tremaining: 2.11s\n",
            "536:\tlearn: 74912.9815244\ttotal: 775ms\tremaining: 2.11s\n",
            "537:\tlearn: 74901.3605729\ttotal: 776ms\tremaining: 2.11s\n",
            "538:\tlearn: 74870.6528658\ttotal: 779ms\tremaining: 2.11s\n",
            "539:\tlearn: 74782.2459065\ttotal: 780ms\tremaining: 2.11s\n",
            "540:\tlearn: 74696.8394327\ttotal: 782ms\tremaining: 2.11s\n",
            "541:\tlearn: 74550.5509821\ttotal: 783ms\tremaining: 2.11s\n",
            "542:\tlearn: 74443.3356467\ttotal: 785ms\tremaining: 2.1s\n",
            "543:\tlearn: 74435.2918802\ttotal: 786ms\tremaining: 2.1s\n",
            "544:\tlearn: 74344.8877569\ttotal: 787ms\tremaining: 2.1s\n",
            "545:\tlearn: 74287.0948530\ttotal: 789ms\tremaining: 2.1s\n",
            "546:\tlearn: 74224.4116681\ttotal: 791ms\tremaining: 2.1s\n",
            "547:\tlearn: 74171.3050551\ttotal: 792ms\tremaining: 2.1s\n",
            "548:\tlearn: 74118.3252528\ttotal: 794ms\tremaining: 2.1s\n",
            "549:\tlearn: 74075.7230358\ttotal: 795ms\tremaining: 2.1s\n",
            "550:\tlearn: 73987.4318826\ttotal: 796ms\tremaining: 2.09s\n",
            "551:\tlearn: 73953.7170444\ttotal: 798ms\tremaining: 2.09s\n",
            "552:\tlearn: 73807.4032787\ttotal: 799ms\tremaining: 2.09s\n",
            "553:\tlearn: 73744.4649743\ttotal: 801ms\tremaining: 2.09s\n",
            "554:\tlearn: 73721.7472162\ttotal: 802ms\tremaining: 2.09s\n",
            "555:\tlearn: 73583.3118764\ttotal: 804ms\tremaining: 2.09s\n",
            "556:\tlearn: 73567.9650172\ttotal: 805ms\tremaining: 2.09s\n",
            "557:\tlearn: 73552.3448369\ttotal: 807ms\tremaining: 2.08s\n",
            "558:\tlearn: 73537.8232351\ttotal: 808ms\tremaining: 2.08s\n",
            "559:\tlearn: 73500.5910215\ttotal: 809ms\tremaining: 2.08s\n",
            "560:\tlearn: 73474.0992228\ttotal: 811ms\tremaining: 2.08s\n",
            "561:\tlearn: 73416.4230658\ttotal: 812ms\tremaining: 2.08s\n",
            "562:\tlearn: 73359.3797747\ttotal: 814ms\tremaining: 2.08s\n",
            "563:\tlearn: 73274.9422682\ttotal: 816ms\tremaining: 2.08s\n",
            "564:\tlearn: 73208.7659794\ttotal: 817ms\tremaining: 2.08s\n",
            "565:\tlearn: 73198.1443313\ttotal: 818ms\tremaining: 2.07s\n",
            "566:\tlearn: 73189.6524872\ttotal: 820ms\tremaining: 2.07s\n",
            "567:\tlearn: 73167.4211806\ttotal: 822ms\tremaining: 2.07s\n",
            "568:\tlearn: 73087.8192348\ttotal: 823ms\tremaining: 2.07s\n",
            "569:\tlearn: 73008.7928268\ttotal: 825ms\tremaining: 2.07s\n",
            "570:\tlearn: 72963.4060073\ttotal: 828ms\tremaining: 2.07s\n",
            "571:\tlearn: 72851.4492996\ttotal: 831ms\tremaining: 2.07s\n",
            "572:\tlearn: 72817.4202668\ttotal: 833ms\tremaining: 2.07s\n",
            "573:\tlearn: 72789.5366289\ttotal: 836ms\tremaining: 2.08s\n",
            "574:\tlearn: 72711.9662240\ttotal: 839ms\tremaining: 2.08s\n",
            "575:\tlearn: 72600.2198764\ttotal: 841ms\tremaining: 2.08s\n",
            "576:\tlearn: 72578.5464396\ttotal: 843ms\tremaining: 2.08s\n",
            "577:\tlearn: 72562.4738705\ttotal: 844ms\tremaining: 2.08s\n",
            "578:\tlearn: 72546.5931372\ttotal: 846ms\tremaining: 2.08s\n",
            "579:\tlearn: 72486.2364928\ttotal: 848ms\tremaining: 2.08s\n",
            "580:\tlearn: 72477.0588021\ttotal: 850ms\tremaining: 2.07s\n",
            "581:\tlearn: 72450.8106031\ttotal: 851ms\tremaining: 2.07s\n",
            "582:\tlearn: 72350.1981888\ttotal: 853ms\tremaining: 2.07s\n",
            "583:\tlearn: 72327.0440111\ttotal: 854ms\tremaining: 2.07s\n",
            "584:\tlearn: 72253.5970692\ttotal: 856ms\tremaining: 2.07s\n",
            "585:\tlearn: 72194.9481182\ttotal: 857ms\tremaining: 2.07s\n",
            "586:\tlearn: 72052.5765210\ttotal: 859ms\tremaining: 2.07s\n",
            "587:\tlearn: 71931.1141314\ttotal: 861ms\tremaining: 2.07s\n",
            "588:\tlearn: 71891.4088228\ttotal: 862ms\tremaining: 2.06s\n",
            "589:\tlearn: 71874.9109956\ttotal: 864ms\tremaining: 2.06s\n",
            "590:\tlearn: 71869.8190229\ttotal: 865ms\tremaining: 2.06s\n",
            "591:\tlearn: 71795.6893339\ttotal: 867ms\tremaining: 2.06s\n",
            "592:\tlearn: 71723.9374654\ttotal: 869ms\tremaining: 2.06s\n",
            "593:\tlearn: 71604.8943502\ttotal: 870ms\tremaining: 2.06s\n",
            "594:\tlearn: 71520.4853354\ttotal: 872ms\tremaining: 2.06s\n",
            "595:\tlearn: 71399.3006620\ttotal: 873ms\tremaining: 2.06s\n",
            "596:\tlearn: 71318.4175766\ttotal: 874ms\tremaining: 2.05s\n",
            "597:\tlearn: 71263.7045290\ttotal: 876ms\tremaining: 2.05s\n",
            "598:\tlearn: 71188.7109761\ttotal: 877ms\tremaining: 2.05s\n",
            "599:\tlearn: 71066.7288582\ttotal: 879ms\tremaining: 2.05s\n",
            "600:\tlearn: 70972.4488556\ttotal: 880ms\tremaining: 2.05s\n",
            "601:\tlearn: 70885.2840806\ttotal: 882ms\tremaining: 2.05s\n",
            "602:\tlearn: 70723.2885182\ttotal: 883ms\tremaining: 2.04s\n",
            "603:\tlearn: 70673.6708168\ttotal: 885ms\tremaining: 2.04s\n",
            "604:\tlearn: 70653.1384917\ttotal: 886ms\tremaining: 2.04s\n",
            "605:\tlearn: 70643.2709039\ttotal: 888ms\tremaining: 2.04s\n",
            "606:\tlearn: 70586.2297283\ttotal: 889ms\tremaining: 2.04s\n",
            "607:\tlearn: 70576.3478549\ttotal: 891ms\tremaining: 2.04s\n",
            "608:\tlearn: 70543.8805841\ttotal: 892ms\tremaining: 2.04s\n",
            "609:\tlearn: 70504.8951395\ttotal: 894ms\tremaining: 2.04s\n",
            "610:\tlearn: 70410.5158529\ttotal: 896ms\tremaining: 2.04s\n",
            "611:\tlearn: 70349.1715220\ttotal: 898ms\tremaining: 2.04s\n",
            "612:\tlearn: 70299.5816589\ttotal: 900ms\tremaining: 2.04s\n",
            "613:\tlearn: 70270.8936474\ttotal: 901ms\tremaining: 2.03s\n",
            "614:\tlearn: 70241.7126142\ttotal: 903ms\tremaining: 2.03s\n",
            "615:\tlearn: 70187.3377397\ttotal: 905ms\tremaining: 2.03s\n",
            "616:\tlearn: 70124.6888510\ttotal: 906ms\tremaining: 2.03s\n",
            "617:\tlearn: 70039.3190691\ttotal: 908ms\tremaining: 2.03s\n",
            "618:\tlearn: 69983.0946864\ttotal: 909ms\tremaining: 2.03s\n",
            "619:\tlearn: 69971.2894372\ttotal: 910ms\tremaining: 2.02s\n",
            "620:\tlearn: 69945.5876948\ttotal: 911ms\tremaining: 2.02s\n",
            "621:\tlearn: 69943.0926131\ttotal: 914ms\tremaining: 2.02s\n",
            "622:\tlearn: 69888.3977696\ttotal: 915ms\tremaining: 2.02s\n",
            "623:\tlearn: 69881.3694706\ttotal: 916ms\tremaining: 2.02s\n",
            "624:\tlearn: 69821.1659447\ttotal: 917ms\tremaining: 2.02s\n",
            "625:\tlearn: 69796.9541596\ttotal: 918ms\tremaining: 2.02s\n",
            "626:\tlearn: 69722.6351132\ttotal: 920ms\tremaining: 2.01s\n",
            "627:\tlearn: 69624.8872093\ttotal: 921ms\tremaining: 2.01s\n",
            "628:\tlearn: 69607.6196964\ttotal: 922ms\tremaining: 2.01s\n",
            "629:\tlearn: 69478.2858312\ttotal: 923ms\tremaining: 2.01s\n",
            "630:\tlearn: 69391.4123960\ttotal: 925ms\tremaining: 2.01s\n",
            "631:\tlearn: 69362.9805560\ttotal: 926ms\tremaining: 2s\n",
            "632:\tlearn: 69289.6627433\ttotal: 928ms\tremaining: 2s\n",
            "633:\tlearn: 69255.1731445\ttotal: 929ms\tremaining: 2s\n",
            "634:\tlearn: 69200.8887939\ttotal: 930ms\tremaining: 2s\n",
            "635:\tlearn: 69108.6150445\ttotal: 931ms\tremaining: 2s\n",
            "636:\tlearn: 69081.9616936\ttotal: 933ms\tremaining: 2s\n",
            "637:\tlearn: 69068.0279353\ttotal: 934ms\tremaining: 1.99s\n",
            "638:\tlearn: 69029.9761327\ttotal: 935ms\tremaining: 1.99s\n",
            "639:\tlearn: 68959.1956687\ttotal: 936ms\tremaining: 1.99s\n",
            "640:\tlearn: 68883.5408758\ttotal: 938ms\tremaining: 1.99s\n",
            "641:\tlearn: 68854.5666528\ttotal: 939ms\tremaining: 1.99s\n",
            "642:\tlearn: 68841.9611010\ttotal: 941ms\tremaining: 1.99s\n",
            "643:\tlearn: 68755.9858301\ttotal: 942ms\tremaining: 1.98s\n",
            "644:\tlearn: 68695.9616801\ttotal: 943ms\tremaining: 1.98s\n",
            "645:\tlearn: 68618.1696748\ttotal: 945ms\tremaining: 1.98s\n",
            "646:\tlearn: 68554.1851269\ttotal: 946ms\tremaining: 1.98s\n",
            "647:\tlearn: 68522.2045341\ttotal: 947ms\tremaining: 1.98s\n",
            "648:\tlearn: 68513.0081348\ttotal: 949ms\tremaining: 1.97s\n",
            "649:\tlearn: 68384.7844808\ttotal: 950ms\tremaining: 1.97s\n",
            "650:\tlearn: 68372.3509804\ttotal: 951ms\tremaining: 1.97s\n",
            "651:\tlearn: 68332.8937531\ttotal: 952ms\tremaining: 1.97s\n",
            "652:\tlearn: 68258.3531976\ttotal: 954ms\tremaining: 1.97s\n",
            "653:\tlearn: 68215.1639036\ttotal: 955ms\tremaining: 1.97s\n",
            "654:\tlearn: 68096.4690150\ttotal: 956ms\tremaining: 1.96s\n",
            "655:\tlearn: 68048.6633448\ttotal: 958ms\tremaining: 1.96s\n",
            "656:\tlearn: 67978.0353277\ttotal: 959ms\tremaining: 1.96s\n",
            "657:\tlearn: 67896.6264506\ttotal: 960ms\tremaining: 1.96s\n",
            "658:\tlearn: 67886.3275973\ttotal: 961ms\tremaining: 1.96s\n",
            "659:\tlearn: 67823.6878783\ttotal: 963ms\tremaining: 1.95s\n",
            "660:\tlearn: 67723.0770090\ttotal: 964ms\tremaining: 1.95s\n",
            "661:\tlearn: 67624.0393415\ttotal: 965ms\tremaining: 1.95s\n",
            "662:\tlearn: 67551.0980351\ttotal: 967ms\tremaining: 1.95s\n",
            "663:\tlearn: 67526.0753512\ttotal: 968ms\tremaining: 1.95s\n",
            "664:\tlearn: 67411.4130460\ttotal: 969ms\tremaining: 1.95s\n",
            "665:\tlearn: 67341.8075856\ttotal: 971ms\tremaining: 1.94s\n",
            "666:\tlearn: 67286.6556495\ttotal: 972ms\tremaining: 1.94s\n",
            "667:\tlearn: 67218.2265639\ttotal: 973ms\tremaining: 1.94s\n",
            "668:\tlearn: 67070.5836990\ttotal: 974ms\tremaining: 1.94s\n",
            "669:\tlearn: 67025.1807136\ttotal: 976ms\tremaining: 1.94s\n",
            "670:\tlearn: 66965.1617579\ttotal: 977ms\tremaining: 1.94s\n",
            "671:\tlearn: 66912.2636092\ttotal: 979ms\tremaining: 1.93s\n",
            "672:\tlearn: 66885.0138712\ttotal: 980ms\tremaining: 1.93s\n",
            "673:\tlearn: 66866.6142018\ttotal: 982ms\tremaining: 1.93s\n",
            "674:\tlearn: 66784.3690706\ttotal: 983ms\tremaining: 1.93s\n",
            "675:\tlearn: 66733.8804153\ttotal: 984ms\tremaining: 1.93s\n",
            "676:\tlearn: 66651.2692445\ttotal: 986ms\tremaining: 1.93s\n",
            "677:\tlearn: 66593.0410244\ttotal: 987ms\tremaining: 1.93s\n",
            "678:\tlearn: 66568.8001570\ttotal: 989ms\tremaining: 1.92s\n",
            "679:\tlearn: 66498.7578875\ttotal: 990ms\tremaining: 1.92s\n",
            "680:\tlearn: 66482.5871949\ttotal: 992ms\tremaining: 1.92s\n",
            "681:\tlearn: 66466.1852916\ttotal: 995ms\tremaining: 1.92s\n",
            "682:\tlearn: 66458.5212809\ttotal: 996ms\tremaining: 1.92s\n",
            "683:\tlearn: 66410.5101136\ttotal: 998ms\tremaining: 1.92s\n",
            "684:\tlearn: 66336.0478435\ttotal: 999ms\tremaining: 1.92s\n",
            "685:\tlearn: 66285.5535016\ttotal: 1s\tremaining: 1.92s\n",
            "686:\tlearn: 66218.5995354\ttotal: 1s\tremaining: 1.91s\n",
            "687:\tlearn: 66184.2288166\ttotal: 1s\tremaining: 1.91s\n",
            "688:\tlearn: 66143.6755619\ttotal: 1s\tremaining: 1.91s\n",
            "689:\tlearn: 66130.2369630\ttotal: 1s\tremaining: 1.91s\n",
            "690:\tlearn: 65995.0694970\ttotal: 1.01s\tremaining: 1.91s\n",
            "691:\tlearn: 65971.6494239\ttotal: 1.01s\tremaining: 1.91s\n",
            "692:\tlearn: 65948.1855439\ttotal: 1.01s\tremaining: 1.9s\n",
            "693:\tlearn: 65912.5829389\ttotal: 1.01s\tremaining: 1.9s\n",
            "694:\tlearn: 65899.1337733\ttotal: 1.01s\tremaining: 1.9s\n",
            "695:\tlearn: 65884.3327257\ttotal: 1.01s\tremaining: 1.9s\n",
            "696:\tlearn: 65816.5866285\ttotal: 1.01s\tremaining: 1.9s\n",
            "697:\tlearn: 65779.5222890\ttotal: 1.01s\tremaining: 1.89s\n",
            "698:\tlearn: 65765.6493309\ttotal: 1.02s\tremaining: 1.89s\n",
            "699:\tlearn: 65727.0909326\ttotal: 1.02s\tremaining: 1.89s\n",
            "700:\tlearn: 65687.3935052\ttotal: 1.02s\tremaining: 1.89s\n",
            "701:\tlearn: 65627.1940669\ttotal: 1.02s\tremaining: 1.89s\n",
            "702:\tlearn: 65560.9663004\ttotal: 1.02s\tremaining: 1.89s\n",
            "703:\tlearn: 65423.8600252\ttotal: 1.02s\tremaining: 1.88s\n",
            "704:\tlearn: 65377.7174466\ttotal: 1.02s\tremaining: 1.88s\n",
            "705:\tlearn: 65296.0738314\ttotal: 1.02s\tremaining: 1.88s\n",
            "706:\tlearn: 65249.5238238\ttotal: 1.03s\tremaining: 1.88s\n",
            "707:\tlearn: 65190.1056323\ttotal: 1.03s\tremaining: 1.88s\n",
            "708:\tlearn: 65069.5625835\ttotal: 1.03s\tremaining: 1.87s\n",
            "709:\tlearn: 65030.8406207\ttotal: 1.03s\tremaining: 1.87s\n",
            "710:\tlearn: 64956.6820609\ttotal: 1.03s\tremaining: 1.87s\n",
            "711:\tlearn: 64908.9958610\ttotal: 1.03s\tremaining: 1.87s\n",
            "712:\tlearn: 64891.6555544\ttotal: 1.03s\tremaining: 1.87s\n",
            "713:\tlearn: 64879.4335779\ttotal: 1.03s\tremaining: 1.86s\n",
            "714:\tlearn: 64786.0874243\ttotal: 1.04s\tremaining: 1.86s\n",
            "715:\tlearn: 64716.5894800\ttotal: 1.04s\tremaining: 1.86s\n",
            "716:\tlearn: 64637.9378827\ttotal: 1.04s\tremaining: 1.86s\n",
            "717:\tlearn: 64595.4377356\ttotal: 1.04s\tremaining: 1.86s\n",
            "718:\tlearn: 64564.0705968\ttotal: 1.04s\tremaining: 1.86s\n",
            "719:\tlearn: 64493.3425392\ttotal: 1.04s\tremaining: 1.85s\n",
            "720:\tlearn: 64470.5306956\ttotal: 1.04s\tremaining: 1.85s\n",
            "721:\tlearn: 64393.8230411\ttotal: 1.05s\tremaining: 1.85s\n",
            "722:\tlearn: 64344.0876079\ttotal: 1.05s\tremaining: 1.86s\n",
            "723:\tlearn: 64280.6633452\ttotal: 1.05s\tremaining: 1.86s\n",
            "724:\tlearn: 64222.4791013\ttotal: 1.06s\tremaining: 1.86s\n",
            "725:\tlearn: 64153.4162656\ttotal: 1.06s\tremaining: 1.86s\n",
            "726:\tlearn: 64134.2267291\ttotal: 1.06s\tremaining: 1.86s\n",
            "727:\tlearn: 64077.7092805\ttotal: 1.06s\tremaining: 1.86s\n",
            "728:\tlearn: 64028.6985986\ttotal: 1.07s\tremaining: 1.86s\n",
            "729:\tlearn: 63974.4676547\ttotal: 1.07s\tremaining: 1.86s\n",
            "730:\tlearn: 63898.9191688\ttotal: 1.07s\tremaining: 1.86s\n",
            "731:\tlearn: 63853.7720071\ttotal: 1.07s\tremaining: 1.86s\n",
            "732:\tlearn: 63828.3377433\ttotal: 1.08s\tremaining: 1.86s\n",
            "733:\tlearn: 63705.9231937\ttotal: 1.08s\tremaining: 1.86s\n",
            "734:\tlearn: 63626.9795188\ttotal: 1.08s\tremaining: 1.87s\n",
            "735:\tlearn: 63553.4409190\ttotal: 1.09s\tremaining: 1.87s\n",
            "736:\tlearn: 63473.2627529\ttotal: 1.09s\tremaining: 1.87s\n",
            "737:\tlearn: 63392.8322283\ttotal: 1.09s\tremaining: 1.87s\n",
            "738:\tlearn: 63377.3166152\ttotal: 1.1s\tremaining: 1.87s\n",
            "739:\tlearn: 63359.9023130\ttotal: 1.1s\tremaining: 1.87s\n",
            "740:\tlearn: 63252.8227006\ttotal: 1.1s\tremaining: 1.87s\n",
            "741:\tlearn: 63237.5928648\ttotal: 1.11s\tremaining: 1.88s\n",
            "742:\tlearn: 63154.5480872\ttotal: 1.11s\tremaining: 1.88s\n",
            "743:\tlearn: 63113.9780341\ttotal: 1.11s\tremaining: 1.88s\n",
            "744:\tlearn: 63065.6144351\ttotal: 1.11s\tremaining: 1.88s\n",
            "745:\tlearn: 63036.1090788\ttotal: 1.12s\tremaining: 1.88s\n",
            "746:\tlearn: 63015.7189479\ttotal: 1.12s\tremaining: 1.88s\n",
            "747:\tlearn: 62991.6988400\ttotal: 1.12s\tremaining: 1.88s\n",
            "748:\tlearn: 62946.9664919\ttotal: 1.13s\tremaining: 1.88s\n",
            "749:\tlearn: 62940.0095286\ttotal: 1.13s\tremaining: 1.88s\n",
            "750:\tlearn: 62879.9716145\ttotal: 1.13s\tremaining: 1.88s\n",
            "751:\tlearn: 62809.0075556\ttotal: 1.13s\tremaining: 1.88s\n",
            "752:\tlearn: 62787.2742107\ttotal: 1.14s\tremaining: 1.88s\n",
            "753:\tlearn: 62760.5063040\ttotal: 1.14s\tremaining: 1.88s\n",
            "754:\tlearn: 62666.2585896\ttotal: 1.14s\tremaining: 1.88s\n",
            "755:\tlearn: 62552.6007622\ttotal: 1.14s\tremaining: 1.88s\n",
            "756:\tlearn: 62494.3316532\ttotal: 1.15s\tremaining: 1.88s\n",
            "757:\tlearn: 62441.7561042\ttotal: 1.15s\tremaining: 1.88s\n",
            "758:\tlearn: 62390.4826923\ttotal: 1.15s\tremaining: 1.88s\n",
            "759:\tlearn: 62317.0515380\ttotal: 1.15s\tremaining: 1.88s\n",
            "760:\tlearn: 62243.4429342\ttotal: 1.16s\tremaining: 1.88s\n",
            "761:\tlearn: 62180.2435819\ttotal: 1.16s\tremaining: 1.88s\n",
            "762:\tlearn: 62098.6726539\ttotal: 1.16s\tremaining: 1.88s\n",
            "763:\tlearn: 62082.4908059\ttotal: 1.16s\tremaining: 1.88s\n",
            "764:\tlearn: 61953.5926646\ttotal: 1.17s\tremaining: 1.89s\n",
            "765:\tlearn: 61931.1939100\ttotal: 1.17s\tremaining: 1.89s\n",
            "766:\tlearn: 61894.9298124\ttotal: 1.17s\tremaining: 1.89s\n",
            "767:\tlearn: 61828.2747281\ttotal: 1.18s\tremaining: 1.89s\n",
            "768:\tlearn: 61805.7889030\ttotal: 1.18s\tremaining: 1.89s\n",
            "769:\tlearn: 61754.9568283\ttotal: 1.18s\tremaining: 1.89s\n",
            "770:\tlearn: 61658.7611865\ttotal: 1.18s\tremaining: 1.89s\n",
            "771:\tlearn: 61624.0379027\ttotal: 1.19s\tremaining: 1.89s\n",
            "772:\tlearn: 61584.2056026\ttotal: 1.19s\tremaining: 1.89s\n",
            "773:\tlearn: 61524.9271768\ttotal: 1.19s\tremaining: 1.89s\n",
            "774:\tlearn: 61424.5367502\ttotal: 1.2s\tremaining: 1.89s\n",
            "775:\tlearn: 61369.1639917\ttotal: 1.2s\tremaining: 1.89s\n",
            "776:\tlearn: 61315.7419482\ttotal: 1.2s\tremaining: 1.89s\n",
            "777:\tlearn: 61252.6223926\ttotal: 1.2s\tremaining: 1.89s\n",
            "778:\tlearn: 61197.0717184\ttotal: 1.21s\tremaining: 1.89s\n",
            "779:\tlearn: 61160.4189418\ttotal: 1.21s\tremaining: 1.89s\n",
            "780:\tlearn: 61115.1806195\ttotal: 1.21s\tremaining: 1.89s\n",
            "781:\tlearn: 61097.2367510\ttotal: 1.22s\tremaining: 1.9s\n",
            "782:\tlearn: 61085.8327429\ttotal: 1.22s\tremaining: 1.9s\n",
            "783:\tlearn: 61015.1274631\ttotal: 1.22s\tremaining: 1.9s\n",
            "784:\tlearn: 61004.6689235\ttotal: 1.22s\tremaining: 1.9s\n",
            "785:\tlearn: 60988.0469713\ttotal: 1.23s\tremaining: 1.9s\n",
            "786:\tlearn: 60932.8385050\ttotal: 1.23s\tremaining: 1.9s\n",
            "787:\tlearn: 60886.6862133\ttotal: 1.23s\tremaining: 1.9s\n",
            "788:\tlearn: 60830.2409471\ttotal: 1.23s\tremaining: 1.9s\n",
            "789:\tlearn: 60794.1629811\ttotal: 1.24s\tremaining: 1.9s\n",
            "790:\tlearn: 60729.5716329\ttotal: 1.24s\tremaining: 1.9s\n",
            "791:\tlearn: 60655.4694030\ttotal: 1.24s\tremaining: 1.9s\n",
            "792:\tlearn: 60585.5382016\ttotal: 1.25s\tremaining: 1.9s\n",
            "793:\tlearn: 60544.1128522\ttotal: 1.25s\tremaining: 1.9s\n",
            "794:\tlearn: 60525.2176241\ttotal: 1.25s\tremaining: 1.89s\n",
            "795:\tlearn: 60483.1093609\ttotal: 1.25s\tremaining: 1.89s\n",
            "796:\tlearn: 60472.1651299\ttotal: 1.25s\tremaining: 1.89s\n",
            "797:\tlearn: 60411.0464038\ttotal: 1.26s\tremaining: 1.89s\n",
            "798:\tlearn: 60324.3032396\ttotal: 1.26s\tremaining: 1.89s\n",
            "799:\tlearn: 60230.7081455\ttotal: 1.26s\tremaining: 1.89s\n",
            "800:\tlearn: 60209.6737016\ttotal: 1.26s\tremaining: 1.89s\n",
            "801:\tlearn: 60162.4954028\ttotal: 1.27s\tremaining: 1.89s\n",
            "802:\tlearn: 60132.2098392\ttotal: 1.27s\tremaining: 1.89s\n",
            "803:\tlearn: 60124.1770602\ttotal: 1.27s\tremaining: 1.89s\n",
            "804:\tlearn: 60068.9868194\ttotal: 1.27s\tremaining: 1.89s\n",
            "805:\tlearn: 60038.4442851\ttotal: 1.28s\tremaining: 1.89s\n",
            "806:\tlearn: 60013.7825546\ttotal: 1.28s\tremaining: 1.89s\n",
            "807:\tlearn: 59959.4068163\ttotal: 1.28s\tremaining: 1.89s\n",
            "808:\tlearn: 59888.3294508\ttotal: 1.29s\tremaining: 1.89s\n",
            "809:\tlearn: 59860.5400313\ttotal: 1.29s\tremaining: 1.89s\n",
            "810:\tlearn: 59799.2891212\ttotal: 1.29s\tremaining: 1.89s\n",
            "811:\tlearn: 59742.6150549\ttotal: 1.29s\tremaining: 1.89s\n",
            "812:\tlearn: 59681.9694338\ttotal: 1.3s\tremaining: 1.89s\n",
            "813:\tlearn: 59671.6500012\ttotal: 1.3s\tremaining: 1.89s\n",
            "814:\tlearn: 59622.6155983\ttotal: 1.3s\tremaining: 1.89s\n",
            "815:\tlearn: 59576.0626535\ttotal: 1.3s\tremaining: 1.89s\n",
            "816:\tlearn: 59557.6212649\ttotal: 1.31s\tremaining: 1.89s\n",
            "817:\tlearn: 59497.8609750\ttotal: 1.31s\tremaining: 1.89s\n",
            "818:\tlearn: 59445.1048258\ttotal: 1.31s\tremaining: 1.89s\n",
            "819:\tlearn: 59391.4314432\ttotal: 1.32s\tremaining: 1.9s\n",
            "820:\tlearn: 59338.0419675\ttotal: 1.32s\tremaining: 1.9s\n",
            "821:\tlearn: 59298.2542542\ttotal: 1.32s\tremaining: 1.9s\n",
            "822:\tlearn: 59231.7389954\ttotal: 1.33s\tremaining: 1.9s\n",
            "823:\tlearn: 59174.3104801\ttotal: 1.33s\tremaining: 1.9s\n",
            "824:\tlearn: 59145.0870704\ttotal: 1.33s\tremaining: 1.9s\n",
            "825:\tlearn: 59121.8347305\ttotal: 1.33s\tremaining: 1.9s\n",
            "826:\tlearn: 59080.3445267\ttotal: 1.34s\tremaining: 1.9s\n",
            "827:\tlearn: 59061.8566204\ttotal: 1.34s\tremaining: 1.9s\n",
            "828:\tlearn: 59043.2671857\ttotal: 1.34s\tremaining: 1.9s\n",
            "829:\tlearn: 59036.5067302\ttotal: 1.35s\tremaining: 1.9s\n",
            "830:\tlearn: 58958.5143519\ttotal: 1.35s\tremaining: 1.9s\n",
            "831:\tlearn: 58901.8286846\ttotal: 1.35s\tremaining: 1.9s\n",
            "832:\tlearn: 58851.6559309\ttotal: 1.35s\tremaining: 1.9s\n",
            "833:\tlearn: 58790.8339246\ttotal: 1.36s\tremaining: 1.9s\n",
            "834:\tlearn: 58760.0465768\ttotal: 1.36s\tremaining: 1.9s\n",
            "835:\tlearn: 58742.0822092\ttotal: 1.36s\tremaining: 1.9s\n",
            "836:\tlearn: 58695.9948552\ttotal: 1.37s\tremaining: 1.9s\n",
            "837:\tlearn: 58681.4403240\ttotal: 1.37s\tremaining: 1.9s\n",
            "838:\tlearn: 58647.8890081\ttotal: 1.38s\tremaining: 1.9s\n",
            "839:\tlearn: 58558.5270022\ttotal: 1.38s\tremaining: 1.9s\n",
            "840:\tlearn: 58493.9393142\ttotal: 1.38s\tremaining: 1.9s\n",
            "841:\tlearn: 58445.4563674\ttotal: 1.38s\tremaining: 1.9s\n",
            "842:\tlearn: 58439.5114597\ttotal: 1.39s\tremaining: 1.9s\n",
            "843:\tlearn: 58393.8185359\ttotal: 1.39s\tremaining: 1.9s\n",
            "844:\tlearn: 58362.9134182\ttotal: 1.39s\tremaining: 1.9s\n",
            "845:\tlearn: 58311.7129322\ttotal: 1.4s\tremaining: 1.9s\n",
            "846:\tlearn: 58281.9029082\ttotal: 1.4s\tremaining: 1.9s\n",
            "847:\tlearn: 58262.4853580\ttotal: 1.4s\tremaining: 1.9s\n",
            "848:\tlearn: 58224.5177013\ttotal: 1.4s\tremaining: 1.9s\n",
            "849:\tlearn: 58181.9226042\ttotal: 1.41s\tremaining: 1.9s\n",
            "850:\tlearn: 58147.2203751\ttotal: 1.41s\tremaining: 1.9s\n",
            "851:\tlearn: 58075.3273512\ttotal: 1.41s\tremaining: 1.9s\n",
            "852:\tlearn: 58063.5515705\ttotal: 1.42s\tremaining: 1.9s\n",
            "853:\tlearn: 58019.1459454\ttotal: 1.42s\tremaining: 1.9s\n",
            "854:\tlearn: 57954.9248498\ttotal: 1.42s\tremaining: 1.9s\n",
            "855:\tlearn: 57890.0524352\ttotal: 1.42s\tremaining: 1.9s\n",
            "856:\tlearn: 57854.7902991\ttotal: 1.43s\tremaining: 1.9s\n",
            "857:\tlearn: 57815.1789577\ttotal: 1.43s\tremaining: 1.9s\n",
            "858:\tlearn: 57746.0796759\ttotal: 1.43s\tremaining: 1.9s\n",
            "859:\tlearn: 57666.8696123\ttotal: 1.43s\tremaining: 1.9s\n",
            "860:\tlearn: 57651.5958674\ttotal: 1.44s\tremaining: 1.9s\n",
            "861:\tlearn: 57614.0480077\ttotal: 1.44s\tremaining: 1.9s\n",
            "862:\tlearn: 57565.2036305\ttotal: 1.44s\tremaining: 1.9s\n",
            "863:\tlearn: 57555.6547411\ttotal: 1.44s\tremaining: 1.9s\n",
            "864:\tlearn: 57497.6449938\ttotal: 1.45s\tremaining: 1.9s\n",
            "865:\tlearn: 57438.2180571\ttotal: 1.45s\tremaining: 1.9s\n",
            "866:\tlearn: 57432.6676178\ttotal: 1.45s\tremaining: 1.9s\n",
            "867:\tlearn: 57403.2428395\ttotal: 1.46s\tremaining: 1.9s\n",
            "868:\tlearn: 57320.1238587\ttotal: 1.46s\tremaining: 1.9s\n",
            "869:\tlearn: 57298.2763135\ttotal: 1.46s\tremaining: 1.9s\n",
            "870:\tlearn: 57249.4828458\ttotal: 1.46s\tremaining: 1.9s\n",
            "871:\tlearn: 57180.0054779\ttotal: 1.47s\tremaining: 1.9s\n",
            "872:\tlearn: 57144.2563891\ttotal: 1.47s\tremaining: 1.9s\n",
            "873:\tlearn: 57122.4302473\ttotal: 1.47s\tremaining: 1.9s\n",
            "874:\tlearn: 57089.0701327\ttotal: 1.47s\tremaining: 1.9s\n",
            "875:\tlearn: 57067.0236328\ttotal: 1.48s\tremaining: 1.9s\n",
            "876:\tlearn: 57044.8506626\ttotal: 1.48s\tremaining: 1.9s\n",
            "877:\tlearn: 57006.6856061\ttotal: 1.48s\tremaining: 1.89s\n",
            "878:\tlearn: 56952.3994887\ttotal: 1.49s\tremaining: 1.89s\n",
            "879:\tlearn: 56885.2811703\ttotal: 1.49s\tremaining: 1.89s\n",
            "880:\tlearn: 56839.0041781\ttotal: 1.49s\tremaining: 1.89s\n",
            "881:\tlearn: 56764.7943646\ttotal: 1.49s\tremaining: 1.89s\n",
            "882:\tlearn: 56687.6438346\ttotal: 1.5s\tremaining: 1.89s\n",
            "883:\tlearn: 56646.0106248\ttotal: 1.5s\tremaining: 1.89s\n",
            "884:\tlearn: 56587.0039690\ttotal: 1.5s\tremaining: 1.89s\n",
            "885:\tlearn: 56531.0539941\ttotal: 1.51s\tremaining: 1.89s\n",
            "886:\tlearn: 56471.1089687\ttotal: 1.51s\tremaining: 1.9s\n",
            "887:\tlearn: 56395.9750892\ttotal: 1.51s\tremaining: 1.9s\n",
            "888:\tlearn: 56309.5507523\ttotal: 1.52s\tremaining: 1.9s\n",
            "889:\tlearn: 56294.6692050\ttotal: 1.52s\tremaining: 1.9s\n",
            "890:\tlearn: 56248.1171096\ttotal: 1.52s\tremaining: 1.9s\n",
            "891:\tlearn: 56175.9386502\ttotal: 1.53s\tremaining: 1.9s\n",
            "892:\tlearn: 56165.3114871\ttotal: 1.53s\tremaining: 1.9s\n",
            "893:\tlearn: 56097.2617438\ttotal: 1.53s\tremaining: 1.9s\n",
            "894:\tlearn: 56031.1399982\ttotal: 1.53s\tremaining: 1.9s\n",
            "895:\tlearn: 56005.2250920\ttotal: 1.54s\tremaining: 1.9s\n",
            "896:\tlearn: 55951.6924811\ttotal: 1.54s\tremaining: 1.9s\n",
            "897:\tlearn: 55900.6582654\ttotal: 1.54s\tremaining: 1.9s\n",
            "898:\tlearn: 55849.9488203\ttotal: 1.55s\tremaining: 1.9s\n",
            "899:\tlearn: 55819.7693812\ttotal: 1.55s\tremaining: 1.89s\n",
            "900:\tlearn: 55718.6994897\ttotal: 1.55s\tremaining: 1.89s\n",
            "901:\tlearn: 55666.6228307\ttotal: 1.56s\tremaining: 1.89s\n",
            "902:\tlearn: 55628.4552900\ttotal: 1.56s\tremaining: 1.89s\n",
            "903:\tlearn: 55580.5129549\ttotal: 1.56s\tremaining: 1.89s\n",
            "904:\tlearn: 55503.5635810\ttotal: 1.56s\tremaining: 1.89s\n",
            "905:\tlearn: 55481.6968706\ttotal: 1.57s\tremaining: 1.89s\n",
            "906:\tlearn: 55444.5066702\ttotal: 1.57s\tremaining: 1.89s\n",
            "907:\tlearn: 55420.8276817\ttotal: 1.57s\tremaining: 1.89s\n",
            "908:\tlearn: 55390.6932124\ttotal: 1.57s\tremaining: 1.89s\n",
            "909:\tlearn: 55337.5564544\ttotal: 1.58s\tremaining: 1.89s\n",
            "910:\tlearn: 55296.0816342\ttotal: 1.58s\tremaining: 1.89s\n",
            "911:\tlearn: 55263.1900919\ttotal: 1.58s\tremaining: 1.89s\n",
            "912:\tlearn: 55219.5210957\ttotal: 1.59s\tremaining: 1.89s\n",
            "913:\tlearn: 55190.9586894\ttotal: 1.59s\tremaining: 1.89s\n",
            "914:\tlearn: 55189.6443327\ttotal: 1.59s\tremaining: 1.89s\n",
            "915:\tlearn: 55151.8410343\ttotal: 1.59s\tremaining: 1.89s\n",
            "916:\tlearn: 55103.9191043\ttotal: 1.6s\tremaining: 1.89s\n",
            "917:\tlearn: 55074.9954161\ttotal: 1.6s\tremaining: 1.89s\n",
            "918:\tlearn: 55017.5940232\ttotal: 1.6s\tremaining: 1.88s\n",
            "919:\tlearn: 54948.2409231\ttotal: 1.6s\tremaining: 1.88s\n",
            "920:\tlearn: 54925.4180043\ttotal: 1.61s\tremaining: 1.88s\n",
            "921:\tlearn: 54902.7192263\ttotal: 1.61s\tremaining: 1.88s\n",
            "922:\tlearn: 54862.1419429\ttotal: 1.61s\tremaining: 1.88s\n",
            "923:\tlearn: 54821.5532373\ttotal: 1.62s\tremaining: 1.88s\n",
            "924:\tlearn: 54766.8798948\ttotal: 1.62s\tremaining: 1.88s\n",
            "925:\tlearn: 54727.0913095\ttotal: 1.62s\tremaining: 1.88s\n",
            "926:\tlearn: 54665.6175073\ttotal: 1.62s\tremaining: 1.88s\n",
            "927:\tlearn: 54637.2805314\ttotal: 1.63s\tremaining: 1.88s\n",
            "928:\tlearn: 54607.5628554\ttotal: 1.63s\tremaining: 1.88s\n",
            "929:\tlearn: 54548.0406128\ttotal: 1.63s\tremaining: 1.88s\n",
            "930:\tlearn: 54507.2666919\ttotal: 1.64s\tremaining: 1.88s\n",
            "931:\tlearn: 54478.5706845\ttotal: 1.64s\tremaining: 1.88s\n",
            "932:\tlearn: 54384.3158293\ttotal: 1.64s\tremaining: 1.88s\n",
            "933:\tlearn: 54360.3330797\ttotal: 1.64s\tremaining: 1.88s\n",
            "934:\tlearn: 54316.6550450\ttotal: 1.65s\tremaining: 1.88s\n",
            "935:\tlearn: 54263.0685208\ttotal: 1.65s\tremaining: 1.87s\n",
            "936:\tlearn: 54212.8479671\ttotal: 1.65s\tremaining: 1.87s\n",
            "937:\tlearn: 54199.5605758\ttotal: 1.65s\tremaining: 1.87s\n",
            "938:\tlearn: 54189.0878130\ttotal: 1.66s\tremaining: 1.87s\n",
            "939:\tlearn: 54099.7144603\ttotal: 1.66s\tremaining: 1.87s\n",
            "940:\tlearn: 54079.5786334\ttotal: 1.66s\tremaining: 1.87s\n",
            "941:\tlearn: 54046.7502800\ttotal: 1.66s\tremaining: 1.87s\n",
            "942:\tlearn: 54033.1555419\ttotal: 1.67s\tremaining: 1.87s\n",
            "943:\tlearn: 53962.7741228\ttotal: 1.67s\tremaining: 1.87s\n",
            "944:\tlearn: 53887.7114281\ttotal: 1.67s\tremaining: 1.87s\n",
            "945:\tlearn: 53839.9928153\ttotal: 1.68s\tremaining: 1.87s\n",
            "946:\tlearn: 53802.1215920\ttotal: 1.68s\tremaining: 1.87s\n",
            "947:\tlearn: 53775.1147531\ttotal: 1.68s\tremaining: 1.86s\n",
            "948:\tlearn: 53721.7724188\ttotal: 1.68s\tremaining: 1.86s\n",
            "949:\tlearn: 53666.5354500\ttotal: 1.69s\tremaining: 1.86s\n",
            "950:\tlearn: 53615.3702129\ttotal: 1.69s\tremaining: 1.86s\n",
            "951:\tlearn: 53567.9771765\ttotal: 1.69s\tremaining: 1.86s\n",
            "952:\tlearn: 53526.4819784\ttotal: 1.7s\tremaining: 1.86s\n",
            "953:\tlearn: 53505.7729632\ttotal: 1.7s\tremaining: 1.86s\n",
            "954:\tlearn: 53477.9531635\ttotal: 1.7s\tremaining: 1.86s\n",
            "955:\tlearn: 53444.3995350\ttotal: 1.71s\tremaining: 1.86s\n",
            "956:\tlearn: 53383.1896782\ttotal: 1.71s\tremaining: 1.86s\n",
            "957:\tlearn: 53343.0977056\ttotal: 1.71s\tremaining: 1.86s\n",
            "958:\tlearn: 53294.2482871\ttotal: 1.71s\tremaining: 1.86s\n",
            "959:\tlearn: 53270.1728700\ttotal: 1.72s\tremaining: 1.86s\n",
            "960:\tlearn: 53246.4443081\ttotal: 1.72s\tremaining: 1.86s\n",
            "961:\tlearn: 53172.4095251\ttotal: 1.72s\tremaining: 1.86s\n",
            "962:\tlearn: 53152.3825449\ttotal: 1.73s\tremaining: 1.86s\n",
            "963:\tlearn: 53150.4881569\ttotal: 1.73s\tremaining: 1.86s\n",
            "964:\tlearn: 53108.5573343\ttotal: 1.73s\tremaining: 1.86s\n",
            "965:\tlearn: 53090.8706577\ttotal: 1.73s\tremaining: 1.85s\n",
            "966:\tlearn: 53054.1652667\ttotal: 1.74s\tremaining: 1.85s\n",
            "967:\tlearn: 53008.5978236\ttotal: 1.74s\tremaining: 1.85s\n",
            "968:\tlearn: 52973.6740377\ttotal: 1.74s\tremaining: 1.85s\n",
            "969:\tlearn: 52939.6716319\ttotal: 1.74s\tremaining: 1.85s\n",
            "970:\tlearn: 52905.6370701\ttotal: 1.75s\tremaining: 1.85s\n",
            "971:\tlearn: 52869.7693474\ttotal: 1.75s\tremaining: 1.85s\n",
            "972:\tlearn: 52747.7325497\ttotal: 1.75s\tremaining: 1.85s\n",
            "973:\tlearn: 52687.6975732\ttotal: 1.75s\tremaining: 1.85s\n",
            "974:\tlearn: 52644.2336100\ttotal: 1.76s\tremaining: 1.85s\n",
            "975:\tlearn: 52594.6606538\ttotal: 1.76s\tremaining: 1.85s\n",
            "976:\tlearn: 52525.5502422\ttotal: 1.76s\tremaining: 1.85s\n",
            "977:\tlearn: 52479.4964931\ttotal: 1.77s\tremaining: 1.84s\n",
            "978:\tlearn: 52454.3955129\ttotal: 1.77s\tremaining: 1.84s\n",
            "979:\tlearn: 52402.0380300\ttotal: 1.77s\tremaining: 1.84s\n",
            "980:\tlearn: 52354.4852738\ttotal: 1.77s\tremaining: 1.84s\n",
            "981:\tlearn: 52342.8426357\ttotal: 1.78s\tremaining: 1.84s\n",
            "982:\tlearn: 52295.5210700\ttotal: 1.78s\tremaining: 1.84s\n",
            "983:\tlearn: 52266.8314858\ttotal: 1.78s\tremaining: 1.84s\n",
            "984:\tlearn: 52261.6407352\ttotal: 1.78s\tremaining: 1.84s\n",
            "985:\tlearn: 52239.4920703\ttotal: 1.79s\tremaining: 1.84s\n",
            "986:\tlearn: 52144.1307824\ttotal: 1.79s\tremaining: 1.84s\n",
            "987:\tlearn: 52098.9861954\ttotal: 1.79s\tremaining: 1.84s\n",
            "988:\tlearn: 52053.1432946\ttotal: 1.79s\tremaining: 1.83s\n",
            "989:\tlearn: 52017.1504699\ttotal: 1.8s\tremaining: 1.83s\n",
            "990:\tlearn: 51975.2735021\ttotal: 1.8s\tremaining: 1.83s\n",
            "991:\tlearn: 51949.2116039\ttotal: 1.8s\tremaining: 1.83s\n",
            "992:\tlearn: 51870.8443226\ttotal: 1.81s\tremaining: 1.83s\n",
            "993:\tlearn: 51811.5677159\ttotal: 1.81s\tremaining: 1.83s\n",
            "994:\tlearn: 51777.3917113\ttotal: 1.81s\tremaining: 1.83s\n",
            "995:\tlearn: 51696.5798574\ttotal: 1.81s\tremaining: 1.83s\n",
            "996:\tlearn: 51655.7617000\ttotal: 1.82s\tremaining: 1.83s\n",
            "997:\tlearn: 51624.7133031\ttotal: 1.82s\tremaining: 1.83s\n",
            "998:\tlearn: 51579.1905143\ttotal: 1.82s\tremaining: 1.82s\n",
            "999:\tlearn: 51544.4415543\ttotal: 1.82s\tremaining: 1.82s\n",
            "1000:\tlearn: 51463.4115941\ttotal: 1.83s\tremaining: 1.82s\n",
            "1001:\tlearn: 51409.6066643\ttotal: 1.83s\tremaining: 1.82s\n",
            "1002:\tlearn: 51408.0544996\ttotal: 1.83s\tremaining: 1.82s\n",
            "1003:\tlearn: 51341.1737946\ttotal: 1.83s\tremaining: 1.82s\n",
            "1004:\tlearn: 51330.1331791\ttotal: 1.84s\tremaining: 1.82s\n",
            "1005:\tlearn: 51288.7685617\ttotal: 1.84s\tremaining: 1.82s\n",
            "1006:\tlearn: 51249.4724776\ttotal: 1.85s\tremaining: 1.82s\n",
            "1007:\tlearn: 51210.0543208\ttotal: 1.85s\tremaining: 1.82s\n",
            "1008:\tlearn: 51184.2817723\ttotal: 1.85s\tremaining: 1.82s\n",
            "1009:\tlearn: 51143.3532542\ttotal: 1.86s\tremaining: 1.82s\n",
            "1010:\tlearn: 51060.0928451\ttotal: 1.86s\tremaining: 1.82s\n",
            "1011:\tlearn: 51019.8195607\ttotal: 1.86s\tremaining: 1.82s\n",
            "1012:\tlearn: 50978.3025635\ttotal: 1.87s\tremaining: 1.82s\n",
            "1013:\tlearn: 50910.3689342\ttotal: 1.87s\tremaining: 1.82s\n",
            "1014:\tlearn: 50867.8308250\ttotal: 1.87s\tremaining: 1.82s\n",
            "1015:\tlearn: 50831.4462487\ttotal: 1.88s\tremaining: 1.82s\n",
            "1016:\tlearn: 50786.6734894\ttotal: 1.88s\tremaining: 1.81s\n",
            "1017:\tlearn: 50749.9350171\ttotal: 1.88s\tremaining: 1.81s\n",
            "1018:\tlearn: 50720.9527575\ttotal: 1.89s\tremaining: 1.81s\n",
            "1019:\tlearn: 50658.9182419\ttotal: 1.89s\tremaining: 1.81s\n",
            "1020:\tlearn: 50604.6730232\ttotal: 1.89s\tremaining: 1.81s\n",
            "1021:\tlearn: 50587.3222674\ttotal: 1.89s\tremaining: 1.81s\n",
            "1022:\tlearn: 50555.3911507\ttotal: 1.9s\tremaining: 1.81s\n",
            "1023:\tlearn: 50493.3877156\ttotal: 1.9s\tremaining: 1.81s\n",
            "1024:\tlearn: 50455.0158538\ttotal: 1.9s\tremaining: 1.81s\n",
            "1025:\tlearn: 50398.1553460\ttotal: 1.91s\tremaining: 1.81s\n",
            "1026:\tlearn: 50346.6309113\ttotal: 1.91s\tremaining: 1.81s\n",
            "1027:\tlearn: 50305.3601639\ttotal: 1.91s\tremaining: 1.81s\n",
            "1028:\tlearn: 50265.5883985\ttotal: 1.92s\tremaining: 1.81s\n",
            "1029:\tlearn: 50241.0003719\ttotal: 1.92s\tremaining: 1.81s\n",
            "1030:\tlearn: 50188.9807532\ttotal: 1.92s\tremaining: 1.8s\n",
            "1031:\tlearn: 50150.3210191\ttotal: 1.92s\tremaining: 1.8s\n",
            "1032:\tlearn: 50111.0970811\ttotal: 1.93s\tremaining: 1.8s\n",
            "1033:\tlearn: 50062.3378889\ttotal: 1.93s\tremaining: 1.8s\n",
            "1034:\tlearn: 50021.1032637\ttotal: 1.93s\tremaining: 1.8s\n",
            "1035:\tlearn: 49991.0060403\ttotal: 1.94s\tremaining: 1.8s\n",
            "1036:\tlearn: 49953.1107576\ttotal: 1.94s\tremaining: 1.8s\n",
            "1037:\tlearn: 49941.8643924\ttotal: 1.94s\tremaining: 1.8s\n",
            "1038:\tlearn: 49906.1898234\ttotal: 1.94s\tremaining: 1.8s\n",
            "1039:\tlearn: 49850.1912223\ttotal: 1.95s\tremaining: 1.8s\n",
            "1040:\tlearn: 49824.9491545\ttotal: 1.95s\tremaining: 1.8s\n",
            "1041:\tlearn: 49775.6942373\ttotal: 1.95s\tremaining: 1.79s\n",
            "1042:\tlearn: 49733.8861208\ttotal: 1.96s\tremaining: 1.79s\n",
            "1043:\tlearn: 49694.9714669\ttotal: 1.96s\tremaining: 1.79s\n",
            "1044:\tlearn: 49650.7007187\ttotal: 1.96s\tremaining: 1.79s\n",
            "1045:\tlearn: 49635.5834443\ttotal: 1.96s\tremaining: 1.79s\n",
            "1046:\tlearn: 49571.9293835\ttotal: 1.97s\tremaining: 1.79s\n",
            "1047:\tlearn: 49541.8405809\ttotal: 1.97s\tremaining: 1.79s\n",
            "1048:\tlearn: 49503.2401789\ttotal: 1.97s\tremaining: 1.79s\n",
            "1049:\tlearn: 49484.4396380\ttotal: 1.98s\tremaining: 1.79s\n",
            "1050:\tlearn: 49469.0249297\ttotal: 1.98s\tremaining: 1.79s\n",
            "1051:\tlearn: 49412.5044383\ttotal: 1.98s\tremaining: 1.79s\n",
            "1052:\tlearn: 49402.6294285\ttotal: 1.99s\tremaining: 1.79s\n",
            "1053:\tlearn: 49363.8910684\ttotal: 1.99s\tremaining: 1.79s\n",
            "1054:\tlearn: 49302.8688126\ttotal: 1.99s\tremaining: 1.78s\n",
            "1055:\tlearn: 49270.0517317\ttotal: 2s\tremaining: 1.78s\n",
            "1056:\tlearn: 49246.9877266\ttotal: 2s\tremaining: 1.78s\n",
            "1057:\tlearn: 49180.5746473\ttotal: 2s\tremaining: 1.78s\n",
            "1058:\tlearn: 49148.4833579\ttotal: 2s\tremaining: 1.78s\n",
            "1059:\tlearn: 49098.3625035\ttotal: 2.01s\tremaining: 1.78s\n",
            "1060:\tlearn: 49091.4584414\ttotal: 2.01s\tremaining: 1.78s\n",
            "1061:\tlearn: 49024.6877885\ttotal: 2.01s\tremaining: 1.78s\n",
            "1062:\tlearn: 48989.7814805\ttotal: 2.02s\tremaining: 1.78s\n",
            "1063:\tlearn: 48954.2952727\ttotal: 2.02s\tremaining: 1.77s\n",
            "1064:\tlearn: 48923.3216804\ttotal: 2.02s\tremaining: 1.77s\n",
            "1065:\tlearn: 48895.7165416\ttotal: 2.02s\tremaining: 1.77s\n",
            "1066:\tlearn: 48858.1167363\ttotal: 2.03s\tremaining: 1.77s\n",
            "1067:\tlearn: 48801.3563330\ttotal: 2.03s\tremaining: 1.77s\n",
            "1068:\tlearn: 48785.5557320\ttotal: 2.03s\tremaining: 1.77s\n",
            "1069:\tlearn: 48724.6150205\ttotal: 2.03s\tremaining: 1.77s\n",
            "1070:\tlearn: 48706.1760668\ttotal: 2.04s\tremaining: 1.77s\n",
            "1071:\tlearn: 48677.6483289\ttotal: 2.04s\tremaining: 1.76s\n",
            "1072:\tlearn: 48648.5260246\ttotal: 2.04s\tremaining: 1.76s\n",
            "1073:\tlearn: 48585.4927585\ttotal: 2.04s\tremaining: 1.76s\n",
            "1074:\tlearn: 48550.5273433\ttotal: 2.05s\tremaining: 1.76s\n",
            "1075:\tlearn: 48530.8502830\ttotal: 2.05s\tremaining: 1.76s\n",
            "1076:\tlearn: 48480.0580170\ttotal: 2.06s\tremaining: 1.76s\n",
            "1077:\tlearn: 48466.9520213\ttotal: 2.06s\tremaining: 1.76s\n",
            "1078:\tlearn: 48446.3184930\ttotal: 2.06s\tremaining: 1.76s\n",
            "1079:\tlearn: 48371.1786244\ttotal: 2.07s\tremaining: 1.76s\n",
            "1080:\tlearn: 48339.4951065\ttotal: 2.07s\tremaining: 1.76s\n",
            "1081:\tlearn: 48298.5876180\ttotal: 2.08s\tremaining: 1.76s\n",
            "1082:\tlearn: 48279.2415800\ttotal: 2.08s\tremaining: 1.76s\n",
            "1083:\tlearn: 48231.5898953\ttotal: 2.08s\tremaining: 1.76s\n",
            "1084:\tlearn: 48187.1936663\ttotal: 2.08s\tremaining: 1.76s\n",
            "1085:\tlearn: 48173.6583467\ttotal: 2.09s\tremaining: 1.76s\n",
            "1086:\tlearn: 48133.1771068\ttotal: 2.09s\tremaining: 1.76s\n",
            "1087:\tlearn: 48118.1955683\ttotal: 2.09s\tremaining: 1.75s\n",
            "1088:\tlearn: 48096.5747713\ttotal: 2.1s\tremaining: 1.75s\n",
            "1089:\tlearn: 48027.4500535\ttotal: 2.1s\tremaining: 1.75s\n",
            "1090:\tlearn: 48009.1393837\ttotal: 2.1s\tremaining: 1.75s\n",
            "1091:\tlearn: 47998.0484205\ttotal: 2.1s\tremaining: 1.75s\n",
            "1092:\tlearn: 47935.5793504\ttotal: 2.11s\tremaining: 1.75s\n",
            "1093:\tlearn: 47862.3540483\ttotal: 2.11s\tremaining: 1.75s\n",
            "1094:\tlearn: 47845.6726580\ttotal: 2.11s\tremaining: 1.75s\n",
            "1095:\tlearn: 47822.6719854\ttotal: 2.11s\tremaining: 1.74s\n",
            "1096:\tlearn: 47787.3092250\ttotal: 2.12s\tremaining: 1.74s\n",
            "1097:\tlearn: 47726.4879816\ttotal: 2.12s\tremaining: 1.74s\n",
            "1098:\tlearn: 47705.4837782\ttotal: 2.12s\tremaining: 1.74s\n",
            "1099:\tlearn: 47690.7337802\ttotal: 2.13s\tremaining: 1.74s\n",
            "1100:\tlearn: 47614.5837074\ttotal: 2.13s\tremaining: 1.74s\n",
            "1101:\tlearn: 47589.8841856\ttotal: 2.13s\tremaining: 1.74s\n",
            "1102:\tlearn: 47554.2205735\ttotal: 2.13s\tremaining: 1.73s\n",
            "1103:\tlearn: 47521.7960470\ttotal: 2.14s\tremaining: 1.73s\n",
            "1104:\tlearn: 47488.6983758\ttotal: 2.14s\tremaining: 1.73s\n",
            "1105:\tlearn: 47429.1673818\ttotal: 2.14s\tremaining: 1.73s\n",
            "1106:\tlearn: 47412.2649475\ttotal: 2.14s\tremaining: 1.73s\n",
            "1107:\tlearn: 47354.6741742\ttotal: 2.15s\tremaining: 1.73s\n",
            "1108:\tlearn: 47315.8418309\ttotal: 2.15s\tremaining: 1.73s\n",
            "1109:\tlearn: 47307.6140899\ttotal: 2.15s\tremaining: 1.73s\n",
            "1110:\tlearn: 47259.7090913\ttotal: 2.15s\tremaining: 1.72s\n",
            "1111:\tlearn: 47211.1221740\ttotal: 2.16s\tremaining: 1.72s\n",
            "1112:\tlearn: 47183.0340749\ttotal: 2.16s\tremaining: 1.72s\n",
            "1113:\tlearn: 47167.4404051\ttotal: 2.16s\tremaining: 1.72s\n",
            "1114:\tlearn: 47120.6540147\ttotal: 2.17s\tremaining: 1.72s\n",
            "1115:\tlearn: 47057.6944560\ttotal: 2.17s\tremaining: 1.72s\n",
            "1116:\tlearn: 47022.4296364\ttotal: 2.17s\tremaining: 1.72s\n",
            "1117:\tlearn: 46986.9650128\ttotal: 2.17s\tremaining: 1.72s\n",
            "1118:\tlearn: 46944.3476676\ttotal: 2.18s\tremaining: 1.71s\n",
            "1119:\tlearn: 46920.4773241\ttotal: 2.18s\tremaining: 1.71s\n",
            "1120:\tlearn: 46883.7969487\ttotal: 2.18s\tremaining: 1.71s\n",
            "1121:\tlearn: 46859.3824103\ttotal: 2.18s\tremaining: 1.71s\n",
            "1122:\tlearn: 46827.8659760\ttotal: 2.19s\tremaining: 1.71s\n",
            "1123:\tlearn: 46795.9317280\ttotal: 2.19s\tremaining: 1.71s\n",
            "1124:\tlearn: 46743.1694094\ttotal: 2.19s\tremaining: 1.71s\n",
            "1125:\tlearn: 46716.1932272\ttotal: 2.19s\tremaining: 1.7s\n",
            "1126:\tlearn: 46702.2063283\ttotal: 2.2s\tremaining: 1.7s\n",
            "1127:\tlearn: 46666.4179000\ttotal: 2.2s\tremaining: 1.7s\n",
            "1128:\tlearn: 46626.1258877\ttotal: 2.2s\tremaining: 1.7s\n",
            "1129:\tlearn: 46587.9187211\ttotal: 2.21s\tremaining: 1.7s\n",
            "1130:\tlearn: 46546.3036100\ttotal: 2.21s\tremaining: 1.7s\n",
            "1131:\tlearn: 46532.1836373\ttotal: 2.21s\tremaining: 1.7s\n",
            "1132:\tlearn: 46482.4746156\ttotal: 2.21s\tremaining: 1.69s\n",
            "1133:\tlearn: 46437.2524613\ttotal: 2.22s\tremaining: 1.69s\n",
            "1134:\tlearn: 46434.6446796\ttotal: 2.22s\tremaining: 1.69s\n",
            "1135:\tlearn: 46401.4248346\ttotal: 2.22s\tremaining: 1.69s\n",
            "1136:\tlearn: 46395.9427731\ttotal: 2.23s\tremaining: 1.69s\n",
            "1137:\tlearn: 46360.7542650\ttotal: 2.23s\tremaining: 1.69s\n",
            "1138:\tlearn: 46323.1463008\ttotal: 2.23s\tremaining: 1.69s\n",
            "1139:\tlearn: 46287.3124289\ttotal: 2.23s\tremaining: 1.69s\n",
            "1140:\tlearn: 46253.0489101\ttotal: 2.24s\tremaining: 1.68s\n",
            "1141:\tlearn: 46204.9849799\ttotal: 2.24s\tremaining: 1.68s\n",
            "1142:\tlearn: 46155.7075686\ttotal: 2.24s\tremaining: 1.68s\n",
            "1143:\tlearn: 46104.2820037\ttotal: 2.24s\tremaining: 1.68s\n",
            "1144:\tlearn: 46048.9168446\ttotal: 2.25s\tremaining: 1.68s\n",
            "1145:\tlearn: 46018.3819152\ttotal: 2.25s\tremaining: 1.68s\n",
            "1146:\tlearn: 45982.5437611\ttotal: 2.25s\tremaining: 1.67s\n",
            "1147:\tlearn: 45975.4337663\ttotal: 2.25s\tremaining: 1.67s\n",
            "1148:\tlearn: 45923.0253967\ttotal: 2.26s\tremaining: 1.67s\n",
            "1149:\tlearn: 45915.8346331\ttotal: 2.26s\tremaining: 1.67s\n",
            "1150:\tlearn: 45854.8106654\ttotal: 2.26s\tremaining: 1.67s\n",
            "1151:\tlearn: 45818.8353344\ttotal: 2.26s\tremaining: 1.67s\n",
            "1152:\tlearn: 45775.8567972\ttotal: 2.27s\tremaining: 1.67s\n",
            "1153:\tlearn: 45748.3684757\ttotal: 2.27s\tremaining: 1.66s\n",
            "1154:\tlearn: 45734.9723937\ttotal: 2.27s\tremaining: 1.66s\n",
            "1155:\tlearn: 45680.8564280\ttotal: 2.27s\tremaining: 1.66s\n",
            "1156:\tlearn: 45677.7141735\ttotal: 2.28s\tremaining: 1.66s\n",
            "1157:\tlearn: 45639.1692774\ttotal: 2.28s\tremaining: 1.66s\n",
            "1158:\tlearn: 45590.5232317\ttotal: 2.28s\tremaining: 1.66s\n",
            "1159:\tlearn: 45570.8140696\ttotal: 2.29s\tremaining: 1.66s\n",
            "1160:\tlearn: 45542.8698000\ttotal: 2.29s\tremaining: 1.65s\n",
            "1161:\tlearn: 45516.2001717\ttotal: 2.29s\tremaining: 1.65s\n",
            "1162:\tlearn: 45498.7660929\ttotal: 2.29s\tremaining: 1.65s\n",
            "1163:\tlearn: 45460.5536382\ttotal: 2.3s\tremaining: 1.65s\n",
            "1164:\tlearn: 45453.6978353\ttotal: 2.3s\tremaining: 1.65s\n",
            "1165:\tlearn: 45413.6528660\ttotal: 2.3s\tremaining: 1.65s\n",
            "1166:\tlearn: 45397.1998675\ttotal: 2.3s\tremaining: 1.65s\n",
            "1167:\tlearn: 45331.4710308\ttotal: 2.31s\tremaining: 1.64s\n",
            "1168:\tlearn: 45300.4615198\ttotal: 2.31s\tremaining: 1.64s\n",
            "1169:\tlearn: 45250.9988108\ttotal: 2.31s\tremaining: 1.64s\n",
            "1170:\tlearn: 45247.1653121\ttotal: 2.31s\tremaining: 1.64s\n",
            "1171:\tlearn: 45205.4942059\ttotal: 2.32s\tremaining: 1.64s\n",
            "1172:\tlearn: 45179.2883063\ttotal: 2.32s\tremaining: 1.64s\n",
            "1173:\tlearn: 45171.5909852\ttotal: 2.32s\tremaining: 1.63s\n",
            "1174:\tlearn: 45147.8398912\ttotal: 2.33s\tremaining: 1.63s\n",
            "1175:\tlearn: 45092.2147986\ttotal: 2.33s\tremaining: 1.63s\n",
            "1176:\tlearn: 45048.1535950\ttotal: 2.33s\tremaining: 1.63s\n",
            "1177:\tlearn: 45011.7654979\ttotal: 2.33s\tremaining: 1.63s\n",
            "1178:\tlearn: 44990.3646559\ttotal: 2.34s\tremaining: 1.63s\n",
            "1179:\tlearn: 44962.0758748\ttotal: 2.34s\tremaining: 1.63s\n",
            "1180:\tlearn: 44933.4573985\ttotal: 2.34s\tremaining: 1.62s\n",
            "1181:\tlearn: 44858.8705946\ttotal: 2.34s\tremaining: 1.62s\n",
            "1182:\tlearn: 44802.8483604\ttotal: 2.35s\tremaining: 1.62s\n",
            "1183:\tlearn: 44797.9522452\ttotal: 2.35s\tremaining: 1.62s\n",
            "1184:\tlearn: 44761.2920399\ttotal: 2.35s\tremaining: 1.62s\n",
            "1185:\tlearn: 44731.3939231\ttotal: 2.36s\tremaining: 1.62s\n",
            "1186:\tlearn: 44687.2053030\ttotal: 2.36s\tremaining: 1.62s\n",
            "1187:\tlearn: 44667.7066952\ttotal: 2.37s\tremaining: 1.62s\n",
            "1188:\tlearn: 44621.6208697\ttotal: 2.37s\tremaining: 1.61s\n",
            "1189:\tlearn: 44610.3929805\ttotal: 2.37s\tremaining: 1.61s\n",
            "1190:\tlearn: 44581.0203451\ttotal: 2.37s\tremaining: 1.61s\n",
            "1191:\tlearn: 44537.1372804\ttotal: 2.38s\tremaining: 1.61s\n",
            "1192:\tlearn: 44495.4030243\ttotal: 2.38s\tremaining: 1.61s\n",
            "1193:\tlearn: 44459.0122276\ttotal: 2.38s\tremaining: 1.61s\n",
            "1194:\tlearn: 44437.8057305\ttotal: 2.38s\tremaining: 1.6s\n",
            "1195:\tlearn: 44423.2841987\ttotal: 2.39s\tremaining: 1.6s\n",
            "1196:\tlearn: 44421.7328444\ttotal: 2.39s\tremaining: 1.6s\n",
            "1197:\tlearn: 44350.4772543\ttotal: 2.39s\tremaining: 1.6s\n",
            "1198:\tlearn: 44316.9069501\ttotal: 2.39s\tremaining: 1.6s\n",
            "1199:\tlearn: 44255.9591750\ttotal: 2.4s\tremaining: 1.6s\n",
            "1200:\tlearn: 44221.0763408\ttotal: 2.4s\tremaining: 1.6s\n",
            "1201:\tlearn: 44155.0540927\ttotal: 2.4s\tremaining: 1.6s\n",
            "1202:\tlearn: 44105.0878882\ttotal: 2.41s\tremaining: 1.59s\n",
            "1203:\tlearn: 44094.6124033\ttotal: 2.41s\tremaining: 1.59s\n",
            "1204:\tlearn: 44045.5710822\ttotal: 2.41s\tremaining: 1.59s\n",
            "1205:\tlearn: 43991.6117080\ttotal: 2.42s\tremaining: 1.59s\n",
            "1206:\tlearn: 43954.6824967\ttotal: 2.42s\tremaining: 1.59s\n",
            "1207:\tlearn: 43898.6293697\ttotal: 2.42s\tremaining: 1.59s\n",
            "1208:\tlearn: 43857.2044928\ttotal: 2.42s\tremaining: 1.58s\n",
            "1209:\tlearn: 43833.3636964\ttotal: 2.43s\tremaining: 1.58s\n",
            "1210:\tlearn: 43800.2354317\ttotal: 2.43s\tremaining: 1.58s\n",
            "1211:\tlearn: 43775.1875711\ttotal: 2.43s\tremaining: 1.58s\n",
            "1212:\tlearn: 43742.6377399\ttotal: 2.43s\tremaining: 1.58s\n",
            "1213:\tlearn: 43712.7193370\ttotal: 2.44s\tremaining: 1.58s\n",
            "1214:\tlearn: 43692.2620522\ttotal: 2.44s\tremaining: 1.58s\n",
            "1215:\tlearn: 43655.9778225\ttotal: 2.44s\tremaining: 1.57s\n",
            "1216:\tlearn: 43610.3859043\ttotal: 2.44s\tremaining: 1.57s\n",
            "1217:\tlearn: 43580.9217027\ttotal: 2.45s\tremaining: 1.57s\n",
            "1218:\tlearn: 43553.3878726\ttotal: 2.45s\tremaining: 1.57s\n",
            "1219:\tlearn: 43511.7319586\ttotal: 2.45s\tremaining: 1.57s\n",
            "1220:\tlearn: 43498.2421432\ttotal: 2.46s\tremaining: 1.57s\n",
            "1221:\tlearn: 43421.3004949\ttotal: 2.46s\tremaining: 1.56s\n",
            "1222:\tlearn: 43389.1737616\ttotal: 2.46s\tremaining: 1.56s\n",
            "1223:\tlearn: 43342.7731060\ttotal: 2.46s\tremaining: 1.56s\n",
            "1224:\tlearn: 43314.4135703\ttotal: 2.47s\tremaining: 1.56s\n",
            "1225:\tlearn: 43296.0476272\ttotal: 2.47s\tremaining: 1.56s\n",
            "1226:\tlearn: 43250.2505291\ttotal: 2.47s\tremaining: 1.56s\n",
            "1227:\tlearn: 43203.7283664\ttotal: 2.47s\tremaining: 1.55s\n",
            "1228:\tlearn: 43178.1312567\ttotal: 2.48s\tremaining: 1.55s\n",
            "1229:\tlearn: 43156.8728356\ttotal: 2.48s\tremaining: 1.55s\n",
            "1230:\tlearn: 43144.7971819\ttotal: 2.48s\tremaining: 1.55s\n",
            "1231:\tlearn: 43128.9837207\ttotal: 2.49s\tremaining: 1.55s\n",
            "1232:\tlearn: 43089.8304263\ttotal: 2.49s\tremaining: 1.55s\n",
            "1233:\tlearn: 43071.9897877\ttotal: 2.49s\tremaining: 1.55s\n",
            "1234:\tlearn: 43059.0499304\ttotal: 2.5s\tremaining: 1.54s\n",
            "1235:\tlearn: 43045.1884201\ttotal: 2.5s\tremaining: 1.54s\n",
            "1236:\tlearn: 43008.0287876\ttotal: 2.5s\tremaining: 1.54s\n",
            "1237:\tlearn: 42979.0035196\ttotal: 2.5s\tremaining: 1.54s\n",
            "1238:\tlearn: 42944.7299733\ttotal: 2.51s\tremaining: 1.54s\n",
            "1239:\tlearn: 42900.7592759\ttotal: 2.51s\tremaining: 1.54s\n",
            "1240:\tlearn: 42847.0914374\ttotal: 2.51s\tremaining: 1.53s\n",
            "1241:\tlearn: 42814.6366836\ttotal: 2.51s\tremaining: 1.53s\n",
            "1242:\tlearn: 42787.1263721\ttotal: 2.52s\tremaining: 1.53s\n",
            "1243:\tlearn: 42767.5973751\ttotal: 2.52s\tremaining: 1.53s\n",
            "1244:\tlearn: 42740.7590434\ttotal: 2.52s\tremaining: 1.53s\n",
            "1245:\tlearn: 42707.9489697\ttotal: 2.52s\tremaining: 1.53s\n",
            "1246:\tlearn: 42687.9929007\ttotal: 2.53s\tremaining: 1.53s\n",
            "1247:\tlearn: 42661.6256783\ttotal: 2.53s\tremaining: 1.52s\n",
            "1248:\tlearn: 42624.9343758\ttotal: 2.53s\tremaining: 1.52s\n",
            "1249:\tlearn: 42581.2314251\ttotal: 2.54s\tremaining: 1.52s\n",
            "1250:\tlearn: 42538.4195345\ttotal: 2.54s\tremaining: 1.52s\n",
            "1251:\tlearn: 42505.1257321\ttotal: 2.54s\tremaining: 1.52s\n",
            "1252:\tlearn: 42472.2370711\ttotal: 2.54s\tremaining: 1.52s\n",
            "1253:\tlearn: 42439.4366281\ttotal: 2.55s\tremaining: 1.51s\n",
            "1254:\tlearn: 42403.6796091\ttotal: 2.55s\tremaining: 1.51s\n",
            "1255:\tlearn: 42356.9263596\ttotal: 2.55s\tremaining: 1.51s\n",
            "1256:\tlearn: 42336.3220213\ttotal: 2.55s\tremaining: 1.51s\n",
            "1257:\tlearn: 42271.3434650\ttotal: 2.56s\tremaining: 1.51s\n",
            "1258:\tlearn: 42256.5082547\ttotal: 2.56s\tremaining: 1.51s\n",
            "1259:\tlearn: 42255.5470791\ttotal: 2.56s\tremaining: 1.5s\n",
            "1260:\tlearn: 42245.2877401\ttotal: 2.56s\tremaining: 1.5s\n",
            "1261:\tlearn: 42193.4114111\ttotal: 2.57s\tremaining: 1.5s\n",
            "1262:\tlearn: 42166.9390129\ttotal: 2.57s\tremaining: 1.5s\n",
            "1263:\tlearn: 42132.8733236\ttotal: 2.57s\tremaining: 1.5s\n",
            "1264:\tlearn: 42081.5883701\ttotal: 2.58s\tremaining: 1.5s\n",
            "1265:\tlearn: 42064.7729735\ttotal: 2.58s\tremaining: 1.5s\n",
            "1266:\tlearn: 42029.5251523\ttotal: 2.58s\tremaining: 1.49s\n",
            "1267:\tlearn: 41997.4888925\ttotal: 2.58s\tremaining: 1.49s\n",
            "1268:\tlearn: 41989.2622913\ttotal: 2.59s\tremaining: 1.49s\n",
            "1269:\tlearn: 41945.9921142\ttotal: 2.59s\tremaining: 1.49s\n",
            "1270:\tlearn: 41927.6383861\ttotal: 2.6s\tremaining: 1.49s\n",
            "1271:\tlearn: 41891.7605121\ttotal: 2.6s\tremaining: 1.49s\n",
            "1272:\tlearn: 41875.6877680\ttotal: 2.6s\tremaining: 1.49s\n",
            "1273:\tlearn: 41844.1952955\ttotal: 2.6s\tremaining: 1.48s\n",
            "1274:\tlearn: 41802.3970769\ttotal: 2.61s\tremaining: 1.48s\n",
            "1275:\tlearn: 41755.5720387\ttotal: 2.61s\tremaining: 1.48s\n",
            "1276:\tlearn: 41729.8436843\ttotal: 2.61s\tremaining: 1.48s\n",
            "1277:\tlearn: 41703.1423629\ttotal: 2.61s\tremaining: 1.48s\n",
            "1278:\tlearn: 41683.2755843\ttotal: 2.62s\tremaining: 1.48s\n",
            "1279:\tlearn: 41605.9906976\ttotal: 2.62s\tremaining: 1.47s\n",
            "1280:\tlearn: 41536.3554111\ttotal: 2.62s\tremaining: 1.47s\n",
            "1281:\tlearn: 41494.4079002\ttotal: 2.62s\tremaining: 1.47s\n",
            "1282:\tlearn: 41455.6726519\ttotal: 2.63s\tremaining: 1.47s\n",
            "1283:\tlearn: 41449.5876812\ttotal: 2.63s\tremaining: 1.47s\n",
            "1284:\tlearn: 41422.0688347\ttotal: 2.63s\tremaining: 1.47s\n",
            "1285:\tlearn: 41414.3003620\ttotal: 2.63s\tremaining: 1.46s\n",
            "1286:\tlearn: 41390.8687892\ttotal: 2.64s\tremaining: 1.46s\n",
            "1287:\tlearn: 41369.6320706\ttotal: 2.64s\tremaining: 1.46s\n",
            "1288:\tlearn: 41345.7935406\ttotal: 2.64s\tremaining: 1.46s\n",
            "1289:\tlearn: 41336.6988721\ttotal: 2.65s\tremaining: 1.46s\n",
            "1290:\tlearn: 41309.9502071\ttotal: 2.65s\tremaining: 1.45s\n",
            "1291:\tlearn: 41278.5844157\ttotal: 2.65s\tremaining: 1.45s\n",
            "1292:\tlearn: 41224.6542440\ttotal: 2.65s\tremaining: 1.45s\n",
            "1293:\tlearn: 41180.8185606\ttotal: 2.66s\tremaining: 1.45s\n",
            "1294:\tlearn: 41116.7426928\ttotal: 2.66s\tremaining: 1.45s\n",
            "1295:\tlearn: 41082.3466874\ttotal: 2.66s\tremaining: 1.45s\n",
            "1296:\tlearn: 41047.1143688\ttotal: 2.67s\tremaining: 1.44s\n",
            "1297:\tlearn: 41003.7731209\ttotal: 2.67s\tremaining: 1.44s\n",
            "1298:\tlearn: 40960.5681911\ttotal: 2.67s\tremaining: 1.44s\n",
            "1299:\tlearn: 40917.3653161\ttotal: 2.67s\tremaining: 1.44s\n",
            "1300:\tlearn: 40885.4545452\ttotal: 2.68s\tremaining: 1.44s\n",
            "1301:\tlearn: 40834.6182956\ttotal: 2.68s\tremaining: 1.44s\n",
            "1302:\tlearn: 40812.8826338\ttotal: 2.68s\tremaining: 1.43s\n",
            "1303:\tlearn: 40795.2853836\ttotal: 2.68s\tremaining: 1.43s\n",
            "1304:\tlearn: 40770.8412407\ttotal: 2.69s\tremaining: 1.43s\n",
            "1305:\tlearn: 40720.5669940\ttotal: 2.69s\tremaining: 1.43s\n",
            "1306:\tlearn: 40679.5085539\ttotal: 2.69s\tremaining: 1.43s\n",
            "1307:\tlearn: 40642.4831286\ttotal: 2.69s\tremaining: 1.43s\n",
            "1308:\tlearn: 40638.5423377\ttotal: 2.7s\tremaining: 1.42s\n",
            "1309:\tlearn: 40594.4980608\ttotal: 2.7s\tremaining: 1.42s\n",
            "1310:\tlearn: 40531.4429701\ttotal: 2.7s\tremaining: 1.42s\n",
            "1311:\tlearn: 40493.3002405\ttotal: 2.71s\tremaining: 1.42s\n",
            "1312:\tlearn: 40467.4866096\ttotal: 2.71s\tremaining: 1.42s\n",
            "1313:\tlearn: 40431.7725709\ttotal: 2.71s\tremaining: 1.42s\n",
            "1314:\tlearn: 40412.0925560\ttotal: 2.71s\tremaining: 1.41s\n",
            "1315:\tlearn: 40392.4304651\ttotal: 2.72s\tremaining: 1.41s\n",
            "1316:\tlearn: 40368.6215083\ttotal: 2.72s\tremaining: 1.41s\n",
            "1317:\tlearn: 40351.7357746\ttotal: 2.72s\tremaining: 1.41s\n",
            "1318:\tlearn: 40315.6733806\ttotal: 2.72s\tremaining: 1.41s\n",
            "1319:\tlearn: 40286.5650204\ttotal: 2.73s\tremaining: 1.4s\n",
            "1320:\tlearn: 40272.2705650\ttotal: 2.73s\tremaining: 1.4s\n",
            "1321:\tlearn: 40253.0827445\ttotal: 2.73s\tremaining: 1.4s\n",
            "1322:\tlearn: 40219.8089608\ttotal: 2.73s\tremaining: 1.4s\n",
            "1323:\tlearn: 40185.2699606\ttotal: 2.74s\tremaining: 1.4s\n",
            "1324:\tlearn: 40157.4072912\ttotal: 2.74s\tremaining: 1.4s\n",
            "1325:\tlearn: 40125.1119668\ttotal: 2.74s\tremaining: 1.39s\n",
            "1326:\tlearn: 40084.3784224\ttotal: 2.75s\tremaining: 1.39s\n",
            "1327:\tlearn: 40058.4595641\ttotal: 2.75s\tremaining: 1.39s\n",
            "1328:\tlearn: 40013.4396520\ttotal: 2.75s\tremaining: 1.39s\n",
            "1329:\tlearn: 39976.2719081\ttotal: 2.75s\tremaining: 1.39s\n",
            "1330:\tlearn: 39959.5651343\ttotal: 2.76s\tremaining: 1.39s\n",
            "1331:\tlearn: 39943.8483770\ttotal: 2.76s\tremaining: 1.38s\n",
            "1332:\tlearn: 39927.0865979\ttotal: 2.76s\tremaining: 1.38s\n",
            "1333:\tlearn: 39904.5106530\ttotal: 2.76s\tremaining: 1.38s\n",
            "1334:\tlearn: 39878.9996011\ttotal: 2.77s\tremaining: 1.38s\n",
            "1335:\tlearn: 39861.2809913\ttotal: 2.77s\tremaining: 1.38s\n",
            "1336:\tlearn: 39811.4114631\ttotal: 2.77s\tremaining: 1.38s\n",
            "1337:\tlearn: 39785.6472301\ttotal: 2.77s\tremaining: 1.37s\n",
            "1338:\tlearn: 39765.7315138\ttotal: 2.78s\tremaining: 1.37s\n",
            "1339:\tlearn: 39759.0139122\ttotal: 2.78s\tremaining: 1.37s\n",
            "1340:\tlearn: 39730.7044287\ttotal: 2.78s\tremaining: 1.37s\n",
            "1341:\tlearn: 39705.6988310\ttotal: 2.79s\tremaining: 1.37s\n",
            "1342:\tlearn: 39683.2277020\ttotal: 2.79s\tremaining: 1.36s\n",
            "1343:\tlearn: 39636.5203388\ttotal: 2.79s\tremaining: 1.36s\n",
            "1344:\tlearn: 39600.1705082\ttotal: 2.8s\tremaining: 1.36s\n",
            "1345:\tlearn: 39561.8580510\ttotal: 2.8s\tremaining: 1.36s\n",
            "1346:\tlearn: 39542.9656167\ttotal: 2.8s\tremaining: 1.36s\n",
            "1347:\tlearn: 39496.7695066\ttotal: 2.81s\tremaining: 1.36s\n",
            "1348:\tlearn: 39469.2950730\ttotal: 2.81s\tremaining: 1.35s\n",
            "1349:\tlearn: 39425.0582715\ttotal: 2.81s\tremaining: 1.35s\n",
            "1350:\tlearn: 39401.0264086\ttotal: 2.81s\tremaining: 1.35s\n",
            "1351:\tlearn: 39359.3511216\ttotal: 2.82s\tremaining: 1.35s\n",
            "1352:\tlearn: 39329.7350773\ttotal: 2.82s\tremaining: 1.35s\n",
            "1353:\tlearn: 39307.4804877\ttotal: 2.82s\tremaining: 1.35s\n",
            "1354:\tlearn: 39283.7472268\ttotal: 2.82s\tremaining: 1.34s\n",
            "1355:\tlearn: 39262.4994530\ttotal: 2.83s\tremaining: 1.34s\n",
            "1356:\tlearn: 39233.4795986\ttotal: 2.83s\tremaining: 1.34s\n",
            "1357:\tlearn: 39202.8363772\ttotal: 2.83s\tremaining: 1.34s\n",
            "1358:\tlearn: 39156.5681813\ttotal: 2.83s\tremaining: 1.34s\n",
            "1359:\tlearn: 39138.7908770\ttotal: 2.84s\tremaining: 1.33s\n",
            "1360:\tlearn: 39101.9581347\ttotal: 2.84s\tremaining: 1.33s\n",
            "1361:\tlearn: 39079.1546738\ttotal: 2.84s\tremaining: 1.33s\n",
            "1362:\tlearn: 39061.2453301\ttotal: 2.85s\tremaining: 1.33s\n",
            "1363:\tlearn: 39048.9573935\ttotal: 2.85s\tremaining: 1.33s\n",
            "1364:\tlearn: 39021.8427006\ttotal: 2.85s\tremaining: 1.33s\n",
            "1365:\tlearn: 38970.9101250\ttotal: 2.85s\tremaining: 1.32s\n",
            "1366:\tlearn: 38931.8385406\ttotal: 2.86s\tremaining: 1.32s\n",
            "1367:\tlearn: 38920.2259195\ttotal: 2.86s\tremaining: 1.32s\n",
            "1368:\tlearn: 38867.1078316\ttotal: 2.86s\tremaining: 1.32s\n",
            "1369:\tlearn: 38839.2333224\ttotal: 2.87s\tremaining: 1.32s\n",
            "1370:\tlearn: 38817.9106500\ttotal: 2.87s\tremaining: 1.31s\n",
            "1371:\tlearn: 38813.5887841\ttotal: 2.87s\tremaining: 1.31s\n",
            "1372:\tlearn: 38781.9499228\ttotal: 2.87s\tremaining: 1.31s\n",
            "1373:\tlearn: 38751.8721089\ttotal: 2.88s\tremaining: 1.31s\n",
            "1374:\tlearn: 38731.6257447\ttotal: 2.88s\tremaining: 1.31s\n",
            "1375:\tlearn: 38711.4091227\ttotal: 2.88s\tremaining: 1.31s\n",
            "1376:\tlearn: 38677.8741964\ttotal: 2.88s\tremaining: 1.3s\n",
            "1377:\tlearn: 38671.2888308\ttotal: 2.89s\tremaining: 1.3s\n",
            "1378:\tlearn: 38658.5314999\ttotal: 2.89s\tremaining: 1.3s\n",
            "1379:\tlearn: 38633.8010130\ttotal: 2.89s\tremaining: 1.3s\n",
            "1380:\tlearn: 38584.2530149\ttotal: 2.89s\tremaining: 1.3s\n",
            "1381:\tlearn: 38566.0436302\ttotal: 2.9s\tremaining: 1.29s\n",
            "1382:\tlearn: 38552.5577337\ttotal: 2.9s\tremaining: 1.29s\n",
            "1383:\tlearn: 38526.3300619\ttotal: 2.9s\tremaining: 1.29s\n",
            "1384:\tlearn: 38517.7250079\ttotal: 2.9s\tremaining: 1.29s\n",
            "1385:\tlearn: 38485.1385316\ttotal: 2.91s\tremaining: 1.29s\n",
            "1386:\tlearn: 38457.0557097\ttotal: 2.91s\tremaining: 1.28s\n",
            "1387:\tlearn: 38421.6018373\ttotal: 2.91s\tremaining: 1.28s\n",
            "1388:\tlearn: 38400.6527835\ttotal: 2.92s\tremaining: 1.28s\n",
            "1389:\tlearn: 38378.0610212\ttotal: 2.92s\tremaining: 1.28s\n",
            "1390:\tlearn: 38366.9189841\ttotal: 2.92s\tremaining: 1.28s\n",
            "1391:\tlearn: 38350.9349632\ttotal: 2.92s\tremaining: 1.28s\n",
            "1392:\tlearn: 38342.3193705\ttotal: 2.92s\tremaining: 1.27s\n",
            "1393:\tlearn: 38331.2142164\ttotal: 2.93s\tremaining: 1.27s\n",
            "1394:\tlearn: 38288.2613765\ttotal: 2.93s\tremaining: 1.27s\n",
            "1395:\tlearn: 38246.8554431\ttotal: 2.93s\tremaining: 1.27s\n",
            "1396:\tlearn: 38207.3288051\ttotal: 2.94s\tremaining: 1.27s\n",
            "1397:\tlearn: 38184.4113148\ttotal: 2.94s\tremaining: 1.27s\n",
            "1398:\tlearn: 38155.8327087\ttotal: 2.94s\tremaining: 1.26s\n",
            "1399:\tlearn: 38132.0971678\ttotal: 2.95s\tremaining: 1.26s\n",
            "1400:\tlearn: 38100.9060464\ttotal: 2.95s\tremaining: 1.26s\n",
            "1401:\tlearn: 38058.5307432\ttotal: 2.95s\tremaining: 1.26s\n",
            "1402:\tlearn: 38022.1677284\ttotal: 2.96s\tremaining: 1.26s\n",
            "1403:\tlearn: 38000.3982581\ttotal: 2.96s\tremaining: 1.25s\n",
            "1404:\tlearn: 37966.5566935\ttotal: 2.96s\tremaining: 1.25s\n",
            "1405:\tlearn: 37951.3830502\ttotal: 2.96s\tremaining: 1.25s\n",
            "1406:\tlearn: 37924.2328463\ttotal: 2.97s\tremaining: 1.25s\n",
            "1407:\tlearn: 37894.5827891\ttotal: 2.97s\tremaining: 1.25s\n",
            "1408:\tlearn: 37860.1689614\ttotal: 2.97s\tremaining: 1.25s\n",
            "1409:\tlearn: 37833.9192664\ttotal: 2.98s\tremaining: 1.24s\n",
            "1410:\tlearn: 37814.3588076\ttotal: 2.98s\tremaining: 1.24s\n",
            "1411:\tlearn: 37810.8652020\ttotal: 2.98s\tremaining: 1.24s\n",
            "1412:\tlearn: 37778.0064191\ttotal: 2.98s\tremaining: 1.24s\n",
            "1413:\tlearn: 37750.8740195\ttotal: 2.99s\tremaining: 1.24s\n",
            "1414:\tlearn: 37711.7650314\ttotal: 2.99s\tremaining: 1.24s\n",
            "1415:\tlearn: 37711.0054763\ttotal: 2.99s\tremaining: 1.23s\n",
            "1416:\tlearn: 37664.0400873\ttotal: 3s\tremaining: 1.23s\n",
            "1417:\tlearn: 37652.0931692\ttotal: 3s\tremaining: 1.23s\n",
            "1418:\tlearn: 37598.2749600\ttotal: 3s\tremaining: 1.23s\n",
            "1419:\tlearn: 37552.0464851\ttotal: 3s\tremaining: 1.23s\n",
            "1420:\tlearn: 37538.9308010\ttotal: 3.01s\tremaining: 1.23s\n",
            "1421:\tlearn: 37537.5705990\ttotal: 3.01s\tremaining: 1.22s\n",
            "1422:\tlearn: 37518.7791847\ttotal: 3.01s\tremaining: 1.22s\n",
            "1423:\tlearn: 37505.4781107\ttotal: 3.02s\tremaining: 1.22s\n",
            "1424:\tlearn: 37500.5180443\ttotal: 3.02s\tremaining: 1.22s\n",
            "1425:\tlearn: 37465.0784725\ttotal: 3.02s\tremaining: 1.22s\n",
            "1426:\tlearn: 37445.1257520\ttotal: 3.02s\tremaining: 1.21s\n",
            "1427:\tlearn: 37428.3630985\ttotal: 3.03s\tremaining: 1.21s\n",
            "1428:\tlearn: 37391.4345652\ttotal: 3.03s\tremaining: 1.21s\n",
            "1429:\tlearn: 37376.6719062\ttotal: 3.03s\tremaining: 1.21s\n",
            "1430:\tlearn: 37342.1464062\ttotal: 3.04s\tremaining: 1.21s\n",
            "1431:\tlearn: 37311.5963163\ttotal: 3.04s\tremaining: 1.21s\n",
            "1432:\tlearn: 37289.4609291\ttotal: 3.04s\tremaining: 1.2s\n",
            "1433:\tlearn: 37259.1810972\ttotal: 3.04s\tremaining: 1.2s\n",
            "1434:\tlearn: 37235.2905569\ttotal: 3.05s\tremaining: 1.2s\n",
            "1435:\tlearn: 37220.3523444\ttotal: 3.05s\tremaining: 1.2s\n",
            "1436:\tlearn: 37216.4137184\ttotal: 3.05s\tremaining: 1.2s\n",
            "1437:\tlearn: 37183.3931433\ttotal: 3.05s\tremaining: 1.19s\n",
            "1438:\tlearn: 37155.7479984\ttotal: 3.06s\tremaining: 1.19s\n",
            "1439:\tlearn: 37129.3436466\ttotal: 3.06s\tremaining: 1.19s\n",
            "1440:\tlearn: 37076.2277906\ttotal: 3.06s\tremaining: 1.19s\n",
            "1441:\tlearn: 37074.8316731\ttotal: 3.06s\tremaining: 1.19s\n",
            "1442:\tlearn: 37040.6814604\ttotal: 3.07s\tremaining: 1.18s\n",
            "1443:\tlearn: 37013.8423643\ttotal: 3.07s\tremaining: 1.18s\n",
            "1444:\tlearn: 36983.9173358\ttotal: 3.07s\tremaining: 1.18s\n",
            "1445:\tlearn: 36948.8484080\ttotal: 3.08s\tremaining: 1.18s\n",
            "1446:\tlearn: 36947.3451514\ttotal: 3.08s\tremaining: 1.18s\n",
            "1447:\tlearn: 36938.3319004\ttotal: 3.08s\tremaining: 1.17s\n",
            "1448:\tlearn: 36920.0085538\ttotal: 3.08s\tremaining: 1.17s\n",
            "1449:\tlearn: 36874.2620188\ttotal: 3.09s\tremaining: 1.17s\n",
            "1450:\tlearn: 36859.5386285\ttotal: 3.09s\tremaining: 1.17s\n",
            "1451:\tlearn: 36849.4350908\ttotal: 3.09s\tremaining: 1.17s\n",
            "1452:\tlearn: 36846.0056878\ttotal: 3.1s\tremaining: 1.17s\n",
            "1453:\tlearn: 36827.6653352\ttotal: 3.1s\tremaining: 1.16s\n",
            "1454:\tlearn: 36804.0634675\ttotal: 3.1s\tremaining: 1.16s\n",
            "1455:\tlearn: 36803.3858845\ttotal: 3.1s\tremaining: 1.16s\n",
            "1456:\tlearn: 36770.2347414\ttotal: 3.11s\tremaining: 1.16s\n",
            "1457:\tlearn: 36740.6135695\ttotal: 3.11s\tremaining: 1.16s\n",
            "1458:\tlearn: 36721.4707350\ttotal: 3.11s\tremaining: 1.15s\n",
            "1459:\tlearn: 36709.6433604\ttotal: 3.12s\tremaining: 1.15s\n",
            "1460:\tlearn: 36694.5282994\ttotal: 3.12s\tremaining: 1.15s\n",
            "1461:\tlearn: 36653.1303241\ttotal: 3.12s\tremaining: 1.15s\n",
            "1462:\tlearn: 36623.5942943\ttotal: 3.12s\tremaining: 1.15s\n",
            "1463:\tlearn: 36571.3635357\ttotal: 3.13s\tremaining: 1.14s\n",
            "1464:\tlearn: 36525.3969695\ttotal: 3.13s\tremaining: 1.14s\n",
            "1465:\tlearn: 36490.3981155\ttotal: 3.13s\tremaining: 1.14s\n",
            "1466:\tlearn: 36475.6274979\ttotal: 3.13s\tremaining: 1.14s\n",
            "1467:\tlearn: 36456.8708694\ttotal: 3.14s\tremaining: 1.14s\n",
            "1468:\tlearn: 36438.5767601\ttotal: 3.14s\tremaining: 1.13s\n",
            "1469:\tlearn: 36418.4364847\ttotal: 3.14s\tremaining: 1.13s\n",
            "1470:\tlearn: 36394.6411987\ttotal: 3.14s\tremaining: 1.13s\n",
            "1471:\tlearn: 36351.1530187\ttotal: 3.15s\tremaining: 1.13s\n",
            "1472:\tlearn: 36340.0781791\ttotal: 3.15s\tremaining: 1.13s\n",
            "1473:\tlearn: 36319.6107425\ttotal: 3.15s\tremaining: 1.12s\n",
            "1474:\tlearn: 36314.6589954\ttotal: 3.15s\tremaining: 1.12s\n",
            "1475:\tlearn: 36294.6505766\ttotal: 3.16s\tremaining: 1.12s\n",
            "1476:\tlearn: 36281.4415663\ttotal: 3.16s\tremaining: 1.12s\n",
            "1477:\tlearn: 36235.0088174\ttotal: 3.16s\tremaining: 1.12s\n",
            "1478:\tlearn: 36203.9792220\ttotal: 3.17s\tremaining: 1.11s\n",
            "1479:\tlearn: 36183.8547807\ttotal: 3.17s\tremaining: 1.11s\n",
            "1480:\tlearn: 36155.1427375\ttotal: 3.17s\tremaining: 1.11s\n",
            "1481:\tlearn: 36151.3158786\ttotal: 3.17s\tremaining: 1.11s\n",
            "1482:\tlearn: 36135.9051173\ttotal: 3.17s\tremaining: 1.11s\n",
            "1483:\tlearn: 36116.2734060\ttotal: 3.18s\tremaining: 1.1s\n",
            "1484:\tlearn: 36115.0296430\ttotal: 3.18s\tremaining: 1.1s\n",
            "1485:\tlearn: 36101.7500439\ttotal: 3.18s\tremaining: 1.1s\n",
            "1486:\tlearn: 36065.5783137\ttotal: 3.19s\tremaining: 1.1s\n",
            "1487:\tlearn: 36049.8656766\ttotal: 3.19s\tremaining: 1.1s\n",
            "1488:\tlearn: 36031.8852552\ttotal: 3.19s\tremaining: 1.09s\n",
            "1489:\tlearn: 36010.3693207\ttotal: 3.2s\tremaining: 1.09s\n",
            "1490:\tlearn: 35991.5429129\ttotal: 3.21s\tremaining: 1.09s\n",
            "1491:\tlearn: 35988.6657692\ttotal: 3.21s\tremaining: 1.09s\n",
            "1492:\tlearn: 35984.8114932\ttotal: 3.21s\tremaining: 1.09s\n",
            "1493:\tlearn: 35968.6087043\ttotal: 3.21s\tremaining: 1.09s\n",
            "1494:\tlearn: 35952.3924216\ttotal: 3.22s\tremaining: 1.09s\n",
            "1495:\tlearn: 35944.4212694\ttotal: 3.22s\tremaining: 1.08s\n",
            "1496:\tlearn: 35941.0000176\ttotal: 3.22s\tremaining: 1.08s\n",
            "1497:\tlearn: 35896.4876294\ttotal: 3.23s\tremaining: 1.08s\n",
            "1498:\tlearn: 35873.0970220\ttotal: 3.23s\tremaining: 1.08s\n",
            "1499:\tlearn: 35841.5656308\ttotal: 3.23s\tremaining: 1.08s\n",
            "1500:\tlearn: 35837.9173019\ttotal: 3.23s\tremaining: 1.07s\n",
            "1501:\tlearn: 35822.6723351\ttotal: 3.24s\tremaining: 1.07s\n",
            "1502:\tlearn: 35805.5785585\ttotal: 3.24s\tremaining: 1.07s\n",
            "1503:\tlearn: 35787.8475180\ttotal: 3.24s\tremaining: 1.07s\n",
            "1504:\tlearn: 35761.3871800\ttotal: 3.24s\tremaining: 1.07s\n",
            "1505:\tlearn: 35718.8426477\ttotal: 3.25s\tremaining: 1.06s\n",
            "1506:\tlearn: 35682.3660781\ttotal: 3.25s\tremaining: 1.06s\n",
            "1507:\tlearn: 35637.9864592\ttotal: 3.25s\tremaining: 1.06s\n",
            "1508:\tlearn: 35624.6443394\ttotal: 3.25s\tremaining: 1.06s\n",
            "1509:\tlearn: 35563.1907931\ttotal: 3.26s\tremaining: 1.06s\n",
            "1510:\tlearn: 35501.9889614\ttotal: 3.26s\tremaining: 1.05s\n",
            "1511:\tlearn: 35465.3082004\ttotal: 3.26s\tremaining: 1.05s\n",
            "1512:\tlearn: 35447.0635051\ttotal: 3.27s\tremaining: 1.05s\n",
            "1513:\tlearn: 35417.4685693\ttotal: 3.27s\tremaining: 1.05s\n",
            "1514:\tlearn: 35387.6667021\ttotal: 3.27s\tremaining: 1.05s\n",
            "1515:\tlearn: 35366.5154082\ttotal: 3.27s\tremaining: 1.04s\n",
            "1516:\tlearn: 35357.0322107\ttotal: 3.28s\tremaining: 1.04s\n",
            "1517:\tlearn: 35322.5827130\ttotal: 3.28s\tremaining: 1.04s\n",
            "1518:\tlearn: 35316.2268106\ttotal: 3.28s\tremaining: 1.04s\n",
            "1519:\tlearn: 35269.9033958\ttotal: 3.29s\tremaining: 1.04s\n",
            "1520:\tlearn: 35252.4168147\ttotal: 3.29s\tremaining: 1.03s\n",
            "1521:\tlearn: 35228.5553303\ttotal: 3.29s\tremaining: 1.03s\n",
            "1522:\tlearn: 35176.4740938\ttotal: 3.29s\tremaining: 1.03s\n",
            "1523:\tlearn: 35156.9097793\ttotal: 3.3s\tremaining: 1.03s\n",
            "1524:\tlearn: 35136.7901919\ttotal: 3.3s\tremaining: 1.03s\n",
            "1525:\tlearn: 35118.9096054\ttotal: 3.3s\tremaining: 1.03s\n",
            "1526:\tlearn: 35112.6541889\ttotal: 3.31s\tremaining: 1.02s\n",
            "1527:\tlearn: 35104.9558495\ttotal: 3.31s\tremaining: 1.02s\n",
            "1528:\tlearn: 35084.1059790\ttotal: 3.31s\tremaining: 1.02s\n",
            "1529:\tlearn: 35071.0477785\ttotal: 3.31s\tremaining: 1.02s\n",
            "1530:\tlearn: 35031.2291179\ttotal: 3.32s\tremaining: 1.02s\n",
            "1531:\tlearn: 35022.1199181\ttotal: 3.32s\tremaining: 1.01s\n",
            "1532:\tlearn: 35016.9962925\ttotal: 3.32s\tremaining: 1.01s\n",
            "1533:\tlearn: 34972.3159890\ttotal: 3.33s\tremaining: 1.01s\n",
            "1534:\tlearn: 34942.4892532\ttotal: 3.33s\tremaining: 1.01s\n",
            "1535:\tlearn: 34929.7366756\ttotal: 3.33s\tremaining: 1.01s\n",
            "1536:\tlearn: 34921.4711422\ttotal: 3.33s\tremaining: 1s\n",
            "1537:\tlearn: 34916.5326109\ttotal: 3.34s\tremaining: 1s\n",
            "1538:\tlearn: 34894.1691363\ttotal: 3.34s\tremaining: 1s\n",
            "1539:\tlearn: 34870.5018157\ttotal: 3.34s\tremaining: 999ms\n",
            "1540:\tlearn: 34853.6865369\ttotal: 3.35s\tremaining: 997ms\n",
            "1541:\tlearn: 34836.3647167\ttotal: 3.35s\tremaining: 995ms\n",
            "1542:\tlearn: 34796.7757271\ttotal: 3.35s\tremaining: 993ms\n",
            "1543:\tlearn: 34766.7603502\ttotal: 3.35s\tremaining: 991ms\n",
            "1544:\tlearn: 34725.6549769\ttotal: 3.36s\tremaining: 989ms\n",
            "1545:\tlearn: 34686.1536835\ttotal: 3.36s\tremaining: 987ms\n",
            "1546:\tlearn: 34682.5611638\ttotal: 3.36s\tremaining: 985ms\n",
            "1547:\tlearn: 34651.3058164\ttotal: 3.37s\tremaining: 983ms\n",
            "1548:\tlearn: 34646.6539564\ttotal: 3.37s\tremaining: 981ms\n",
            "1549:\tlearn: 34637.1922701\ttotal: 3.37s\tremaining: 979ms\n",
            "1550:\tlearn: 34631.1218641\ttotal: 3.38s\tremaining: 977ms\n",
            "1551:\tlearn: 34603.2592424\ttotal: 3.38s\tremaining: 975ms\n",
            "1552:\tlearn: 34601.1632168\ttotal: 3.38s\tremaining: 973ms\n",
            "1553:\tlearn: 34589.0935736\ttotal: 3.38s\tremaining: 972ms\n",
            "1554:\tlearn: 34543.1135098\ttotal: 3.39s\tremaining: 970ms\n",
            "1555:\tlearn: 34502.0083077\ttotal: 3.39s\tremaining: 968ms\n",
            "1556:\tlearn: 34451.6885320\ttotal: 3.39s\tremaining: 966ms\n",
            "1557:\tlearn: 34417.3449405\ttotal: 3.4s\tremaining: 964ms\n",
            "1558:\tlearn: 34379.6164741\ttotal: 3.4s\tremaining: 962ms\n",
            "1559:\tlearn: 34375.7222299\ttotal: 3.4s\tremaining: 960ms\n",
            "1560:\tlearn: 34347.5550081\ttotal: 3.4s\tremaining: 957ms\n",
            "1561:\tlearn: 34324.4245630\ttotal: 3.41s\tremaining: 955ms\n",
            "1562:\tlearn: 34305.9950394\ttotal: 3.41s\tremaining: 953ms\n",
            "1563:\tlearn: 34281.8018060\ttotal: 3.41s\tremaining: 951ms\n",
            "1564:\tlearn: 34257.1128509\ttotal: 3.42s\tremaining: 949ms\n",
            "1565:\tlearn: 34232.9900541\ttotal: 3.42s\tremaining: 947ms\n",
            "1566:\tlearn: 34219.6556609\ttotal: 3.42s\tremaining: 946ms\n",
            "1567:\tlearn: 34208.5381553\ttotal: 3.42s\tremaining: 944ms\n",
            "1568:\tlearn: 34174.0576590\ttotal: 3.43s\tremaining: 942ms\n",
            "1569:\tlearn: 34156.7742465\ttotal: 3.43s\tremaining: 940ms\n",
            "1570:\tlearn: 34133.8401891\ttotal: 3.44s\tremaining: 938ms\n",
            "1571:\tlearn: 34115.4647272\ttotal: 3.44s\tremaining: 936ms\n",
            "1572:\tlearn: 34106.0874817\ttotal: 3.44s\tremaining: 934ms\n",
            "1573:\tlearn: 34098.7648363\ttotal: 3.44s\tremaining: 932ms\n",
            "1574:\tlearn: 34056.1750421\ttotal: 3.45s\tremaining: 930ms\n",
            "1575:\tlearn: 34024.5416956\ttotal: 3.45s\tremaining: 928ms\n",
            "1576:\tlearn: 34010.2300599\ttotal: 3.45s\tremaining: 926ms\n",
            "1577:\tlearn: 33979.7349948\ttotal: 3.46s\tremaining: 924ms\n",
            "1578:\tlearn: 33944.5178632\ttotal: 3.46s\tremaining: 922ms\n",
            "1579:\tlearn: 33917.4157720\ttotal: 3.46s\tremaining: 920ms\n",
            "1580:\tlearn: 33892.8395733\ttotal: 3.46s\tremaining: 918ms\n",
            "1581:\tlearn: 33869.9411665\ttotal: 3.46s\tremaining: 916ms\n",
            "1582:\tlearn: 33848.8406133\ttotal: 3.47s\tremaining: 914ms\n",
            "1583:\tlearn: 33835.8715122\ttotal: 3.47s\tremaining: 912ms\n",
            "1584:\tlearn: 33831.0511072\ttotal: 3.47s\tremaining: 910ms\n",
            "1585:\tlearn: 33803.8114723\ttotal: 3.48s\tremaining: 908ms\n",
            "1586:\tlearn: 33764.1144442\ttotal: 3.48s\tremaining: 906ms\n",
            "1587:\tlearn: 33737.6408794\ttotal: 3.48s\tremaining: 904ms\n",
            "1588:\tlearn: 33716.0310848\ttotal: 3.48s\tremaining: 902ms\n",
            "1589:\tlearn: 33705.0761529\ttotal: 3.49s\tremaining: 899ms\n",
            "1590:\tlearn: 33700.1459546\ttotal: 3.49s\tremaining: 897ms\n",
            "1591:\tlearn: 33656.7157545\ttotal: 3.49s\tremaining: 895ms\n",
            "1592:\tlearn: 33644.1456661\ttotal: 3.5s\tremaining: 893ms\n",
            "1593:\tlearn: 33612.5534388\ttotal: 3.5s\tremaining: 891ms\n",
            "1594:\tlearn: 33601.7049885\ttotal: 3.5s\tremaining: 889ms\n",
            "1595:\tlearn: 33581.8788675\ttotal: 3.5s\tremaining: 887ms\n",
            "1596:\tlearn: 33567.8977680\ttotal: 3.51s\tremaining: 885ms\n",
            "1597:\tlearn: 33536.0062303\ttotal: 3.51s\tremaining: 883ms\n",
            "1598:\tlearn: 33505.8891989\ttotal: 3.51s\tremaining: 881ms\n",
            "1599:\tlearn: 33488.0744607\ttotal: 3.51s\tremaining: 879ms\n",
            "1600:\tlearn: 33466.3737589\ttotal: 3.52s\tremaining: 877ms\n",
            "1601:\tlearn: 33435.2884341\ttotal: 3.52s\tremaining: 874ms\n",
            "1602:\tlearn: 33412.0858609\ttotal: 3.52s\tremaining: 872ms\n",
            "1603:\tlearn: 33377.9612284\ttotal: 3.52s\tremaining: 870ms\n",
            "1604:\tlearn: 33356.6953341\ttotal: 3.53s\tremaining: 868ms\n",
            "1605:\tlearn: 33338.6504456\ttotal: 3.53s\tremaining: 866ms\n",
            "1606:\tlearn: 33301.9488844\ttotal: 3.53s\tremaining: 864ms\n",
            "1607:\tlearn: 33281.5611522\ttotal: 3.54s\tremaining: 862ms\n",
            "1608:\tlearn: 33258.6614456\ttotal: 3.54s\tremaining: 860ms\n",
            "1609:\tlearn: 33231.6532948\ttotal: 3.54s\tremaining: 858ms\n",
            "1610:\tlearn: 33208.5846478\ttotal: 3.54s\tremaining: 856ms\n",
            "1611:\tlearn: 33187.0112517\ttotal: 3.55s\tremaining: 854ms\n",
            "1612:\tlearn: 33184.8687317\ttotal: 3.55s\tremaining: 851ms\n",
            "1613:\tlearn: 33184.2693283\ttotal: 3.55s\tremaining: 849ms\n",
            "1614:\tlearn: 33152.6433633\ttotal: 3.55s\tremaining: 847ms\n",
            "1615:\tlearn: 33121.7741164\ttotal: 3.56s\tremaining: 845ms\n",
            "1616:\tlearn: 33085.1245652\ttotal: 3.56s\tremaining: 843ms\n",
            "1617:\tlearn: 33058.3129050\ttotal: 3.56s\tremaining: 841ms\n",
            "1618:\tlearn: 33017.8336004\ttotal: 3.56s\tremaining: 839ms\n",
            "1619:\tlearn: 33002.3758221\ttotal: 3.57s\tremaining: 837ms\n",
            "1620:\tlearn: 32985.3469668\ttotal: 3.57s\tremaining: 835ms\n",
            "1621:\tlearn: 32958.6154547\ttotal: 3.57s\tremaining: 833ms\n",
            "1622:\tlearn: 32953.7398358\ttotal: 3.58s\tremaining: 831ms\n",
            "1623:\tlearn: 32943.8130850\ttotal: 3.58s\tremaining: 828ms\n",
            "1624:\tlearn: 32917.9811959\ttotal: 3.58s\tremaining: 826ms\n",
            "1625:\tlearn: 32899.9023825\ttotal: 3.58s\tremaining: 824ms\n",
            "1626:\tlearn: 32880.2507963\ttotal: 3.59s\tremaining: 822ms\n",
            "1627:\tlearn: 32828.5792481\ttotal: 3.59s\tremaining: 820ms\n",
            "1628:\tlearn: 32813.5867046\ttotal: 3.59s\tremaining: 818ms\n",
            "1629:\tlearn: 32785.1629457\ttotal: 3.59s\tremaining: 816ms\n",
            "1630:\tlearn: 32763.6570641\ttotal: 3.6s\tremaining: 814ms\n",
            "1631:\tlearn: 32738.5759221\ttotal: 3.6s\tremaining: 812ms\n",
            "1632:\tlearn: 32713.3533850\ttotal: 3.6s\tremaining: 810ms\n",
            "1633:\tlearn: 32705.9707033\ttotal: 3.61s\tremaining: 808ms\n",
            "1634:\tlearn: 32676.9549326\ttotal: 3.61s\tremaining: 806ms\n",
            "1635:\tlearn: 32653.4902823\ttotal: 3.61s\tremaining: 804ms\n",
            "1636:\tlearn: 32638.7147345\ttotal: 3.62s\tremaining: 802ms\n",
            "1637:\tlearn: 32599.2433212\ttotal: 3.62s\tremaining: 800ms\n",
            "1638:\tlearn: 32572.0279127\ttotal: 3.62s\tremaining: 798ms\n",
            "1639:\tlearn: 32563.4224731\ttotal: 3.62s\tremaining: 795ms\n",
            "1640:\tlearn: 32542.0720558\ttotal: 3.63s\tremaining: 793ms\n",
            "1641:\tlearn: 32526.8051820\ttotal: 3.63s\tremaining: 791ms\n",
            "1642:\tlearn: 32504.1780757\ttotal: 3.63s\tremaining: 789ms\n",
            "1643:\tlearn: 32483.5272065\ttotal: 3.63s\tremaining: 787ms\n",
            "1644:\tlearn: 32482.2750018\ttotal: 3.64s\tremaining: 785ms\n",
            "1645:\tlearn: 32451.9161708\ttotal: 3.64s\tremaining: 783ms\n",
            "1646:\tlearn: 32432.5087788\ttotal: 3.64s\tremaining: 781ms\n",
            "1647:\tlearn: 32414.6960304\ttotal: 3.65s\tremaining: 779ms\n",
            "1648:\tlearn: 32386.2657607\ttotal: 3.65s\tremaining: 777ms\n",
            "1649:\tlearn: 32380.5884785\ttotal: 3.65s\tremaining: 775ms\n",
            "1650:\tlearn: 32370.9916353\ttotal: 3.65s\tremaining: 773ms\n",
            "1651:\tlearn: 32355.0965036\ttotal: 3.66s\tremaining: 771ms\n",
            "1652:\tlearn: 32342.7490293\ttotal: 3.66s\tremaining: 769ms\n",
            "1653:\tlearn: 32304.3582820\ttotal: 3.66s\tremaining: 767ms\n",
            "1654:\tlearn: 32255.2499240\ttotal: 3.67s\tremaining: 764ms\n",
            "1655:\tlearn: 32240.3134184\ttotal: 3.67s\tremaining: 762ms\n",
            "1656:\tlearn: 32230.0455288\ttotal: 3.67s\tremaining: 760ms\n",
            "1657:\tlearn: 32217.9973748\ttotal: 3.67s\tremaining: 758ms\n",
            "1658:\tlearn: 32200.7256280\ttotal: 3.68s\tremaining: 756ms\n",
            "1659:\tlearn: 32181.3725788\ttotal: 3.68s\tremaining: 754ms\n",
            "1660:\tlearn: 32167.4025606\ttotal: 3.68s\tremaining: 752ms\n",
            "1661:\tlearn: 32143.9394375\ttotal: 3.69s\tremaining: 750ms\n",
            "1662:\tlearn: 32125.0189391\ttotal: 3.69s\tremaining: 748ms\n",
            "1663:\tlearn: 32106.0391801\ttotal: 3.69s\tremaining: 745ms\n",
            "1664:\tlearn: 32085.8428349\ttotal: 3.69s\tremaining: 743ms\n",
            "1665:\tlearn: 32061.1311171\ttotal: 3.7s\tremaining: 741ms\n",
            "1666:\tlearn: 32056.5138050\ttotal: 3.7s\tremaining: 739ms\n",
            "1667:\tlearn: 32050.7879594\ttotal: 3.7s\tremaining: 737ms\n",
            "1668:\tlearn: 32009.1140585\ttotal: 3.7s\tremaining: 735ms\n",
            "1669:\tlearn: 31998.1281337\ttotal: 3.71s\tremaining: 733ms\n",
            "1670:\tlearn: 31973.3291649\ttotal: 3.71s\tremaining: 730ms\n",
            "1671:\tlearn: 31957.9531063\ttotal: 3.71s\tremaining: 728ms\n",
            "1672:\tlearn: 31946.8970231\ttotal: 3.71s\tremaining: 726ms\n",
            "1673:\tlearn: 31929.8620131\ttotal: 3.72s\tremaining: 724ms\n",
            "1674:\tlearn: 31896.6584471\ttotal: 3.72s\tremaining: 722ms\n",
            "1675:\tlearn: 31879.1174421\ttotal: 3.72s\tremaining: 720ms\n",
            "1676:\tlearn: 31862.4856524\ttotal: 3.73s\tremaining: 718ms\n",
            "1677:\tlearn: 31846.6368390\ttotal: 3.73s\tremaining: 715ms\n",
            "1678:\tlearn: 31820.7345270\ttotal: 3.73s\tremaining: 713ms\n",
            "1679:\tlearn: 31802.7472312\ttotal: 3.73s\tremaining: 711ms\n",
            "1680:\tlearn: 31780.3953804\ttotal: 3.74s\tremaining: 709ms\n",
            "1681:\tlearn: 31769.4875540\ttotal: 3.74s\tremaining: 707ms\n",
            "1682:\tlearn: 31749.1235422\ttotal: 3.74s\tremaining: 705ms\n",
            "1683:\tlearn: 31725.3460871\ttotal: 3.74s\tremaining: 703ms\n",
            "1684:\tlearn: 31695.4845523\ttotal: 3.75s\tremaining: 701ms\n",
            "1685:\tlearn: 31675.0796270\ttotal: 3.75s\tremaining: 698ms\n",
            "1686:\tlearn: 31648.7794917\ttotal: 3.75s\tremaining: 696ms\n",
            "1687:\tlearn: 31642.3990768\ttotal: 3.75s\tremaining: 694ms\n",
            "1688:\tlearn: 31626.1201659\ttotal: 3.76s\tremaining: 692ms\n",
            "1689:\tlearn: 31619.8626974\ttotal: 3.76s\tremaining: 690ms\n",
            "1690:\tlearn: 31585.9710332\ttotal: 3.76s\tremaining: 688ms\n",
            "1691:\tlearn: 31561.4770394\ttotal: 3.77s\tremaining: 686ms\n",
            "1692:\tlearn: 31560.6776552\ttotal: 3.77s\tremaining: 683ms\n",
            "1693:\tlearn: 31542.4210621\ttotal: 3.77s\tremaining: 681ms\n",
            "1694:\tlearn: 31518.6506272\ttotal: 3.77s\tremaining: 679ms\n",
            "1695:\tlearn: 31511.4018200\ttotal: 3.78s\tremaining: 677ms\n",
            "1696:\tlearn: 31492.1096406\ttotal: 3.78s\tremaining: 675ms\n",
            "1697:\tlearn: 31481.5756658\ttotal: 3.78s\tremaining: 673ms\n",
            "1698:\tlearn: 31456.6924780\ttotal: 3.79s\tremaining: 671ms\n",
            "1699:\tlearn: 31425.7454700\ttotal: 3.79s\tremaining: 668ms\n",
            "1700:\tlearn: 31411.7312331\ttotal: 3.79s\tremaining: 666ms\n",
            "1701:\tlearn: 31378.9688330\ttotal: 3.79s\tremaining: 664ms\n",
            "1702:\tlearn: 31358.0795721\ttotal: 3.79s\tremaining: 662ms\n",
            "1703:\tlearn: 31340.9984005\ttotal: 3.8s\tremaining: 660ms\n",
            "1704:\tlearn: 31312.8798625\ttotal: 3.8s\tremaining: 658ms\n",
            "1705:\tlearn: 31284.4484451\ttotal: 3.8s\tremaining: 656ms\n",
            "1706:\tlearn: 31278.2129077\ttotal: 3.81s\tremaining: 653ms\n",
            "1707:\tlearn: 31260.8710954\ttotal: 3.81s\tremaining: 651ms\n",
            "1708:\tlearn: 31255.2913662\ttotal: 3.81s\tremaining: 649ms\n",
            "1709:\tlearn: 31226.4350381\ttotal: 3.81s\tremaining: 647ms\n",
            "1710:\tlearn: 31193.6164858\ttotal: 3.82s\tremaining: 645ms\n",
            "1711:\tlearn: 31167.3229874\ttotal: 3.82s\tremaining: 643ms\n",
            "1712:\tlearn: 31145.6187491\ttotal: 3.82s\tremaining: 641ms\n",
            "1713:\tlearn: 31114.9365791\ttotal: 3.83s\tremaining: 638ms\n",
            "1714:\tlearn: 31096.4777467\ttotal: 3.83s\tremaining: 636ms\n",
            "1715:\tlearn: 31075.1894056\ttotal: 3.83s\tremaining: 634ms\n",
            "1716:\tlearn: 31051.8961551\ttotal: 3.83s\tremaining: 632ms\n",
            "1717:\tlearn: 31043.0789397\ttotal: 3.84s\tremaining: 630ms\n",
            "1718:\tlearn: 31030.4224477\ttotal: 3.84s\tremaining: 628ms\n",
            "1719:\tlearn: 31012.3753691\ttotal: 3.84s\tremaining: 626ms\n",
            "1720:\tlearn: 30992.5282052\ttotal: 3.85s\tremaining: 624ms\n",
            "1721:\tlearn: 30964.9915476\ttotal: 3.85s\tremaining: 621ms\n",
            "1722:\tlearn: 30958.4908357\ttotal: 3.85s\tremaining: 619ms\n",
            "1723:\tlearn: 30933.7579514\ttotal: 3.85s\tremaining: 617ms\n",
            "1724:\tlearn: 30913.1245627\ttotal: 3.86s\tremaining: 615ms\n",
            "1725:\tlearn: 30884.4409143\ttotal: 3.86s\tremaining: 613ms\n",
            "1726:\tlearn: 30876.3432394\ttotal: 3.86s\tremaining: 611ms\n",
            "1727:\tlearn: 30857.3292914\ttotal: 3.87s\tremaining: 608ms\n",
            "1728:\tlearn: 30853.5911704\ttotal: 3.87s\tremaining: 606ms\n",
            "1729:\tlearn: 30823.0241438\ttotal: 3.87s\tremaining: 604ms\n",
            "1730:\tlearn: 30792.0078040\ttotal: 3.87s\tremaining: 602ms\n",
            "1731:\tlearn: 30758.7227758\ttotal: 3.88s\tremaining: 600ms\n",
            "1732:\tlearn: 30733.0219016\ttotal: 3.88s\tremaining: 598ms\n",
            "1733:\tlearn: 30710.4733534\ttotal: 3.88s\tremaining: 596ms\n",
            "1734:\tlearn: 30706.0949878\ttotal: 3.88s\tremaining: 593ms\n",
            "1735:\tlearn: 30684.5540897\ttotal: 3.89s\tremaining: 591ms\n",
            "1736:\tlearn: 30672.2986785\ttotal: 3.89s\tremaining: 589ms\n",
            "1737:\tlearn: 30671.4810091\ttotal: 3.89s\tremaining: 587ms\n",
            "1738:\tlearn: 30660.2609966\ttotal: 3.9s\tremaining: 585ms\n",
            "1739:\tlearn: 30645.9689473\ttotal: 3.9s\tremaining: 583ms\n",
            "1740:\tlearn: 30618.6892680\ttotal: 3.9s\tremaining: 581ms\n",
            "1741:\tlearn: 30598.2043016\ttotal: 3.9s\tremaining: 578ms\n",
            "1742:\tlearn: 30573.9495832\ttotal: 3.91s\tremaining: 576ms\n",
            "1743:\tlearn: 30569.8540242\ttotal: 3.91s\tremaining: 574ms\n",
            "1744:\tlearn: 30557.4085666\ttotal: 3.91s\tremaining: 572ms\n",
            "1745:\tlearn: 30524.7220513\ttotal: 3.92s\tremaining: 570ms\n",
            "1746:\tlearn: 30504.2239384\ttotal: 3.92s\tremaining: 568ms\n",
            "1747:\tlearn: 30490.5655646\ttotal: 3.92s\tremaining: 565ms\n",
            "1748:\tlearn: 30473.7771635\ttotal: 3.92s\tremaining: 563ms\n",
            "1749:\tlearn: 30470.8642016\ttotal: 3.93s\tremaining: 561ms\n",
            "1750:\tlearn: 30439.3888668\ttotal: 3.93s\tremaining: 559ms\n",
            "1751:\tlearn: 30430.3802603\ttotal: 3.93s\tremaining: 557ms\n",
            "1752:\tlearn: 30409.6844291\ttotal: 3.94s\tremaining: 554ms\n",
            "1753:\tlearn: 30394.1810113\ttotal: 3.94s\tremaining: 552ms\n",
            "1754:\tlearn: 30389.2061180\ttotal: 3.94s\tremaining: 550ms\n",
            "1755:\tlearn: 30383.7355726\ttotal: 3.94s\tremaining: 548ms\n",
            "1756:\tlearn: 30361.6799886\ttotal: 3.94s\tremaining: 546ms\n",
            "1757:\tlearn: 30331.9719340\ttotal: 3.95s\tremaining: 544ms\n",
            "1758:\tlearn: 30311.4893143\ttotal: 3.95s\tremaining: 541ms\n",
            "1759:\tlearn: 30303.9863150\ttotal: 3.95s\tremaining: 539ms\n",
            "1760:\tlearn: 30283.5000904\ttotal: 3.96s\tremaining: 537ms\n",
            "1761:\tlearn: 30259.2321896\ttotal: 3.96s\tremaining: 535ms\n",
            "1762:\tlearn: 30240.8736403\ttotal: 3.96s\tremaining: 533ms\n",
            "1763:\tlearn: 30219.2218588\ttotal: 3.96s\tremaining: 530ms\n",
            "1764:\tlearn: 30201.9697684\ttotal: 3.97s\tremaining: 528ms\n",
            "1765:\tlearn: 30169.6292915\ttotal: 3.97s\tremaining: 526ms\n",
            "1766:\tlearn: 30153.0056883\ttotal: 3.97s\tremaining: 524ms\n",
            "1767:\tlearn: 30150.1861755\ttotal: 3.98s\tremaining: 522ms\n",
            "1768:\tlearn: 30120.5405461\ttotal: 3.98s\tremaining: 519ms\n",
            "1769:\tlearn: 30100.7821048\ttotal: 3.98s\tremaining: 517ms\n",
            "1770:\tlearn: 30060.5751540\ttotal: 3.98s\tremaining: 515ms\n",
            "1771:\tlearn: 30034.0491339\ttotal: 3.99s\tremaining: 513ms\n",
            "1772:\tlearn: 30003.9556561\ttotal: 3.99s\tremaining: 511ms\n",
            "1773:\tlearn: 29983.0467817\ttotal: 3.99s\tremaining: 508ms\n",
            "1774:\tlearn: 29967.8873380\ttotal: 3.99s\tremaining: 506ms\n",
            "1775:\tlearn: 29948.0699542\ttotal: 4s\tremaining: 504ms\n",
            "1776:\tlearn: 29928.8347676\ttotal: 4s\tremaining: 502ms\n",
            "1777:\tlearn: 29913.7542173\ttotal: 4s\tremaining: 500ms\n",
            "1778:\tlearn: 29886.0750688\ttotal: 4s\tremaining: 498ms\n",
            "1779:\tlearn: 29850.3656430\ttotal: 4.01s\tremaining: 495ms\n",
            "1780:\tlearn: 29829.4684706\ttotal: 4.01s\tremaining: 493ms\n",
            "1781:\tlearn: 29813.7771076\ttotal: 4.01s\tremaining: 491ms\n",
            "1782:\tlearn: 29808.1584088\ttotal: 4.01s\tremaining: 489ms\n",
            "1783:\tlearn: 29806.7846828\ttotal: 4.02s\tremaining: 487ms\n",
            "1784:\tlearn: 29795.0779399\ttotal: 4.02s\tremaining: 484ms\n",
            "1785:\tlearn: 29776.8118575\ttotal: 4.02s\tremaining: 482ms\n",
            "1786:\tlearn: 29769.7104040\ttotal: 4.03s\tremaining: 480ms\n",
            "1787:\tlearn: 29720.8983035\ttotal: 4.03s\tremaining: 478ms\n",
            "1788:\tlearn: 29705.5068073\ttotal: 4.03s\tremaining: 476ms\n",
            "1789:\tlearn: 29668.0538362\ttotal: 4.04s\tremaining: 473ms\n",
            "1790:\tlearn: 29643.9851531\ttotal: 4.04s\tremaining: 471ms\n",
            "1791:\tlearn: 29630.7278417\ttotal: 4.04s\tremaining: 469ms\n",
            "1792:\tlearn: 29610.7104178\ttotal: 4.05s\tremaining: 467ms\n",
            "1793:\tlearn: 29592.1318793\ttotal: 4.05s\tremaining: 465ms\n",
            "1794:\tlearn: 29574.5086971\ttotal: 4.05s\tremaining: 463ms\n",
            "1795:\tlearn: 29573.5605559\ttotal: 4.06s\tremaining: 461ms\n",
            "1796:\tlearn: 29563.4946000\ttotal: 4.06s\tremaining: 459ms\n",
            "1797:\tlearn: 29545.7219862\ttotal: 4.06s\tremaining: 456ms\n",
            "1798:\tlearn: 29530.1842508\ttotal: 4.07s\tremaining: 454ms\n",
            "1799:\tlearn: 29511.7796554\ttotal: 4.07s\tremaining: 452ms\n",
            "1800:\tlearn: 29505.5116011\ttotal: 4.07s\tremaining: 450ms\n",
            "1801:\tlearn: 29475.0126346\ttotal: 4.07s\tremaining: 448ms\n",
            "1802:\tlearn: 29459.7765810\ttotal: 4.08s\tremaining: 445ms\n",
            "1803:\tlearn: 29443.8853757\ttotal: 4.08s\tremaining: 443ms\n",
            "1804:\tlearn: 29427.2860716\ttotal: 4.08s\tremaining: 441ms\n",
            "1805:\tlearn: 29424.8988209\ttotal: 4.08s\tremaining: 439ms\n",
            "1806:\tlearn: 29398.2320494\ttotal: 4.09s\tremaining: 437ms\n",
            "1807:\tlearn: 29373.9702391\ttotal: 4.09s\tremaining: 434ms\n",
            "1808:\tlearn: 29359.7176190\ttotal: 4.09s\tremaining: 432ms\n",
            "1809:\tlearn: 29342.7606234\ttotal: 4.09s\tremaining: 430ms\n",
            "1810:\tlearn: 29329.7597498\ttotal: 4.1s\tremaining: 428ms\n",
            "1811:\tlearn: 29314.0341095\ttotal: 4.1s\tremaining: 425ms\n",
            "1812:\tlearn: 29307.2099099\ttotal: 4.1s\tremaining: 423ms\n",
            "1813:\tlearn: 29287.0699633\ttotal: 4.11s\tremaining: 421ms\n",
            "1814:\tlearn: 29269.7594196\ttotal: 4.11s\tremaining: 419ms\n",
            "1815:\tlearn: 29249.7239712\ttotal: 4.11s\tremaining: 417ms\n",
            "1816:\tlearn: 29239.5189322\ttotal: 4.11s\tremaining: 414ms\n",
            "1817:\tlearn: 29219.7176873\ttotal: 4.12s\tremaining: 412ms\n",
            "1818:\tlearn: 29208.4946816\ttotal: 4.12s\tremaining: 410ms\n",
            "1819:\tlearn: 29192.9185288\ttotal: 4.12s\tremaining: 408ms\n",
            "1820:\tlearn: 29175.8649237\ttotal: 4.13s\tremaining: 405ms\n",
            "1821:\tlearn: 29165.1519490\ttotal: 4.13s\tremaining: 403ms\n",
            "1822:\tlearn: 29154.2134852\ttotal: 4.13s\tremaining: 401ms\n",
            "1823:\tlearn: 29136.3299448\ttotal: 4.13s\tremaining: 399ms\n",
            "1824:\tlearn: 29101.8293024\ttotal: 4.14s\tremaining: 397ms\n",
            "1825:\tlearn: 29076.5148234\ttotal: 4.14s\tremaining: 395ms\n",
            "1826:\tlearn: 29069.9007118\ttotal: 4.14s\tremaining: 392ms\n",
            "1827:\tlearn: 29058.9918646\ttotal: 4.14s\tremaining: 390ms\n",
            "1828:\tlearn: 29042.4290938\ttotal: 4.15s\tremaining: 388ms\n",
            "1829:\tlearn: 29027.9880854\ttotal: 4.15s\tremaining: 386ms\n",
            "1830:\tlearn: 29024.1842447\ttotal: 4.15s\tremaining: 383ms\n",
            "1831:\tlearn: 28996.9974876\ttotal: 4.16s\tremaining: 381ms\n",
            "1832:\tlearn: 28972.4465279\ttotal: 4.16s\tremaining: 379ms\n",
            "1833:\tlearn: 28948.1312562\ttotal: 4.16s\tremaining: 377ms\n",
            "1834:\tlearn: 28938.5645283\ttotal: 4.16s\tremaining: 374ms\n",
            "1835:\tlearn: 28924.1618803\ttotal: 4.17s\tremaining: 372ms\n",
            "1836:\tlearn: 28901.1915102\ttotal: 4.17s\tremaining: 370ms\n",
            "1837:\tlearn: 28876.7201633\ttotal: 4.17s\tremaining: 368ms\n",
            "1838:\tlearn: 28855.0756672\ttotal: 4.17s\tremaining: 366ms\n",
            "1839:\tlearn: 28848.1930993\ttotal: 4.18s\tremaining: 363ms\n",
            "1840:\tlearn: 28831.9817026\ttotal: 4.18s\tremaining: 361ms\n",
            "1841:\tlearn: 28793.9086247\ttotal: 4.18s\tremaining: 359ms\n",
            "1842:\tlearn: 28788.3727865\ttotal: 4.18s\tremaining: 357ms\n",
            "1843:\tlearn: 28767.2168249\ttotal: 4.19s\tremaining: 354ms\n",
            "1844:\tlearn: 28748.2113798\ttotal: 4.19s\tremaining: 352ms\n",
            "1845:\tlearn: 28734.4840406\ttotal: 4.19s\tremaining: 350ms\n",
            "1846:\tlearn: 28712.4853065\ttotal: 4.2s\tremaining: 348ms\n",
            "1847:\tlearn: 28704.3058720\ttotal: 4.2s\tremaining: 345ms\n",
            "1848:\tlearn: 28697.7108531\ttotal: 4.2s\tremaining: 343ms\n",
            "1849:\tlearn: 28683.5727521\ttotal: 4.2s\tremaining: 341ms\n",
            "1850:\tlearn: 28680.0710166\ttotal: 4.21s\tremaining: 339ms\n",
            "1851:\tlearn: 28658.3966350\ttotal: 4.21s\tremaining: 336ms\n",
            "1852:\tlearn: 28643.7172380\ttotal: 4.21s\tremaining: 334ms\n",
            "1853:\tlearn: 28631.1313026\ttotal: 4.21s\tremaining: 332ms\n",
            "1854:\tlearn: 28627.4696998\ttotal: 4.22s\tremaining: 330ms\n",
            "1855:\tlearn: 28621.1900207\ttotal: 4.22s\tremaining: 327ms\n",
            "1856:\tlearn: 28598.5919510\ttotal: 4.22s\tremaining: 325ms\n",
            "1857:\tlearn: 28574.4672696\ttotal: 4.23s\tremaining: 323ms\n",
            "1858:\tlearn: 28534.6913173\ttotal: 4.23s\tremaining: 321ms\n",
            "1859:\tlearn: 28514.3972192\ttotal: 4.23s\tremaining: 318ms\n",
            "1860:\tlearn: 28500.3295696\ttotal: 4.23s\tremaining: 316ms\n",
            "1861:\tlearn: 28481.2615767\ttotal: 4.24s\tremaining: 314ms\n",
            "1862:\tlearn: 28471.3550134\ttotal: 4.24s\tremaining: 312ms\n",
            "1863:\tlearn: 28457.5241080\ttotal: 4.24s\tremaining: 309ms\n",
            "1864:\tlearn: 28422.7461240\ttotal: 4.24s\tremaining: 307ms\n",
            "1865:\tlearn: 28378.7642716\ttotal: 4.25s\tremaining: 305ms\n",
            "1866:\tlearn: 28359.2696106\ttotal: 4.25s\tremaining: 303ms\n",
            "1867:\tlearn: 28339.8878298\ttotal: 4.25s\tremaining: 301ms\n",
            "1868:\tlearn: 28322.8333870\ttotal: 4.25s\tremaining: 298ms\n",
            "1869:\tlearn: 28315.7745430\ttotal: 4.26s\tremaining: 296ms\n",
            "1870:\tlearn: 28303.9237218\ttotal: 4.26s\tremaining: 294ms\n",
            "1871:\tlearn: 28294.5932133\ttotal: 4.26s\tremaining: 292ms\n",
            "1872:\tlearn: 28277.7417135\ttotal: 4.27s\tremaining: 289ms\n",
            "1873:\tlearn: 28240.6581903\ttotal: 4.27s\tremaining: 287ms\n",
            "1874:\tlearn: 28206.5563968\ttotal: 4.27s\tremaining: 285ms\n",
            "1875:\tlearn: 28181.9156228\ttotal: 4.27s\tremaining: 283ms\n",
            "1876:\tlearn: 28170.8825955\ttotal: 4.28s\tremaining: 280ms\n",
            "1877:\tlearn: 28151.0081589\ttotal: 4.28s\tremaining: 278ms\n",
            "1878:\tlearn: 28137.0734300\ttotal: 4.28s\tremaining: 276ms\n",
            "1879:\tlearn: 28127.9972938\ttotal: 4.29s\tremaining: 274ms\n",
            "1880:\tlearn: 28101.6159106\ttotal: 4.29s\tremaining: 271ms\n",
            "1881:\tlearn: 28084.7872475\ttotal: 4.29s\tremaining: 269ms\n",
            "1882:\tlearn: 28064.6932969\ttotal: 4.29s\tremaining: 267ms\n",
            "1883:\tlearn: 28041.1859178\ttotal: 4.3s\tremaining: 265ms\n",
            "1884:\tlearn: 28020.5661351\ttotal: 4.3s\tremaining: 262ms\n",
            "1885:\tlearn: 28017.9078337\ttotal: 4.3s\tremaining: 260ms\n",
            "1886:\tlearn: 28017.2390140\ttotal: 4.3s\tremaining: 258ms\n",
            "1887:\tlearn: 28005.3585875\ttotal: 4.31s\tremaining: 255ms\n",
            "1888:\tlearn: 27997.0941809\ttotal: 4.31s\tremaining: 253ms\n",
            "1889:\tlearn: 27993.2858061\ttotal: 4.31s\tremaining: 251ms\n",
            "1890:\tlearn: 27992.5933401\ttotal: 4.31s\tremaining: 249ms\n",
            "1891:\tlearn: 27982.4234221\ttotal: 4.32s\tremaining: 246ms\n",
            "1892:\tlearn: 27977.0001537\ttotal: 4.32s\tremaining: 244ms\n",
            "1893:\tlearn: 27964.3017715\ttotal: 4.32s\tremaining: 242ms\n",
            "1894:\tlearn: 27942.3685957\ttotal: 4.33s\tremaining: 240ms\n",
            "1895:\tlearn: 27922.2760058\ttotal: 4.33s\tremaining: 237ms\n",
            "1896:\tlearn: 27921.4863138\ttotal: 4.33s\tremaining: 235ms\n",
            "1897:\tlearn: 27905.9797488\ttotal: 4.33s\tremaining: 233ms\n",
            "1898:\tlearn: 27896.6472009\ttotal: 4.34s\tremaining: 231ms\n",
            "1899:\tlearn: 27879.7251301\ttotal: 4.34s\tremaining: 228ms\n",
            "1900:\tlearn: 27841.9220005\ttotal: 4.34s\tremaining: 226ms\n",
            "1901:\tlearn: 27815.0929266\ttotal: 4.34s\tremaining: 224ms\n",
            "1902:\tlearn: 27798.3782781\ttotal: 4.35s\tremaining: 222ms\n",
            "1903:\tlearn: 27783.0200524\ttotal: 4.35s\tremaining: 219ms\n",
            "1904:\tlearn: 27777.3980615\ttotal: 4.35s\tremaining: 217ms\n",
            "1905:\tlearn: 27769.3882743\ttotal: 4.36s\tremaining: 215ms\n",
            "1906:\tlearn: 27748.7841824\ttotal: 4.36s\tremaining: 213ms\n",
            "1907:\tlearn: 27734.1869106\ttotal: 4.36s\tremaining: 210ms\n",
            "1908:\tlearn: 27723.5692781\ttotal: 4.36s\tremaining: 208ms\n",
            "1909:\tlearn: 27701.8096518\ttotal: 4.37s\tremaining: 206ms\n",
            "1910:\tlearn: 27695.2894409\ttotal: 4.37s\tremaining: 204ms\n",
            "1911:\tlearn: 27682.4085763\ttotal: 4.37s\tremaining: 201ms\n",
            "1912:\tlearn: 27660.0388297\ttotal: 4.38s\tremaining: 199ms\n",
            "1913:\tlearn: 27638.2169079\ttotal: 4.38s\tremaining: 197ms\n",
            "1914:\tlearn: 27621.5324464\ttotal: 4.38s\tremaining: 195ms\n",
            "1915:\tlearn: 27614.2782594\ttotal: 4.39s\tremaining: 192ms\n",
            "1916:\tlearn: 27598.1688470\ttotal: 4.39s\tremaining: 190ms\n",
            "1917:\tlearn: 27571.0589147\ttotal: 4.39s\tremaining: 188ms\n",
            "1918:\tlearn: 27570.1832799\ttotal: 4.39s\tremaining: 186ms\n",
            "1919:\tlearn: 27557.9889954\ttotal: 4.4s\tremaining: 183ms\n",
            "1920:\tlearn: 27541.2793565\ttotal: 4.4s\tremaining: 181ms\n",
            "1921:\tlearn: 27533.0902608\ttotal: 4.4s\tremaining: 179ms\n",
            "1922:\tlearn: 27499.3761148\ttotal: 4.41s\tremaining: 176ms\n",
            "1923:\tlearn: 27495.4416759\ttotal: 4.41s\tremaining: 174ms\n",
            "1924:\tlearn: 27443.6860284\ttotal: 4.41s\tremaining: 172ms\n",
            "1925:\tlearn: 27434.5071967\ttotal: 4.41s\tremaining: 170ms\n",
            "1926:\tlearn: 27416.0679952\ttotal: 4.42s\tremaining: 167ms\n",
            "1927:\tlearn: 27400.8122624\ttotal: 4.42s\tremaining: 165ms\n",
            "1928:\tlearn: 27389.9225566\ttotal: 4.42s\tremaining: 163ms\n",
            "1929:\tlearn: 27389.2108341\ttotal: 4.42s\tremaining: 161ms\n",
            "1930:\tlearn: 27369.5232934\ttotal: 4.43s\tremaining: 158ms\n",
            "1931:\tlearn: 27346.2632651\ttotal: 4.43s\tremaining: 156ms\n",
            "1932:\tlearn: 27329.7322922\ttotal: 4.43s\tremaining: 154ms\n",
            "1933:\tlearn: 27316.2392895\ttotal: 4.44s\tremaining: 151ms\n",
            "1934:\tlearn: 27297.2466474\ttotal: 4.44s\tremaining: 149ms\n",
            "1935:\tlearn: 27280.1478538\ttotal: 4.44s\tremaining: 147ms\n",
            "1936:\tlearn: 27243.9763971\ttotal: 4.44s\tremaining: 145ms\n",
            "1937:\tlearn: 27232.0213827\ttotal: 4.45s\tremaining: 142ms\n",
            "1938:\tlearn: 27203.1936102\ttotal: 4.45s\tremaining: 140ms\n",
            "1939:\tlearn: 27191.8704213\ttotal: 4.45s\tremaining: 138ms\n",
            "1940:\tlearn: 27168.2393004\ttotal: 4.46s\tremaining: 135ms\n",
            "1941:\tlearn: 27167.3657495\ttotal: 4.46s\tremaining: 133ms\n",
            "1942:\tlearn: 27153.4093829\ttotal: 4.46s\tremaining: 131ms\n",
            "1943:\tlearn: 27137.2295406\ttotal: 4.46s\tremaining: 129ms\n",
            "1944:\tlearn: 27116.2448115\ttotal: 4.47s\tremaining: 126ms\n",
            "1945:\tlearn: 27092.0644990\ttotal: 4.47s\tremaining: 124ms\n",
            "1946:\tlearn: 27078.2646887\ttotal: 4.47s\tremaining: 122ms\n",
            "1947:\tlearn: 27066.2614662\ttotal: 4.47s\tremaining: 119ms\n",
            "1948:\tlearn: 27050.2859098\ttotal: 4.48s\tremaining: 117ms\n",
            "1949:\tlearn: 27032.5465567\ttotal: 4.48s\tremaining: 115ms\n",
            "1950:\tlearn: 27023.8322838\ttotal: 4.48s\tremaining: 113ms\n",
            "1951:\tlearn: 27005.0291649\ttotal: 4.49s\tremaining: 110ms\n",
            "1952:\tlearn: 26970.5691471\ttotal: 4.49s\tremaining: 108ms\n",
            "1953:\tlearn: 26955.6018848\ttotal: 4.49s\tremaining: 106ms\n",
            "1954:\tlearn: 26923.1350154\ttotal: 4.49s\tremaining: 103ms\n",
            "1955:\tlearn: 26906.5166666\ttotal: 4.5s\tremaining: 101ms\n",
            "1956:\tlearn: 26894.8533016\ttotal: 4.5s\tremaining: 98.9ms\n",
            "1957:\tlearn: 26890.3589549\ttotal: 4.5s\tremaining: 96.6ms\n",
            "1958:\tlearn: 26889.7794104\ttotal: 4.5s\tremaining: 94.3ms\n",
            "1959:\tlearn: 26876.9537037\ttotal: 4.51s\tremaining: 92ms\n",
            "1960:\tlearn: 26857.6590448\ttotal: 4.51s\tremaining: 89.7ms\n",
            "1961:\tlearn: 26825.4540202\ttotal: 4.51s\tremaining: 87.4ms\n",
            "1962:\tlearn: 26794.4652117\ttotal: 4.51s\tremaining: 85.1ms\n",
            "1963:\tlearn: 26780.5953137\ttotal: 4.52s\tremaining: 82.8ms\n",
            "1964:\tlearn: 26767.6475410\ttotal: 4.52s\tremaining: 80.5ms\n",
            "1965:\tlearn: 26746.0476723\ttotal: 4.52s\tremaining: 78.2ms\n",
            "1966:\tlearn: 26714.3709321\ttotal: 4.53s\tremaining: 75.9ms\n",
            "1967:\tlearn: 26694.4416237\ttotal: 4.53s\tremaining: 73.6ms\n",
            "1968:\tlearn: 26679.1943838\ttotal: 4.53s\tremaining: 71.3ms\n",
            "1969:\tlearn: 26654.0541028\ttotal: 4.53s\tremaining: 69ms\n",
            "1970:\tlearn: 26638.8310800\ttotal: 4.54s\tremaining: 66.7ms\n",
            "1971:\tlearn: 26623.7279175\ttotal: 4.54s\tremaining: 64.5ms\n",
            "1972:\tlearn: 26604.5448166\ttotal: 4.54s\tremaining: 62.2ms\n",
            "1973:\tlearn: 26585.8129567\ttotal: 4.55s\tremaining: 59.9ms\n",
            "1974:\tlearn: 26569.9043170\ttotal: 4.55s\tremaining: 57.6ms\n",
            "1975:\tlearn: 26552.6386180\ttotal: 4.55s\tremaining: 55.3ms\n",
            "1976:\tlearn: 26531.9761164\ttotal: 4.55s\tremaining: 53ms\n",
            "1977:\tlearn: 26518.0236436\ttotal: 4.56s\tremaining: 50.7ms\n",
            "1978:\tlearn: 26492.1606325\ttotal: 4.56s\tremaining: 48.4ms\n",
            "1979:\tlearn: 26491.0539348\ttotal: 4.56s\tremaining: 46.1ms\n",
            "1980:\tlearn: 26473.4932862\ttotal: 4.57s\tremaining: 43.8ms\n",
            "1981:\tlearn: 26450.2278104\ttotal: 4.57s\tremaining: 41.5ms\n",
            "1982:\tlearn: 26426.5583410\ttotal: 4.57s\tremaining: 39.2ms\n",
            "1983:\tlearn: 26406.7901766\ttotal: 4.58s\tremaining: 36.9ms\n",
            "1984:\tlearn: 26406.1785213\ttotal: 4.58s\tremaining: 34.6ms\n",
            "1985:\tlearn: 26383.6085757\ttotal: 4.58s\tremaining: 32.3ms\n",
            "1986:\tlearn: 26371.8286272\ttotal: 4.58s\tremaining: 30ms\n",
            "1987:\tlearn: 26351.4021977\ttotal: 4.59s\tremaining: 27.7ms\n",
            "1988:\tlearn: 26321.7370481\ttotal: 4.59s\tremaining: 25.4ms\n",
            "1989:\tlearn: 26302.6110197\ttotal: 4.59s\tremaining: 23.1ms\n",
            "1990:\tlearn: 26296.9890735\ttotal: 4.6s\tremaining: 20.8ms\n",
            "1991:\tlearn: 26283.4870536\ttotal: 4.6s\tremaining: 18.5ms\n",
            "1992:\tlearn: 26279.1625998\ttotal: 4.6s\tremaining: 16.2ms\n",
            "1993:\tlearn: 26268.3344779\ttotal: 4.61s\tremaining: 13.9ms\n",
            "1994:\tlearn: 26253.4490112\ttotal: 4.61s\tremaining: 11.6ms\n",
            "1995:\tlearn: 26238.3589664\ttotal: 4.61s\tremaining: 9.24ms\n",
            "1996:\tlearn: 26219.3199267\ttotal: 4.62s\tremaining: 6.93ms\n",
            "1997:\tlearn: 26184.1443276\ttotal: 4.62s\tremaining: 4.63ms\n",
            "1998:\tlearn: 26177.7026360\ttotal: 4.62s\tremaining: 2.31ms\n",
            "1999:\tlearn: 26156.5914821\ttotal: 4.63s\tremaining: 0us\n",
            "RMSE Train (labeled): 26156.59148212602\n",
            "RMSE Test: 172780.19975380332\n",
            "R2 Train (labeled): 0.9641296032535044\n",
            "R2 Test: 0.1538785952212678\n"
          ],
          "name": "stdout"
        }
      ]
    },
    {
      "cell_type": "code",
      "metadata": {
        "id": "NYDYKEHednzC",
        "outputId": "a0c6ff0e-7e04-4e8f-8f5c-03d05b026c76"
      },
      "source": [
        "model = XGBRegressor(booster = 'gbtree', max_depth = 1, subsample = 1, tree_method = 'auto', random_state = 5,\n",
        "                     learning_rate = 0.3, min_child_weight = 10, reg_lambda = 0.01)\n",
        "model.fit(x_labeled, y_labeled)\n",
        "prediksi_train = model.predict(x_labeled)\n",
        "prediksi_test = model.predict(x_test)\n",
        "mse_train = mean_squared_error(y_labeled, prediksi_train)\n",
        "mse_test = mean_squared_error(y_test, prediksi_test)\n",
        "rmse_train = np.sqrt(mse_train)\n",
        "rmse_test = np.sqrt(mse_test)\n",
        "r2_train = r2_score(y_labeled, prediksi_train)\n",
        "r2_test = r2_score(y_test, prediksi_test)\n",
        "print(\"RMSE Train (labeled): {}\".format(rmse_train))\n",
        "print(\"RMSE Test: {}\".format(rmse_test))\n",
        "print(\"R2 Train (labeled): {}\".format(r2_train))\n",
        "print(\"R2 Test: {}\".format(r2_test))"
      ],
      "execution_count": null,
      "outputs": [
        {
          "output_type": "stream",
          "text": [
            "RMSE Train (labeled): 109531.96893340311\n",
            "RMSE Test: 170785.33035586303\n",
            "R2 Train (labeled): 0.3709927223877436\n",
            "R2 Test: 0.1733039424694549\n"
          ],
          "name": "stdout"
        }
      ]
    },
    {
      "cell_type": "code",
      "metadata": {
        "id": "wPb3wRrIdnzD"
      },
      "source": [
        "unlabeled = unlabeled.drop('price', axis = 1)\n",
        "scaler = StandardScaler()\n",
        "x_unlabeled = scaler.fit_transform(unlabeled)"
      ],
      "execution_count": null,
      "outputs": []
    },
    {
      "cell_type": "code",
      "metadata": {
        "id": "vubASz40dnzD"
      },
      "source": [
        "y_unlabeled = model.predict(x_unlabeled)"
      ],
      "execution_count": null,
      "outputs": []
    },
    {
      "cell_type": "code",
      "metadata": {
        "id": "C9Mgh3ZVdnzE",
        "outputId": "347cf5be-da22-4ced-dcf0-06be8e9f3941"
      },
      "source": [
        "x_labeled"
      ],
      "execution_count": null,
      "outputs": [
        {
          "output_type": "execute_result",
          "data": {
            "text/plain": [
              "array([[ 0.93101625,  1.14751174,  0.63521976, ..., -0.8990561 ,\n",
              "         0.70711735,  0.51263115],\n",
              "       [-0.07403708, -0.01977313,  0.02664699, ..., -0.05702804,\n",
              "         0.03131324,  0.51263115],\n",
              "       [ 1.93606958, -0.07331473,  0.81096661, ..., -1.1060833 ,\n",
              "        -0.23986442,  0.51263115],\n",
              "       ...,\n",
              "       [-0.57656374,  0.74056958, -0.74440778, ...,  0.52987678,\n",
              "        -0.7514817 , -1.95072031],\n",
              "       [-0.57656374, -1.83673075,  0.45946807, ..., -1.44021146,\n",
              "         0.86327571,  0.51263115],\n",
              "       [ 1.93606958, -1.75534232, -0.27867645, ..., -1.87051898,\n",
              "         0.73530867,  0.51263115]])"
            ]
          },
          "metadata": {
            "tags": []
          },
          "execution_count": 304
        }
      ]
    },
    {
      "cell_type": "code",
      "metadata": {
        "id": "m7lRxbeVdnzE"
      },
      "source": [
        "x_train = np.concatenate((x_unlabeled, x_labeled), axis = 0)\n",
        "y_train = np.concatenate((y_unlabeled, y_labeled), axis = 0)"
      ],
      "execution_count": null,
      "outputs": []
    },
    {
      "cell_type": "code",
      "metadata": {
        "id": "HJd2-FGQdnzF",
        "outputId": "deaa27b8-afe1-4221-85b4-f96368cf02f0"
      },
      "source": [
        "model = XGBRegressor()\n",
        "parameters = {'booster':['dart', 'gbtree'], 'tree_method':['auto'], 'subsample':[0.5,1],'max_depth' : [1,6,10]}\n",
        "model_xgb = GridSearchCV(model, parameters, cv=10)\n",
        "model_xgb.fit(x_train, y_train)\n",
        "prediksi_train = model_xgb.predict(x_train)\n",
        "prediksi_test = model_xgb.predict(x_test)\n",
        "mse_train = mean_squared_error(y_train, prediksi_train)\n",
        "mse_test = mean_squared_error(y_test, prediksi_test)\n",
        "rmse_train = np.sqrt(mse_train)\n",
        "rmse_test = np.sqrt(mse_test)\n",
        "r2_train = r2_score(y_train, prediksi_train)\n",
        "r2_test = r2_score(y_test, prediksi_test)\n",
        "print(\"Best Parameter: \", model_xgb.best_params_)\n",
        "print(\"RMSE Train: {}\".format(rmse_train))\n",
        "print(\"RMSE Test: {}\".format(rmse_test))\n",
        "print(\"R2 Train: {}\".format(r2_train))\n",
        "print(\"R2 Test: {}\".format(r2_test))"
      ],
      "execution_count": null,
      "outputs": [
        {
          "output_type": "stream",
          "text": [
            "Best Parameter:  {'booster': 'dart', 'max_depth': 1, 'subsample': 1, 'tree_method': 'auto'}\n",
            "RMSE Train: 43731.317082108384\n",
            "RMSE Test: 169990.229838286\n",
            "R2 Train: 0.5555340966710738\n",
            "R2 Test: 0.18098348261055375\n"
          ],
          "name": "stdout"
        }
      ]
    },
    {
      "cell_type": "code",
      "metadata": {
        "id": "HqMMLnZsdnzG"
      },
      "source": [
        "(booster = 'gbtree', max_depth = 1, subsample = 1, tree_method = 'auto', random_state = 5,\n",
        "                     learning_rate = 0.3, min_child_weight = 10, reg_lambda = 0.01"
      ],
      "execution_count": null,
      "outputs": []
    },
    {
      "cell_type": "code",
      "metadata": {
        "id": "nbYuLGW9dnzH",
        "outputId": "817f6c04-8802-4869-e1c5-b20f9f80b190"
      },
      "source": [
        "model = XGBRegressor(booster = 'gbtree', max_depth = 1, subsample = 1, tree_method = 'auto',\n",
        "                     learning_rate = 0.3, min_child_weight = 10, reg_lambda = 10)\n",
        "model.fit(x_train, y_train)\n",
        "prediksi_train = model.predict(x_train)\n",
        "prediksi_test = model.predict(x_test)\n",
        "mse_train = mean_squared_error(y_train, prediksi_train)\n",
        "mse_test = mean_squared_error(y_test, prediksi_test)\n",
        "rmse_train = np.sqrt(mse_train)\n",
        "rmse_test = np.sqrt(mse_test)\n",
        "r2_train = r2_score(y_train, prediksi_train)\n",
        "r2_test = r2_score(y_test, prediksi_test)\n",
        "# print(\"Best Parameter: \", model_xgb.best_params_)\n",
        "print(\"RMSE Train: {}\".format(rmse_train))\n",
        "print(\"RMSE Test: {}\".format(rmse_test))\n",
        "print(\"R2 Train: {}\".format(r2_train))\n",
        "print(\"R2 Test: {}\".format(r2_test))"
      ],
      "execution_count": null,
      "outputs": [
        {
          "output_type": "stream",
          "text": [
            "RMSE Train: 43861.79620466676\n",
            "RMSE Test: 169668.1037687207\n",
            "R2 Train: 0.5528778749402141\n",
            "R2 Test: 0.18408456201297185\n"
          ],
          "name": "stdout"
        }
      ]
    },
    {
      "cell_type": "code",
      "metadata": {
        "id": "VdUl1ferdnzI",
        "outputId": "eb2ac382-3a5f-46a1-a2a1-c942fd62162a"
      },
      "source": [
        "from lightgbm import LGBMRegressor\n",
        "model = LGBMRegressor()\n",
        "model.fit(x_train, y_train)\n",
        "prediksi_train = model.predict(x_train)\n",
        "prediksi_test = model.predict(x_test)\n",
        "mse_train = mean_squared_error(y_train, prediksi_train)\n",
        "mse_test = mean_squared_error(y_test, prediksi_test)\n",
        "rmse_train = np.sqrt(mse_train)\n",
        "rmse_test = np.sqrt(mse_test)\n",
        "r2_train = r2_score(y_train, prediksi_train)\n",
        "r2_test = r2_score(y_test, prediksi_test)\n",
        "print(\"RMSE Train: {}\".format(rmse_train))\n",
        "print(\"RMSE Test: {}\".format(rmse_test))\n",
        "print(\"R2 Train: {}\".format(r2_train))\n",
        "print(\"R2 Test: {}\".format(r2_test))"
      ],
      "execution_count": null,
      "outputs": [
        {
          "output_type": "stream",
          "text": [
            "RMSE Train: 20643.235333775803\n",
            "RMSE Test: 174836.22527607047\n",
            "R2 Train: 0.9009604034683155\n",
            "R2 Test: 0.1336216698302498\n"
          ],
          "name": "stdout"
        }
      ]
    },
    {
      "cell_type": "code",
      "metadata": {
        "id": "SwesQ-qQdnzI",
        "outputId": "bd471d69-1776-4ab1-f520-1b09bf600186"
      },
      "source": [
        "model = DecisionTreeRegressor()\n",
        "model.fit(x_train, y_train)\n",
        "prediksi_train = model.predict(x_train)\n",
        "prediksi_test = model.predict(x_test)\n",
        "mse_train = mean_squared_error(y_train, prediksi_train)\n",
        "mse_test = mean_squared_error(y_test, prediksi_test)\n",
        "rmse_train = np.sqrt(mse_train)\n",
        "rmse_test = np.sqrt(mse_test)\n",
        "r2_train = r2_score(y_train, prediksi_train)\n",
        "r2_test = r2_score(y_test, prediksi_test)\n",
        "print(\"RMSE Train: {}\".format(rmse_train))\n",
        "print(\"RMSE Test: {}\".format(rmse_test))\n",
        "print(\"R2 Train: {}\".format(r2_train))\n",
        "print(\"R2 Test: {}\".format(r2_test))"
      ],
      "execution_count": null,
      "outputs": [
        {
          "output_type": "stream",
          "text": [
            "RMSE Train: 1149.3546018110449\n",
            "RMSE Test: 202784.05413257738\n",
            "R2 Train: 0.9996929837142697\n",
            "R2 Test: -0.1655001694453595\n"
          ],
          "name": "stdout"
        }
      ]
    },
    {
      "cell_type": "code",
      "metadata": {
        "id": "55_QgXu7dnzJ"
      },
      "source": [
        ""
      ],
      "execution_count": null,
      "outputs": []
    },
    {
      "cell_type": "code",
      "metadata": {
        "id": "0HK4CezPdnzJ"
      },
      "source": [
        ""
      ],
      "execution_count": null,
      "outputs": []
    },
    {
      "cell_type": "code",
      "metadata": {
        "id": "r5VwR_KOdnzJ"
      },
      "source": [
        ""
      ],
      "execution_count": null,
      "outputs": []
    },
    {
      "cell_type": "code",
      "metadata": {
        "id": "4Tf2CR_LdnzK"
      },
      "source": [
        ""
      ],
      "execution_count": null,
      "outputs": []
    },
    {
      "cell_type": "code",
      "metadata": {
        "id": "i9UanneBdnzK"
      },
      "source": [
        ""
      ],
      "execution_count": null,
      "outputs": []
    },
    {
      "cell_type": "code",
      "metadata": {
        "id": "7xLAk9H8dnzK"
      },
      "source": [
        ""
      ],
      "execution_count": null,
      "outputs": []
    },
    {
      "cell_type": "code",
      "metadata": {
        "id": "MZ-kGmmPdnzK"
      },
      "source": [
        "import tensorflow as tf"
      ],
      "execution_count": null,
      "outputs": []
    },
    {
      "cell_type": "code",
      "metadata": {
        "id": "erE1CWA4dnzL",
        "outputId": "e83142de-3347-48ac-d5ca-99403babdeae"
      },
      "source": [
        "model = tf.keras.models.Sequential([\n",
        "    tf.keras.layers.Dense(units = 128, activation = \"relu\", input_dim = 10),\n",
        "    tf.keras.layers.Dense(units = 256, activation = \"relu\"),\n",
        "    tf.keras.layers.Dense(units = 1, activation = \"linear\"),\n",
        "])\n",
        "model.summary()\n"
      ],
      "execution_count": null,
      "outputs": [
        {
          "output_type": "stream",
          "text": [
            "Model: \"sequential_2\"\n",
            "_________________________________________________________________\n",
            "Layer (type)                 Output Shape              Param #   \n",
            "=================================================================\n",
            "dense_11 (Dense)             (None, 128)               1408      \n",
            "_________________________________________________________________\n",
            "dense_12 (Dense)             (None, 256)               33024     \n",
            "_________________________________________________________________\n",
            "dense_13 (Dense)             (None, 1)                 257       \n",
            "=================================================================\n",
            "Total params: 34,689\n",
            "Trainable params: 34,689\n",
            "Non-trainable params: 0\n",
            "_________________________________________________________________\n"
          ],
          "name": "stdout"
        }
      ]
    },
    {
      "cell_type": "code",
      "metadata": {
        "id": "UbXmsGOWdnzL",
        "outputId": "51193cb3-2b42-4eea-b977-79a3a80cd898"
      },
      "source": [
        "model.compile(loss = \"mse\", optimizer = \"sgd\")\n",
        "model.fit(x_labeled, y_labeled, epochs = 100)"
      ],
      "execution_count": null,
      "outputs": [
        {
          "output_type": "stream",
          "text": [
            "Epoch 1/100\n",
            "17/17 [==============================] - 0s 2ms/step - loss: nan - root_mean_squared_error: nan                 \n",
            "Epoch 2/100\n",
            "17/17 [==============================] - 0s 2ms/step - loss: nan - root_mean_squared_error: nan\n",
            "Epoch 3/100\n",
            "17/17 [==============================] - 0s 2ms/step - loss: nan - root_mean_squared_error: nan\n",
            "Epoch 4/100\n",
            "17/17 [==============================] - 0s 2ms/step - loss: nan - root_mean_squared_error: nan\n",
            "Epoch 5/100\n",
            "17/17 [==============================] - 0s 2ms/step - loss: nan - root_mean_squared_error: nan\n",
            "Epoch 6/100\n",
            "17/17 [==============================] - 0s 2ms/step - loss: nan - root_mean_squared_error: nan\n",
            "Epoch 7/100\n",
            "17/17 [==============================] - 0s 2ms/step - loss: nan - root_mean_squared_error: nan\n",
            "Epoch 8/100\n",
            "17/17 [==============================] - 0s 2ms/step - loss: nan - root_mean_squared_error: nan\n",
            "Epoch 9/100\n",
            "17/17 [==============================] - 0s 2ms/step - loss: nan - root_mean_squared_error: nan\n",
            "Epoch 10/100\n",
            "17/17 [==============================] - 0s 2ms/step - loss: nan - root_mean_squared_error: nan\n",
            "Epoch 11/100\n",
            "17/17 [==============================] - 0s 2ms/step - loss: nan - root_mean_squared_error: nan\n",
            "Epoch 12/100\n",
            "17/17 [==============================] - 0s 2ms/step - loss: nan - root_mean_squared_error: nan\n",
            "Epoch 13/100\n",
            "17/17 [==============================] - 0s 2ms/step - loss: nan - root_mean_squared_error: nan\n",
            "Epoch 14/100\n",
            "17/17 [==============================] - 0s 2ms/step - loss: nan - root_mean_squared_error: nan\n",
            "Epoch 15/100\n",
            "17/17 [==============================] - 0s 2ms/step - loss: nan - root_mean_squared_error: nan\n",
            "Epoch 16/100\n",
            "17/17 [==============================] - 0s 2ms/step - loss: nan - root_mean_squared_error: nan\n",
            "Epoch 17/100\n",
            "17/17 [==============================] - 0s 2ms/step - loss: nan - root_mean_squared_error: nan\n",
            "Epoch 18/100\n",
            "17/17 [==============================] - 0s 2ms/step - loss: nan - root_mean_squared_error: nan\n",
            "Epoch 19/100\n",
            "17/17 [==============================] - 0s 2ms/step - loss: nan - root_mean_squared_error: nan\n",
            "Epoch 20/100\n",
            "17/17 [==============================] - 0s 2ms/step - loss: nan - root_mean_squared_error: nan\n",
            "Epoch 21/100\n",
            "17/17 [==============================] - 0s 2ms/step - loss: nan - root_mean_squared_error: nan\n",
            "Epoch 22/100\n",
            "17/17 [==============================] - 0s 2ms/step - loss: nan - root_mean_squared_error: nan\n",
            "Epoch 23/100\n",
            "17/17 [==============================] - 0s 2ms/step - loss: nan - root_mean_squared_error: nan\n",
            "Epoch 24/100\n",
            "17/17 [==============================] - 0s 2ms/step - loss: nan - root_mean_squared_error: nan\n",
            "Epoch 25/100\n",
            "17/17 [==============================] - 0s 2ms/step - loss: nan - root_mean_squared_error: nan\n",
            "Epoch 26/100\n",
            "17/17 [==============================] - 0s 2ms/step - loss: nan - root_mean_squared_error: nan\n",
            "Epoch 27/100\n",
            "17/17 [==============================] - 0s 2ms/step - loss: nan - root_mean_squared_error: nan\n",
            "Epoch 28/100\n",
            "17/17 [==============================] - 0s 2ms/step - loss: nan - root_mean_squared_error: nan\n",
            "Epoch 29/100\n",
            "17/17 [==============================] - 0s 2ms/step - loss: nan - root_mean_squared_error: nan\n",
            "Epoch 30/100\n",
            "17/17 [==============================] - 0s 2ms/step - loss: nan - root_mean_squared_error: nan\n",
            "Epoch 31/100\n",
            "17/17 [==============================] - 0s 2ms/step - loss: nan - root_mean_squared_error: nan\n",
            "Epoch 32/100\n",
            "17/17 [==============================] - 0s 2ms/step - loss: nan - root_mean_squared_error: nan\n",
            "Epoch 33/100\n",
            "17/17 [==============================] - 0s 2ms/step - loss: nan - root_mean_squared_error: nan\n",
            "Epoch 34/100\n",
            "17/17 [==============================] - 0s 2ms/step - loss: nan - root_mean_squared_error: nan\n",
            "Epoch 35/100\n",
            "17/17 [==============================] - 0s 2ms/step - loss: nan - root_mean_squared_error: nan\n",
            "Epoch 36/100\n",
            "17/17 [==============================] - 0s 2ms/step - loss: nan - root_mean_squared_error: nan\n",
            "Epoch 37/100\n",
            "17/17 [==============================] - 0s 2ms/step - loss: nan - root_mean_squared_error: nan\n",
            "Epoch 38/100\n",
            "17/17 [==============================] - 0s 2ms/step - loss: nan - root_mean_squared_error: nan\n",
            "Epoch 39/100\n",
            "17/17 [==============================] - 0s 2ms/step - loss: nan - root_mean_squared_error: nan\n",
            "Epoch 40/100\n",
            "17/17 [==============================] - 0s 2ms/step - loss: nan - root_mean_squared_error: nan\n",
            "Epoch 41/100\n",
            "17/17 [==============================] - 0s 3ms/step - loss: nan - root_mean_squared_error: nan\n",
            "Epoch 42/100\n",
            "17/17 [==============================] - 0s 2ms/step - loss: nan - root_mean_squared_error: nan\n",
            "Epoch 43/100\n",
            "17/17 [==============================] - 0s 2ms/step - loss: nan - root_mean_squared_error: nan\n",
            "Epoch 44/100\n",
            "17/17 [==============================] - 0s 2ms/step - loss: nan - root_mean_squared_error: nan\n",
            "Epoch 45/100\n",
            "17/17 [==============================] - 0s 2ms/step - loss: nan - root_mean_squared_error: nan\n",
            "Epoch 46/100\n",
            "17/17 [==============================] - 0s 2ms/step - loss: nan - root_mean_squared_error: nan\n",
            "Epoch 47/100\n",
            "17/17 [==============================] - 0s 2ms/step - loss: nan - root_mean_squared_error: nan\n",
            "Epoch 48/100\n",
            "17/17 [==============================] - 0s 2ms/step - loss: nan - root_mean_squared_error: nan\n",
            "Epoch 49/100\n",
            "17/17 [==============================] - 0s 2ms/step - loss: nan - root_mean_squared_error: nan\n",
            "Epoch 50/100\n",
            "17/17 [==============================] - 0s 2ms/step - loss: nan - root_mean_squared_error: nan\n",
            "Epoch 51/100\n",
            "17/17 [==============================] - 0s 2ms/step - loss: nan - root_mean_squared_error: nan\n",
            "Epoch 52/100\n",
            "17/17 [==============================] - 0s 2ms/step - loss: nan - root_mean_squared_error: nan\n",
            "Epoch 53/100\n",
            "17/17 [==============================] - 0s 2ms/step - loss: nan - root_mean_squared_error: nan\n",
            "Epoch 54/100\n",
            "17/17 [==============================] - 0s 2ms/step - loss: nan - root_mean_squared_error: nan\n",
            "Epoch 55/100\n",
            "17/17 [==============================] - 0s 2ms/step - loss: nan - root_mean_squared_error: nan\n",
            "Epoch 56/100\n",
            "17/17 [==============================] - 0s 2ms/step - loss: nan - root_mean_squared_error: nan\n",
            "Epoch 57/100\n",
            "17/17 [==============================] - 0s 2ms/step - loss: nan - root_mean_squared_error: nan\n",
            "Epoch 58/100\n",
            "17/17 [==============================] - 0s 2ms/step - loss: nan - root_mean_squared_error: nan\n",
            "Epoch 59/100\n",
            "17/17 [==============================] - 0s 2ms/step - loss: nan - root_mean_squared_error: nan\n",
            "Epoch 60/100\n",
            "17/17 [==============================] - 0s 2ms/step - loss: nan - root_mean_squared_error: nan\n",
            "Epoch 61/100\n",
            "17/17 [==============================] - 0s 2ms/step - loss: nan - root_mean_squared_error: nan\n",
            "Epoch 62/100\n",
            "17/17 [==============================] - 0s 2ms/step - loss: nan - root_mean_squared_error: nan\n",
            "Epoch 63/100\n",
            "17/17 [==============================] - 0s 2ms/step - loss: nan - root_mean_squared_error: nan\n",
            "Epoch 64/100\n",
            "17/17 [==============================] - 0s 2ms/step - loss: nan - root_mean_squared_error: nan\n",
            "Epoch 65/100\n",
            "17/17 [==============================] - 0s 2ms/step - loss: nan - root_mean_squared_error: nan\n",
            "Epoch 66/100\n",
            "17/17 [==============================] - 0s 2ms/step - loss: nan - root_mean_squared_error: nan\n",
            "Epoch 67/100\n",
            "17/17 [==============================] - 0s 2ms/step - loss: nan - root_mean_squared_error: nan\n",
            "Epoch 68/100\n",
            "17/17 [==============================] - 0s 2ms/step - loss: nan - root_mean_squared_error: nan\n",
            "Epoch 69/100\n",
            "17/17 [==============================] - 0s 2ms/step - loss: nan - root_mean_squared_error: nan\n",
            "Epoch 70/100\n",
            "17/17 [==============================] - 0s 2ms/step - loss: nan - root_mean_squared_error: nan\n",
            "Epoch 71/100\n",
            "17/17 [==============================] - 0s 2ms/step - loss: nan - root_mean_squared_error: nan\n",
            "Epoch 72/100\n",
            "17/17 [==============================] - 0s 2ms/step - loss: nan - root_mean_squared_error: nan\n",
            "Epoch 73/100\n",
            "17/17 [==============================] - 0s 2ms/step - loss: nan - root_mean_squared_error: nan\n",
            "Epoch 74/100\n",
            "17/17 [==============================] - 0s 2ms/step - loss: nan - root_mean_squared_error: nan\n",
            "Epoch 75/100\n",
            "17/17 [==============================] - 0s 2ms/step - loss: nan - root_mean_squared_error: nan\n",
            "Epoch 76/100\n",
            "17/17 [==============================] - 0s 2ms/step - loss: nan - root_mean_squared_error: nan\n",
            "Epoch 77/100\n",
            "17/17 [==============================] - 0s 2ms/step - loss: nan - root_mean_squared_error: nan\n",
            "Epoch 78/100\n",
            "17/17 [==============================] - 0s 2ms/step - loss: nan - root_mean_squared_error: nan\n",
            "Epoch 79/100\n",
            "17/17 [==============================] - 0s 2ms/step - loss: nan - root_mean_squared_error: nan\n",
            "Epoch 80/100\n",
            "17/17 [==============================] - 0s 2ms/step - loss: nan - root_mean_squared_error: nan\n",
            "Epoch 81/100\n",
            "17/17 [==============================] - 0s 3ms/step - loss: nan - root_mean_squared_error: nan\n",
            "Epoch 82/100\n",
            "17/17 [==============================] - 0s 3ms/step - loss: nan - root_mean_squared_error: nan\n",
            "Epoch 83/100\n",
            "17/17 [==============================] - 0s 3ms/step - loss: nan - root_mean_squared_error: nan\n",
            "Epoch 84/100\n",
            "17/17 [==============================] - 0s 2ms/step - loss: nan - root_mean_squared_error: nan\n",
            "Epoch 85/100\n",
            "17/17 [==============================] - 0s 2ms/step - loss: nan - root_mean_squared_error: nan\n",
            "Epoch 86/100\n",
            "17/17 [==============================] - 0s 2ms/step - loss: nan - root_mean_squared_error: nan\n",
            "Epoch 87/100\n",
            "17/17 [==============================] - 0s 2ms/step - loss: nan - root_mean_squared_error: nan\n",
            "Epoch 88/100\n",
            "17/17 [==============================] - 0s 2ms/step - loss: nan - root_mean_squared_error: nan\n",
            "Epoch 89/100\n",
            "17/17 [==============================] - 0s 2ms/step - loss: nan - root_mean_squared_error: nan\n",
            "Epoch 90/100\n",
            "17/17 [==============================] - 0s 2ms/step - loss: nan - root_mean_squared_error: nan\n",
            "Epoch 91/100\n",
            "17/17 [==============================] - 0s 2ms/step - loss: nan - root_mean_squared_error: nan\n",
            "Epoch 92/100\n",
            "17/17 [==============================] - 0s 2ms/step - loss: nan - root_mean_squared_error: nan\n",
            "Epoch 93/100\n",
            "17/17 [==============================] - 0s 2ms/step - loss: nan - root_mean_squared_error: nan\n",
            "Epoch 94/100\n",
            "17/17 [==============================] - 0s 2ms/step - loss: nan - root_mean_squared_error: nan\n",
            "Epoch 95/100\n",
            "17/17 [==============================] - 0s 2ms/step - loss: nan - root_mean_squared_error: nan\n",
            "Epoch 96/100\n",
            "17/17 [==============================] - 0s 2ms/step - loss: nan - root_mean_squared_error: nan\n",
            "Epoch 97/100\n",
            "17/17 [==============================] - 0s 2ms/step - loss: nan - root_mean_squared_error: nan\n",
            "Epoch 98/100\n",
            "17/17 [==============================] - 0s 2ms/step - loss: nan - root_mean_squared_error: nan\n",
            "Epoch 99/100\n",
            "17/17 [==============================] - 0s 2ms/step - loss: nan - root_mean_squared_error: nan\n",
            "Epoch 100/100\n",
            "17/17 [==============================] - 0s 2ms/step - loss: nan - root_mean_squared_error: nan\n"
          ],
          "name": "stdout"
        },
        {
          "output_type": "execute_result",
          "data": {
            "text/plain": [
              "<tensorflow.python.keras.callbacks.History at 0x1f0993e0940>"
            ]
          },
          "metadata": {
            "tags": []
          },
          "execution_count": 136
        }
      ]
    },
    {
      "cell_type": "code",
      "metadata": {
        "id": "YYm-Px2rdnzM"
      },
      "source": [
        ""
      ],
      "execution_count": null,
      "outputs": []
    },
    {
      "cell_type": "code",
      "metadata": {
        "id": "DL5FJ3WpdnzM"
      },
      "source": [
        ""
      ],
      "execution_count": null,
      "outputs": []
    },
    {
      "cell_type": "code",
      "metadata": {
        "id": "4i113NgadnzM"
      },
      "source": [
        ""
      ],
      "execution_count": null,
      "outputs": []
    },
    {
      "cell_type": "code",
      "metadata": {
        "id": "c7ZBZNVndnzM"
      },
      "source": [
        ""
      ],
      "execution_count": null,
      "outputs": []
    },
    {
      "cell_type": "code",
      "metadata": {
        "id": "b2AESiNadnzN"
      },
      "source": [
        ""
      ],
      "execution_count": null,
      "outputs": []
    },
    {
      "cell_type": "code",
      "metadata": {
        "id": "lhCHOIINdnzN"
      },
      "source": [
        ""
      ],
      "execution_count": null,
      "outputs": []
    },
    {
      "cell_type": "code",
      "metadata": {
        "id": "ySQAiPTVdnzN"
      },
      "source": [
        ""
      ],
      "execution_count": null,
      "outputs": []
    },
    {
      "cell_type": "code",
      "metadata": {
        "id": "RJW5eYg-dnzN"
      },
      "source": [
        ""
      ],
      "execution_count": null,
      "outputs": []
    },
    {
      "cell_type": "code",
      "metadata": {
        "id": "PPJi9t2xdnzO"
      },
      "source": [
        ""
      ],
      "execution_count": null,
      "outputs": []
    },
    {
      "cell_type": "code",
      "metadata": {
        "id": "deWgPCn3Dpfs"
      },
      "source": [
        "hasil = pd.DataFrame()\n",
        "hasil['y_pred']=prediksi"
      ],
      "execution_count": null,
      "outputs": []
    },
    {
      "cell_type": "code",
      "metadata": {
        "id": "QmrZdroSDpfs"
      },
      "source": [
        "hasil['y_act'] = y_labeled"
      ],
      "execution_count": null,
      "outputs": []
    },
    {
      "cell_type": "code",
      "metadata": {
        "id": "vgaKdl2LDpfs"
      },
      "source": [
        "hasil['error'] = hasil['y_pred'] - hasil['y_act']"
      ],
      "execution_count": null,
      "outputs": []
    },
    {
      "cell_type": "code",
      "metadata": {
        "id": "48LBj25bDpft",
        "outputId": "1b795e9f-8405-4f82-988c-9fe9cf338a02"
      },
      "source": [
        "hasil[(hasil['error']>0) | (hasil['error']<0)]"
      ],
      "execution_count": null,
      "outputs": [
        {
          "output_type": "execute_result",
          "data": {
            "text/html": [
              "<div>\n",
              "<style scoped>\n",
              "    .dataframe tbody tr th:only-of-type {\n",
              "        vertical-align: middle;\n",
              "    }\n",
              "\n",
              "    .dataframe tbody tr th {\n",
              "        vertical-align: top;\n",
              "    }\n",
              "\n",
              "    .dataframe thead th {\n",
              "        text-align: right;\n",
              "    }\n",
              "</style>\n",
              "<table border=\"1\" class=\"dataframe\">\n",
              "  <thead>\n",
              "    <tr style=\"text-align: right;\">\n",
              "      <th></th>\n",
              "      <th>y_pred</th>\n",
              "      <th>y_act</th>\n",
              "      <th>error</th>\n",
              "    </tr>\n",
              "  </thead>\n",
              "  <tbody>\n",
              "    <tr>\n",
              "      <th>138</th>\n",
              "      <td>57604.0</td>\n",
              "      <td>86478.0</td>\n",
              "      <td>-28874.0</td>\n",
              "    </tr>\n",
              "    <tr>\n",
              "      <th>213</th>\n",
              "      <td>57604.0</td>\n",
              "      <td>100915.0</td>\n",
              "      <td>-43311.0</td>\n",
              "    </tr>\n",
              "    <tr>\n",
              "      <th>405</th>\n",
              "      <td>57604.0</td>\n",
              "      <td>14293.0</td>\n",
              "      <td>43311.0</td>\n",
              "    </tr>\n",
              "    <tr>\n",
              "      <th>449</th>\n",
              "      <td>57604.0</td>\n",
              "      <td>43167.0</td>\n",
              "      <td>14437.0</td>\n",
              "    </tr>\n",
              "    <tr>\n",
              "      <th>818</th>\n",
              "      <td>57604.0</td>\n",
              "      <td>43167.0</td>\n",
              "      <td>14437.0</td>\n",
              "    </tr>\n",
              "  </tbody>\n",
              "</table>\n",
              "</div>"
            ],
            "text/plain": [
              "      y_pred     y_act    error\n",
              "138  57604.0   86478.0 -28874.0\n",
              "213  57604.0  100915.0 -43311.0\n",
              "405  57604.0   14293.0  43311.0\n",
              "449  57604.0   43167.0  14437.0\n",
              "818  57604.0   43167.0  14437.0"
            ]
          },
          "metadata": {
            "tags": []
          },
          "execution_count": 219
        }
      ]
    },
    {
      "cell_type": "code",
      "metadata": {
        "id": "ju5b3qy9Dpft",
        "outputId": "2ef19436-eba0-47b9-efdc-5afb2093ea1e"
      },
      "source": [
        "sum(hasil['error'])"
      ],
      "execution_count": null,
      "outputs": [
        {
          "output_type": "execute_result",
          "data": {
            "text/plain": [
              "0.0"
            ]
          },
          "metadata": {
            "tags": []
          },
          "execution_count": 212
        }
      ]
    },
    {
      "cell_type": "code",
      "metadata": {
        "id": "5UVlzRYHDpfu",
        "outputId": "0e5ea15d-380a-4b9f-bffd-64f03ea8b735"
      },
      "source": [
        "error = np.array(hasil['error'])\n",
        "error"
      ],
      "execution_count": null,
      "outputs": [
        {
          "output_type": "execute_result",
          "data": {
            "text/plain": [
              "array([0., 0., 0., ..., 0., 0., 0.])"
            ]
          },
          "metadata": {
            "tags": []
          },
          "execution_count": 213
        }
      ]
    },
    {
      "cell_type": "code",
      "metadata": {
        "id": "F0vDuXq7Dpfu",
        "outputId": "7d4572ee-91a2-479d-8e9e-42fbec82d06a"
      },
      "source": [
        "sns.scatterplot(range(1043),hasil['error'])"
      ],
      "execution_count": null,
      "outputs": [
        {
          "output_type": "execute_result",
          "data": {
            "text/plain": [
              "<AxesSubplot:ylabel='error'>"
            ]
          },
          "metadata": {
            "tags": []
          },
          "execution_count": 217
        },
        {
          "output_type": "display_data",
          "data": {
            "image/png": "[encoded data removed]",
            "text/plain": [
              "<Figure size 432x288 with 1 Axes>"
            ]
          },
          "metadata": {
            "tags": [],
            "needs_background": "light"
          }
        }
      ]
    },
    {
      "cell_type": "code",
      "metadata": {
        "id": "JGRdhhhwDpfv"
      },
      "source": [
        ""
      ],
      "execution_count": null,
      "outputs": []
    },
    {
      "cell_type": "code",
      "metadata": {
        "id": "ZaGw7eoKDpfv"
      },
      "source": [
        ""
      ],
      "execution_count": null,
      "outputs": []
    },
    {
      "cell_type": "code",
      "metadata": {
        "id": "JosPgoXjDpfw"
      },
      "source": [
        "from sklearn.model_selection import train_test_split\n",
        "train_set, val_set = train_test_split(labeled, random_state = 123, test_size = 0.2)"
      ],
      "execution_count": null,
      "outputs": []
    },
    {
      "cell_type": "code",
      "metadata": {
        "id": "Mj6yep_ZDpfw"
      },
      "source": [
        "train_set.to_csv('train_set.csv', index = False, sep = ',')\n",
        "val_set.to_csv('val_set.csv', index = False, sep = ',')"
      ],
      "execution_count": null,
      "outputs": []
    },
    {
      "cell_type": "code",
      "metadata": {
        "id": "WBqUOrqMDpfx"
      },
      "source": [
        ""
      ],
      "execution_count": null,
      "outputs": []
    },
    {
      "cell_type": "code",
      "metadata": {
        "id": "r61Km-HWDpfx"
      },
      "source": [
        ""
      ],
      "execution_count": null,
      "outputs": []
    },
    {
      "cell_type": "code",
      "metadata": {
        "id": "Ch_6cq4EDpf1"
      },
      "source": [
        ""
      ],
      "execution_count": null,
      "outputs": []
    },
    {
      "cell_type": "code",
      "metadata": {
        "id": "eGj6Vw9yDpf2"
      },
      "source": [
        ""
      ],
      "execution_count": null,
      "outputs": []
    },
    {
      "cell_type": "code",
      "metadata": {
        "id": "m8BXb3YsDpf2"
      },
      "source": [
        ""
      ],
      "execution_count": null,
      "outputs": []
    },
    {
      "cell_type": "code",
      "metadata": {
        "id": "xaZSClo9Dpf2"
      },
      "source": [
        ""
      ],
      "execution_count": null,
      "outputs": []
    },
    {
      "cell_type": "code",
      "metadata": {
        "id": "gcXAWX8vDpf3"
      },
      "source": [
        ""
      ],
      "execution_count": null,
      "outputs": []
    },
    {
      "cell_type": "code",
      "metadata": {
        "id": "H9nB_TcJDpf3"
      },
      "source": [
        ""
      ],
      "execution_count": null,
      "outputs": []
    },
    {
      "cell_type": "code",
      "metadata": {
        "id": "CWgU8YLtDpf3"
      },
      "source": [
        ""
      ],
      "execution_count": null,
      "outputs": []
    },
    {
      "cell_type": "code",
      "metadata": {
        "id": "yNTs1zobDpf4"
      },
      "source": [
        ""
      ],
      "execution_count": null,
      "outputs": []
    },
    {
      "cell_type": "code",
      "metadata": {
        "id": "r1WTOpE6Dpf4"
      },
      "source": [
        ""
      ],
      "execution_count": null,
      "outputs": []
    },
    {
      "cell_type": "code",
      "metadata": {
        "id": "pwh2XrGUDpf4"
      },
      "source": [
        ""
      ],
      "execution_count": null,
      "outputs": []
    },
    {
      "cell_type": "code",
      "metadata": {
        "id": "fRWTDrqkDpf5"
      },
      "source": [
        ""
      ],
      "execution_count": null,
      "outputs": []
    },
    {
      "cell_type": "code",
      "metadata": {
        "id": "EHvzBGwLDpf5"
      },
      "source": [
        ""
      ],
      "execution_count": null,
      "outputs": []
    },
    {
      "cell_type": "code",
      "metadata": {
        "id": "1nnnsxfuDpf5"
      },
      "source": [
        ""
      ],
      "execution_count": null,
      "outputs": []
    },
    {
      "cell_type": "code",
      "metadata": {
        "id": "eQ7CXRR0Dpf6"
      },
      "source": [
        ""
      ],
      "execution_count": null,
      "outputs": []
    },
    {
      "cell_type": "code",
      "metadata": {
        "id": "fMXCF2x8Dpf6"
      },
      "source": [
        ""
      ],
      "execution_count": null,
      "outputs": []
    }
  ]
}